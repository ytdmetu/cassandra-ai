{
  "cells": [
    {
      "cell_type": "code",
      "execution_count": 1,
      "metadata": {
        "id": "UtrrRUy0Fmkc"
      },
      "outputs": [
        {
          "name": "stderr",
          "output_type": "stream",
          "text": [
            "wandb: Appending key for api.wandb.ai to your netrc file: C:\\Users\\salih/.netrc\n"
          ]
        }
      ],
      "source": [
        "import wandb\n",
        "\n",
        "wandb_username = \"salih-atabey\"\n",
        "wandb_token = \"dc4235e45945e40142c627826eb5c6f28d91260b\"\n",
        "\n",
        "!wandb login --relogin $wandb_token"
      ]
    },
    {
      "cell_type": "code",
      "execution_count": 2,
      "metadata": {
        "id": "6LGuDpV_FFGc"
      },
      "outputs": [
        {
          "name": "stderr",
          "output_type": "stream",
          "text": [
            "<frozen importlib._bootstrap>:228: RuntimeWarning: scipy._lib.messagestream.MessageStream size changed, may indicate binary incompatibility. Expected 56 from C header, got 64 from PyObject\n"
          ]
        }
      ],
      "source": [
        "import datetime\n",
        "import json\n",
        "import pickle\n",
        "import warnings\n",
        "from pathlib import Path\n",
        "\n",
        "import holidays\n",
        "import numpy as np\n",
        "import pandas as pd\n",
        "import torch\n",
        "import torch.nn as nn\n",
        "import wandb\n",
        "from fastai.callback.tracker import SaveModelCallback\n",
        "from fastai.callback.wandb import *\n",
        "from fastmsc.utils import *\n",
        "from more_itertools import windowed\n",
        "from pandas.api.types import CategoricalDtype\n",
        "from sklearn.compose import ColumnTransformer\n",
        "from sklearn.exceptions import UndefinedMetricWarning\n",
        "from sklearn.metrics import mean_absolute_percentage_error, mean_squared_error, r2_score\n",
        "from sklearn.preprocessing import OneHotEncoder, OrdinalEncoder, StandardScaler\n",
        "from tsai.all import *\n",
        "from tsai.data.tabular import EarlyStoppingCallback\n",
        "\n",
        "DEVICE = torch.device(\"cuda\" if torch.cuda.is_available() else \"cpu\")\n",
        "\n",
        "EXPORTS_DIR = Path(\"./exports\")\n",
        "FIGURES_DIR = Path(\"./figures\")\n",
        "\n",
        "# Data\n",
        "\n",
        "\n",
        "def load_stock_price_dataset(path):\n",
        "    return pd.read_csv(\n",
        "        str(path),\n",
        "        index_col=\"datetime\",\n",
        "        parse_dates=['datetime'],\n",
        "        usecols=[\"datetime\", \"Close\",\"news_label\",\"news_score\"],\n",
        "        na_values=[\"nan\"],\n",
        "    )\n",
        "\n",
        "\n",
        "# Splits\n",
        "\n",
        "\n",
        "def get_splits(df, cutoff_datetime):\n",
        "    if isinstance(cutoff_datetime, str):\n",
        "        cutoff_datetime = datetime.datetime.fromisoformat(cutoff_datetime)\n",
        "    start_date = df.index.min()\n",
        "    end_date = df.index.max()\n",
        "    assert cutoff_datetime > start_date\n",
        "    assert cutoff_datetime < end_date\n",
        "    indices = np.arange(len(df))\n",
        "    return (\n",
        "        indices[df.index < cutoff_datetime].tolist(),\n",
        "        indices[df.index >= cutoff_datetime].tolist(),\n",
        "    )\n",
        "\n",
        "\n",
        "# Features\n",
        "\n",
        "\n",
        "def is_us_holiday(dt):\n",
        "    return dt.strftime(\"%Y-%m-%d\") in holidays.UnitedStates()\n",
        "\n",
        "\n",
        "def extract_datetime_features(ds):\n",
        "    df = pd.DataFrame()\n",
        "    df.index = ds\n",
        "    df[\"year\"] = ds.year\n",
        "    df[\"month\"] = ds.month\n",
        "    df[\"day\"] = ds.day\n",
        "    df[\"hour\"] = ds.hour\n",
        "    df[\"day_of_year\"] = ds.day_of_year\n",
        "    df[\"week_of_year\"] = ds.weekofyear\n",
        "    df[\"month_name\"] = ds.month_name()\n",
        "    df[\"day_name\"] = ds.day_name()\n",
        "    df[\"is_weekend\"] = (ds.day_of_week == 5) | (ds.day_of_week == 6)\n",
        "    df[\"is_month_start\"] = ds.is_month_start\n",
        "    df[\"is_quarter_start\"] = ds.is_quarter_start\n",
        "    df[\"is_month_end\"] = ds.is_month_end\n",
        "    df[\"is_year_start\"] = ds.is_year_start\n",
        "    # US holidays\n",
        "    df[\"is_holiday\"] = pd.Series(ds.values).apply(is_us_holiday).values\n",
        "    df[\"is_day_before_holiday\"] = (\n",
        "        pd.Series(ds + datetime.timedelta(days=1)).map(is_us_holiday).values\n",
        "    )\n",
        "    df[\"is_day_after_holiday\"] = (\n",
        "        pd.Series(ds - datetime.timedelta(days=1)).map(is_us_holiday).values\n",
        "    )\n",
        "    return df\n",
        "\n",
        "\n",
        "def add_datetime_features(df):\n",
        "    return pd.concat([extract_datetime_features(df.index), df], axis=1)\n",
        "\n",
        "\n",
        "ORDINALS_INFO = []\n",
        "ORDINALS = [feat for feat, _ in ORDINALS_INFO]\n",
        "\n",
        "NOMINALS = [\n",
        "    \"hour\",\n",
        "    \"month_name\",\n",
        "    \"day_name\",\n",
        "    \"is_weekend\",\n",
        "    \"is_month_start\",\n",
        "    \"is_quarter_start\",\n",
        "    \"is_month_end\",\n",
        "    \"is_year_start\",\n",
        "    \"is_holiday\",\n",
        "    \"is_day_before_holiday\",\n",
        "    \"is_day_after_holiday\",\n",
        "]\n",
        "\n",
        "NUMERICALS = [\"day_of_year\", \"week_of_year\", \"price\", \"news_label\", \"news_score\"]\n",
        "\n",
        "UNUSED = []\n",
        "\n",
        "TARGET_VAR = \"price\"\n",
        "\n",
        "\n",
        "def set_col_dtypes(dataf):\n",
        "    dataf = dataf.drop(columns=UNUSED, errors=\"ignore\")\n",
        "\n",
        "    for col in NUMERICALS:\n",
        "        if col not in dataf.columns:\n",
        "            continue\n",
        "        dataf[col] = dataf[col].astype(\"float\")\n",
        "\n",
        "    for col, categories in ORDINALS_INFO:\n",
        "        if col not in dataf.columns:\n",
        "            continue\n",
        "        dataf[col] = dataf[col].astype(\n",
        "            CategoricalDtype(categories=categories, ordered=True)\n",
        "        )\n",
        "\n",
        "    for col in NOMINALS:\n",
        "        if col not in dataf.columns:\n",
        "            continue\n",
        "        dataf[col] = dataf[col].astype(\"category\")\n",
        "\n",
        "    existing_cols = set(dataf.columns)\n",
        "    col_order = [\n",
        "        col for col in NUMERICALS + ORDINALS + NOMINALS if col in existing_cols\n",
        "    ]\n",
        "    return dataf[col_order]\n",
        "\n",
        "\n",
        "def prepare_dataset(df):\n",
        "    return (\n",
        "        pd.DataFrame(index=df.index, data=dict(price=df.Close.values))\n",
        "        .pipe(add_datetime_features)\n",
        "        .pipe(set_col_dtypes)\n",
        "    )\n",
        "\n",
        "\n",
        "# Preprocessing\n",
        "\n",
        "\n",
        "def get_numerical_cols(dataf):\n",
        "    return dataf.select_dtypes(\"number\").columns.tolist()\n",
        "\n",
        "\n",
        "def get_ordinal_cols(dataf):\n",
        "    return [\n",
        "        col\n",
        "        for col in dataf.select_dtypes(\"category\").columns\n",
        "        if dataf[col].dtypes.ordered\n",
        "    ]\n",
        "\n",
        "\n",
        "def get_nominal_cols(dataf):\n",
        "    return [\n",
        "        col\n",
        "        for col in dataf.select_dtypes(\"category\").columns\n",
        "        if not dataf[col].dtypes.ordered\n",
        "    ]\n",
        "\n",
        "\n",
        "def make_preprocessor(x_train: pd.DataFrame):\n",
        "    from sklearn.pipeline import Pipeline\n",
        "\n",
        "    numerical_cols = get_numerical_cols(x_train)\n",
        "    num_transformer = Pipeline(\n",
        "        [\n",
        "            (\"scaler\", StandardScaler()),\n",
        "        ]\n",
        "    )\n",
        "\n",
        "    ordinal_cols = sorted(get_ordinal_cols(x_train))\n",
        "    ordinal_category_list = [\n",
        "        dt.categories.tolist() for dt in x_train[ordinal_cols].dtypes\n",
        "    ]\n",
        "    ordinal_transformer = Pipeline(\n",
        "        [\n",
        "            (\n",
        "                \"encoder\",\n",
        "                OrdinalEncoder(\n",
        "                    categories=ordinal_category_list,\n",
        "                    handle_unknown=\"use_encoded_value\",\n",
        "                    unknown_value=np.nan,\n",
        "                ),\n",
        "            ),\n",
        "        ]\n",
        "    )\n",
        "\n",
        "    nominal_cols = sorted(get_nominal_cols(x_train))\n",
        "    nominal_transformer = Pipeline(\n",
        "        [\n",
        "            (\"encoder\", OneHotEncoder(handle_unknown=\"ignore\", sparse=False)),\n",
        "        ]\n",
        "    )\n",
        "\n",
        "    preprocessor = Pipeline(\n",
        "        [\n",
        "            (\n",
        "                \"preprocess\",\n",
        "                ColumnTransformer(\n",
        "                    [\n",
        "                        (\"numerical\", num_transformer, numerical_cols),\n",
        "                        (\"ordinal\", ordinal_transformer, ordinal_cols),\n",
        "                        (\"nominal\", nominal_transformer, nominal_cols),\n",
        "                    ],\n",
        "                    remainder=\"drop\",\n",
        "                ),\n",
        "            )\n",
        "        ]\n",
        "    ).fit(x_train)\n",
        "\n",
        "    if nominal_cols:\n",
        "        nominal_enc_cols = (\n",
        "            preprocessor.named_steps[\"preprocess\"]\n",
        "            .transformers_[2][1]\n",
        "            .named_steps[\"encoder\"]\n",
        "            .get_feature_names_out(nominal_cols)\n",
        "            .tolist()\n",
        "        )\n",
        "    else:\n",
        "        nominal_enc_cols = []\n",
        "\n",
        "    preprocessor.feature_names_out_ = numerical_cols + ordinal_cols + nominal_enc_cols\n",
        "    return preprocessor\n",
        "\n",
        "\n",
        "def make_target_preprocessor(y_train):\n",
        "    return StandardScaler().fit(y_train.reshape(-1, 1))\n",
        "\n",
        "\n",
        "# Time-series dataset\n",
        "\n",
        "\n",
        "def sliding_window(data, window_size: int):\n",
        "    \"\"\"Makes snippets of data for sequence prediction by sliding a window with size `look_back`\n",
        "    Args:\n",
        "        data (np.array): data with x and y values, shape = (T, F)\n",
        "        window_size (int): window size\n",
        "    \"\"\"\n",
        "    # shape = (N, W, F)\n",
        "    return np.array(list(windowed(data, window_size)))\n",
        "\n",
        "\n",
        "def make_ts_samples(data, look_back, target_idx):\n",
        "    snippets = sliding_window(data, look_back)\n",
        "    x = np.swapaxes(snippets[:, :-1, :], 1, 2)  # (N, W-1, F)\n",
        "    y = snippets[:, -1, target_idx]  # (N, )\n",
        "    return x, y\n",
        "\n",
        "\n",
        "def make_ts_dataset_split(train_x, train_y, val_x, val_y):\n",
        "    x = np.concatenate([train_x, val_x], axis=0)\n",
        "    y = np.concatenate([train_y, val_y], axis=0)\n",
        "    splits = list(range(len(train_x))), list(range(len(train_x), len(x)))\n",
        "    return x, y, splits\n",
        "\n",
        "\n",
        "# Evaluate\n",
        "def visualize_predictions(dates, prices, preds):\n",
        "    prices = prices.reshape(-1, 1)\n",
        "    preds = preds.reshape(-1, 1)\n",
        "\n",
        "    figure, axes = plt.subplots(figsize=(15, 6))\n",
        "    axes.xaxis_date()\n",
        "    axes.plot(dates, prices, color=\"red\", label=\"Real Stock Price\")\n",
        "    axes.plot(dates, preds, color=\"blue\", label=\"Predicted Stock Price\")\n",
        "    plt.title(\"Stock Price Prediction\")\n",
        "    plt.xlabel(\"Time\")\n",
        "    plt.ylabel(f\"Stock Price\")\n",
        "    plt.legend()\n",
        "\n",
        "    for metric_name, metric, fmt in [\n",
        "        (\"MSE\", mean_squared_error, \".4f\"),\n",
        "        (\"R2\", r2_score, \".2%\"),\n",
        "        (\"MAPE\", mean_absolute_percentage_error, \".2%\"),\n",
        "    ]:\n",
        "        score = metric(prices, preds)\n",
        "        print(f\"{metric_name}: {score:{fmt}}\")\n",
        "\n",
        "    return figure\n",
        "\n",
        "\n",
        "# Train\n",
        "\n",
        "\n",
        "def make_arch(architecture):\n",
        "    if architecture is None:\n",
        "        return None\n",
        "    if architecture == \"LSTMPlus\":\n",
        "        return LSTMPlus\n",
        "    if architecture == \"InceptionTime\":\n",
        "        return InceptionTime\n",
        "    if architecture == \"InceptionTimePlus\":\n",
        "        return InceptionTimePlus\n",
        "    raise ValueError(architecture)\n",
        "\n",
        "\n",
        "def train_eval_infer(\n",
        "    config,\n",
        "    df,\n",
        "    row_splits,\n",
        "    wandb_run=None,\n",
        "):\n",
        "    # preprocessing\n",
        "    xpp = make_preprocessor(df.iloc[row_splits[0]])\n",
        "    ypp = make_target_preprocessor(df.iloc[row_splits[0]][TARGET_VAR].values)\n",
        "    data_pp = xpp.transform(df)\n",
        "\n",
        "    # split\n",
        "    target_idx = df.columns.tolist().index(TARGET_VAR)\n",
        "    look_back = config[\"data\"][\"look_back\"]  # choose sequence length\n",
        "    train_x, train_y = make_ts_samples(data_pp[row_splits[0]], look_back, target_idx)\n",
        "    val_x, val_y = make_ts_samples(data_pp[row_splits[1]], look_back, target_idx)\n",
        "    x, y, splits = make_ts_dataset_split(train_x, train_y, val_x, val_y)\n",
        "\n",
        "    # callbacks\n",
        "    cbs = [SaveModelCallback()]\n",
        "    early_stop_patience = config[\"model\"].get(\"early_stop_patience\")\n",
        "    if early_stop_patience:\n",
        "        cbs.append(EarlyStoppingCallback(patience=early_stop_patience))\n",
        "    if wandb_run:\n",
        "        cbs.append(WandbCallback())\n",
        "\n",
        "    # learn\n",
        "    bs = config[\"model\"][\"batch_size\"]\n",
        "    learn = TSRegressor(\n",
        "        x,\n",
        "        y,\n",
        "        splits=splits,\n",
        "        bs=bs,\n",
        "        arch=make_arch(config[\"model\"][\"architecture\"]),\n",
        "        metrics=[rmse, mape],\n",
        "        train_metrics=True,\n",
        "        cbs=cbs,\n",
        "    )\n",
        "\n",
        "    # learning rate\n",
        "    lr = config[\"model\"].get(\"lr\")\n",
        "    if lr is None:\n",
        "        lr_res = learn.lr_find(start_lr=1e-6, end_lr=1e-1, num_it=200)\n",
        "        lr = lr_res.valley\n",
        "\n",
        "    # fit\n",
        "    with warnings.catch_warnings():\n",
        "        warnings.filterwarnings(\n",
        "            action=\"ignore\", category=UndefinedMetricWarning, module=r\".*\"\n",
        "        )\n",
        "        epochs = config[\"model\"][\"epochs\"]\n",
        "        learn.fit_one_cycle(epochs, lr)\n",
        "\n",
        "    learn.remove_cb(SaveModelCallback)\n",
        "    learn.remove_cb(WandbCallback)\n",
        "    learn.remove_cb(EarlyStoppingCallback)\n",
        "\n",
        "    # evaluate\n",
        "\n",
        "    def inverse_transform_target(y):\n",
        "        return ypp.inverse_transform(np.array(y).reshape(-1, 1))\n",
        "\n",
        "    def evaluate(split_idx):\n",
        "        split_name = [\"train\", \"validation\"][split_idx]\n",
        "        print()\n",
        "        print(f\"{config['model']['architecture']} - {split_name} set\")\n",
        "        print(\"=\" * 80)\n",
        "        split = splits[split_idx]\n",
        "        dates = df.iloc[row_splits[split_idx]].index[look_back - 1 :]\n",
        "        prices = inverse_transform_target(y[split])\n",
        "        _, _, y_pred = learn.get_X_preds(x[split])\n",
        "        preds = inverse_transform_target(y_pred)\n",
        "        fig = visualize_predictions(dates, prices, preds)\n",
        "        print(\"=\" * 80)\n",
        "        plt.savefig(FIGURES_DIR / f\"{split_name}-backtest.png\", dpi=400)\n",
        "\n",
        "    evaluate(0)\n",
        "    evaluate(1)\n",
        "    return xpp, ypp, learn\n",
        "\n",
        "\n",
        "# Export\n",
        "\n",
        "\n",
        "def log_file_artifact(wandb_run, path, name, type):\n",
        "    artifact = wandb.Artifact(name, type=type)\n",
        "    artifact.add_file(path)\n",
        "    return wandb_run.log_artifact(artifact)\n",
        "\n",
        "\n",
        "def log_training_dataset(df, wandb_run=None):\n",
        "    df = df.reset_index()\n",
        "    artifact_name = \"training_dataframe\"\n",
        "\n",
        "    path = f\"{artifact_name}.json\"\n",
        "    df.to_json(path, orient=\"records\")\n",
        "\n",
        "    if wandb_run:\n",
        "        log_file_artifact(wandb_run, path, artifact_name, type=\"dataset\")\n",
        "        wandb.log(\n",
        "            dict(\n",
        "                df=wandb.Table(dataframe=df),\n",
        "            )\n",
        "        )\n",
        "    return path\n",
        "\n",
        "\n",
        "def log_learner(learn, wandb_run=None):\n",
        "    path = EXPORTS_DIR / \"learn.pkl\"\n",
        "    learn.export(path)\n",
        "    if wandb_run:\n",
        "        log_file_artifact(wandb_run, path, \"learn\", type=\"model\")\n",
        "    return path\n",
        "\n",
        "\n",
        "def log_preprocessor(pp, name, wandb_run=None):\n",
        "    path = EXPORTS_DIR / f\"{name}.pkl\"\n",
        "    with open(path, \"wb\") as f:\n",
        "        pickle.dump(pp, f)\n",
        "    if wandb_run:\n",
        "        log_file_artifact(wandb_run, path, name, type=\"preprocessor\")\n",
        "    return path\n",
        "\n",
        "\n",
        "# Experiment\n",
        "\n",
        "\n",
        "def run_experiment(config):\n",
        "    seed = config.get(\"seed\")\n",
        "    if seed is not None:\n",
        "        set_seed(seed)\n",
        "\n",
        "    # wandb\n",
        "    wandb_run = None\n",
        "    if config.get(\"wandb\", {}).get(\"wandb_enabled\", False):\n",
        "        wandb_run = wandb.init(\n",
        "            project=config[\"wandb\"][\"wandb_project\"],\n",
        "            entity=config[\"wandb\"][\"wandb_username\"],\n",
        "        )\n",
        "        config[\"data\"][\"features\"] = ORDINALS + NOMINALS + NUMERICALS\n",
        "        wandb.config.update(flatten_dict(config))\n",
        "\n",
        "    # data\n",
        "    dataset_path = config[\"data\"][\"path\"]\n",
        "    if wandb_run:\n",
        "        artifact_dir = wandb_run.use_artifact(dataset_path, type=\"raw_data\").download()\n",
        "        dataset_path = f\"./{artifact_dir}/df_price.csv\"\n",
        "\n",
        "    df = load_stock_price_dataset(dataset_path).pipe(prepare_dataset)\n",
        "    row_splits = get_splits(df, config[\"data\"][\"split_date\"])\n",
        "    df[\"is_validation\"] = False\n",
        "    df.iloc[row_splits[1], df.columns.get_loc(\"is_validation\")] = True\n",
        "    print(\"validation/train ratio\", len(row_splits[1]) / len(row_splits[0]))\n",
        "\n",
        "    # experiment\n",
        "    xpp, ypp, learn = train_eval_infer(\n",
        "        config,\n",
        "        df,\n",
        "        row_splits,\n",
        "        wandb_run=wandb_run,\n",
        "    )\n",
        "\n",
        "    # log artifacts\n",
        "    log_training_dataset(df, wandb_run)\n",
        "    log_preprocessor(xpp, \"xpp\", wandb_run)\n",
        "    log_preprocessor(ypp, \"ypp\", wandb_run)\n",
        "    log_learner(learn, wandb_run)\n",
        "\n",
        "    # wrap up\n",
        "    if wandb_run:\n",
        "        wandb.finish()\n",
        "\n",
        "\n",
        "def make_experiment_dir(root=\".\", name=None):\n",
        "    name = name or generate_time_id()\n",
        "    experiment_dir = Path(root) / name\n",
        "    experiment_dir.mkdir(parents=True, exist_ok=True)\n",
        "    return experiment_dir\n"
      ]
    },
    {
      "cell_type": "code",
      "execution_count": 3,
      "metadata": {
        "id": "yXMZGw3hFdSB"
      },
      "outputs": [],
      "source": [
        "base_config = {\n",
        "  \"seed\": 42,\n",
        "  \"wandb\": {\n",
        "    \"wandb_enabled\": True,\n",
        "    \"wandb_username\": \"ytdteam\",\n",
        "    \"wandb_project\": \"ytd-cassandra-forecast\"\n",
        "  },\n",
        "  \"data\": {\n",
        "    \"path\": \"ytdteam/ytd-cassandra-forecast/meta-stock-price-with-news:v0\",\n",
        "    \"stock_id\": \"META\",\n",
        "    \"split_date\": \"2022-10-01\",\n",
        "    \"look_back\": 60\n",
        "  },\n",
        "  \"model\": {\n",
        "    \"batch_size\": 128,\n",
        "    \"architecture\": \"LSTMPlus\",\n",
        "    \"epochs\": 50,\n",
        "    \"early_stop_patience\": 5,\n",
        "  }\n",
        "}\n"
      ]
    },
    {
      "cell_type": "code",
      "execution_count": 4,
      "metadata": {
        "id": "rdK9Ry4uGrzU"
      },
      "outputs": [],
      "source": [
        "def run_sweep_experiment(config=None):\n",
        "    EXPORTS_DIR.mkdir(parents=True, exist_ok=True)\n",
        "    FIGURES_DIR.mkdir(parents=True, exist_ok=True)\n",
        "    with wandb.init(config=config):\n",
        "        config = wandb.config\n",
        "        base_config['data']['look_back'] = config['look_back']\n",
        "        base_config['model']['architecture'] = config['architecture']\n",
        "        base_config['model']['batch_size'] = config['batch_size']\n",
        "        run_experiment(base_config)"
      ]
    },
    {
      "cell_type": "code",
      "execution_count": 5,
      "metadata": {
        "id": "yveZSYlLFumT"
      },
      "outputs": [
        {
          "name": "stderr",
          "output_type": "stream",
          "text": [
            "Failed to detect the name of this notebook, you can set it manually with the WANDB_NOTEBOOK_NAME environment variable to enable code saving.\n"
          ]
        },
        {
          "name": "stdout",
          "output_type": "stream",
          "text": [
            "Create sweep with ID: 1ox2invt\n",
            "Sweep URL: https://wandb.ai/ytdteam/ytd-cassandra-forecast/sweeps/1ox2invt\n"
          ]
        },
        {
          "name": "stderr",
          "output_type": "stream",
          "text": [
            "\u001b[34m\u001b[1mwandb\u001b[0m: Agent Starting Run: 6szvc9ly with config:\n",
            "\u001b[34m\u001b[1mwandb\u001b[0m: \tarchitecture: LSTMPlus\n",
            "\u001b[34m\u001b[1mwandb\u001b[0m: \tbatch_size: 64\n",
            "\u001b[34m\u001b[1mwandb\u001b[0m: \tlook_back: 32\n",
            "Failed to detect the name of this notebook, you can set it manually with the WANDB_NOTEBOOK_NAME environment variable to enable code saving.\n",
            "\u001b[34m\u001b[1mwandb\u001b[0m: Currently logged in as: \u001b[33msalih-atabey\u001b[0m (\u001b[33mytdteam\u001b[0m). Use \u001b[1m`wandb login --relogin`\u001b[0m to force relogin\n"
          ]
        },
        {
          "data": {
            "text/html": [
              "wandb version 0.13.7 is available!  To upgrade, please run:\n",
              " $ pip install wandb --upgrade"
            ],
            "text/plain": [
              "<IPython.core.display.HTML object>"
            ]
          },
          "metadata": {},
          "output_type": "display_data"
        },
        {
          "data": {
            "text/html": [
              "Tracking run with wandb version 0.13.5"
            ],
            "text/plain": [
              "<IPython.core.display.HTML object>"
            ]
          },
          "metadata": {},
          "output_type": "display_data"
        },
        {
          "data": {
            "text/html": [
              "Run data is saved locally in <code>d:\\git\\cassandra-ai\\notebooks\\wandb\\run-20221221_235121-6szvc9ly</code>"
            ],
            "text/plain": [
              "<IPython.core.display.HTML object>"
            ]
          },
          "metadata": {},
          "output_type": "display_data"
        },
        {
          "data": {
            "text/html": [
              "Syncing run <strong><a href=\"https://wandb.ai/ytdteam/ytd-cassandra-forecast/runs/6szvc9ly\" target=\"_blank\">snowy-sweep-1</a></strong> to <a href=\"https://wandb.ai/ytdteam/ytd-cassandra-forecast\" target=\"_blank\">Weights & Biases</a> (<a href=\"https://wandb.me/run\" target=\"_blank\">docs</a>)<br/>Sweep page:  <a href=\"https://wandb.ai/ytdteam/ytd-cassandra-forecast/sweeps/1ox2invt\" target=\"_blank\">https://wandb.ai/ytdteam/ytd-cassandra-forecast/sweeps/1ox2invt</a>"
            ],
            "text/plain": [
              "<IPython.core.display.HTML object>"
            ]
          },
          "metadata": {},
          "output_type": "display_data"
        },
        {
          "name": "stderr",
          "output_type": "stream",
          "text": [
            "\u001b[34m\u001b[1mwandb\u001b[0m: \u001b[33mWARNING\u001b[0m Ignored wandb.init() arg project when running a sweep.\n",
            "\u001b[34m\u001b[1mwandb\u001b[0m: \u001b[33mWARNING\u001b[0m Ignored wandb.init() arg entity when running a sweep.\n"
          ]
        },
        {
          "data": {
            "text/html": [
              "Finishing last run (ID:6szvc9ly) before initializing another..."
            ],
            "text/plain": [
              "<IPython.core.display.HTML object>"
            ]
          },
          "metadata": {},
          "output_type": "display_data"
        },
        {
          "data": {
            "text/html": [
              "Waiting for W&B process to finish... <strong style=\"color:green\">(success).</strong>"
            ],
            "text/plain": [
              "<IPython.core.display.HTML object>"
            ]
          },
          "metadata": {},
          "output_type": "display_data"
        },
        {
          "data": {
            "text/html": [
              "Synced <strong style=\"color:#cdcd00\">snowy-sweep-1</strong>: <a href=\"https://wandb.ai/ytdteam/ytd-cassandra-forecast/runs/6szvc9ly\" target=\"_blank\">https://wandb.ai/ytdteam/ytd-cassandra-forecast/runs/6szvc9ly</a><br/>Synced 6 W&B file(s), 0 media file(s), 0 artifact file(s) and 0 other file(s)"
            ],
            "text/plain": [
              "<IPython.core.display.HTML object>"
            ]
          },
          "metadata": {},
          "output_type": "display_data"
        },
        {
          "data": {
            "text/html": [
              "Find logs at: <code>.\\wandb\\run-20221221_235121-6szvc9ly\\logs</code>"
            ],
            "text/plain": [
              "<IPython.core.display.HTML object>"
            ]
          },
          "metadata": {},
          "output_type": "display_data"
        },
        {
          "data": {
            "text/html": [
              "Successfully finished last run (ID:6szvc9ly). Initializing new run:<br/>"
            ],
            "text/plain": [
              "<IPython.core.display.HTML object>"
            ]
          },
          "metadata": {},
          "output_type": "display_data"
        },
        {
          "data": {
            "application/vnd.jupyter.widget-view+json": {
              "model_id": "06165f165e9942428c0973f4dd06380e",
              "version_major": 2,
              "version_minor": 0
            },
            "text/plain": [
              "VBox(children=(Label(value='Waiting for wandb.init()...\\r'), FloatProgress(value=0.016916666666656966, max=1.0…"
            ]
          },
          "metadata": {},
          "output_type": "display_data"
        },
        {
          "data": {
            "text/html": [
              "wandb version 0.13.7 is available!  To upgrade, please run:\n",
              " $ pip install wandb --upgrade"
            ],
            "text/plain": [
              "<IPython.core.display.HTML object>"
            ]
          },
          "metadata": {},
          "output_type": "display_data"
        },
        {
          "data": {
            "text/html": [
              "Tracking run with wandb version 0.13.5"
            ],
            "text/plain": [
              "<IPython.core.display.HTML object>"
            ]
          },
          "metadata": {},
          "output_type": "display_data"
        },
        {
          "data": {
            "text/html": [
              "Run data is saved locally in <code>d:\\git\\cassandra-ai\\notebooks\\wandb\\run-20221221_235127-6szvc9ly</code>"
            ],
            "text/plain": [
              "<IPython.core.display.HTML object>"
            ]
          },
          "metadata": {},
          "output_type": "display_data"
        },
        {
          "data": {
            "text/html": [
              "Syncing run <strong><a href=\"https://wandb.ai/ytdteam/ytd-cassandra-forecast/runs/6szvc9ly\" target=\"_blank\">snowy-sweep-1</a></strong> to <a href=\"https://wandb.ai/ytdteam/ytd-cassandra-forecast\" target=\"_blank\">Weights & Biases</a> (<a href=\"https://wandb.me/run\" target=\"_blank\">docs</a>)<br/>Sweep page:  <a href=\"https://wandb.ai/ytdteam/ytd-cassandra-forecast/sweeps/1ox2invt\" target=\"_blank\">https://wandb.ai/ytdteam/ytd-cassandra-forecast/sweeps/1ox2invt</a>"
            ],
            "text/plain": [
              "<IPython.core.display.HTML object>"
            ]
          },
          "metadata": {},
          "output_type": "display_data"
        },
        {
          "name": "stderr",
          "output_type": "stream",
          "text": [
            "\u001b[34m\u001b[1mwandb\u001b[0m: \u001b[33mWARNING\u001b[0m Config item 'look_back' was locked by 'sweep' (ignored update).\n",
            "\u001b[34m\u001b[1mwandb\u001b[0m: \u001b[33mWARNING\u001b[0m Config item 'batch_size' was locked by 'sweep' (ignored update).\n",
            "\u001b[34m\u001b[1mwandb\u001b[0m: \u001b[33mWARNING\u001b[0m Config item 'architecture' was locked by 'sweep' (ignored update).\n",
            "\u001b[34m\u001b[1mwandb\u001b[0m:   1 of 1 files downloaded.  \n"
          ]
        },
        {
          "name": "stdout",
          "output_type": "stream",
          "text": [
            "validation/train ratio 0.20809248554913296\n"
          ]
        },
        {
          "data": {
            "text/html": [
              "\n",
              "<style>\n",
              "    /* Turns off some styling */\n",
              "    progress {\n",
              "        /* gets rid of default border in Firefox and Opera. */\n",
              "        border: none;\n",
              "        /* Needs to be in here for Safari polyfill so background images work as expected. */\n",
              "        background-size: auto;\n",
              "    }\n",
              "    progress:not([value]), progress:not([value])::-webkit-progress-bar {\n",
              "        background: repeating-linear-gradient(45deg, #7e7e7e, #7e7e7e 10px, #5c5c5c 10px, #5c5c5c 20px);\n",
              "    }\n",
              "    .progress-bar-interrupted, .progress-bar-interrupted::-webkit-progress-bar {\n",
              "        background: #F44336;\n",
              "    }\n",
              "</style>\n"
            ],
            "text/plain": [
              "<IPython.core.display.HTML object>"
            ]
          },
          "metadata": {},
          "output_type": "display_data"
        },
        {
          "data": {
            "text/html": [],
            "text/plain": [
              "<IPython.core.display.HTML object>"
            ]
          },
          "metadata": {},
          "output_type": "display_data"
        },
        {
          "name": "stdout",
          "output_type": "stream",
          "text": [
            "WandbCallback was not able to prepare a DataLoader for logging prediction samples -> 'NoneType' object is not iterable\n"
          ]
        },
        {
          "data": {
            "text/html": [
              "\n",
              "<style>\n",
              "    /* Turns off some styling */\n",
              "    progress {\n",
              "        /* gets rid of default border in Firefox and Opera. */\n",
              "        border: none;\n",
              "        /* Needs to be in here for Safari polyfill so background images work as expected. */\n",
              "        background-size: auto;\n",
              "    }\n",
              "    progress:not([value]), progress:not([value])::-webkit-progress-bar {\n",
              "        background: repeating-linear-gradient(45deg, #7e7e7e, #7e7e7e 10px, #5c5c5c 10px, #5c5c5c 20px);\n",
              "    }\n",
              "    .progress-bar-interrupted, .progress-bar-interrupted::-webkit-progress-bar {\n",
              "        background: #F44336;\n",
              "    }\n",
              "</style>\n"
            ],
            "text/plain": [
              "<IPython.core.display.HTML object>"
            ]
          },
          "metadata": {},
          "output_type": "display_data"
        },
        {
          "data": {
            "text/html": [
              "<table border=\"1\" class=\"dataframe\">\n",
              "  <thead>\n",
              "    <tr style=\"text-align: left;\">\n",
              "      <th>epoch</th>\n",
              "      <th>train_loss</th>\n",
              "      <th>train__rmse</th>\n",
              "      <th>train_mape</th>\n",
              "      <th>valid_loss</th>\n",
              "      <th>valid__rmse</th>\n",
              "      <th>valid_mape</th>\n",
              "      <th>time</th>\n",
              "    </tr>\n",
              "  </thead>\n",
              "  <tbody>\n",
              "    <tr>\n",
              "      <td>0</td>\n",
              "      <td>0.842227</td>\n",
              "      <td>0.923683</td>\n",
              "      <td>40718348.000000</td>\n",
              "      <td>5.119959</td>\n",
              "      <td>2.262733</td>\n",
              "      <td>221379184.000000</td>\n",
              "      <td>00:00</td>\n",
              "    </tr>\n",
              "    <tr>\n",
              "      <td>1</td>\n",
              "      <td>0.757429</td>\n",
              "      <td>0.839216</td>\n",
              "      <td>33548572.000000</td>\n",
              "      <td>3.996292</td>\n",
              "      <td>1.999073</td>\n",
              "      <td>194550272.000000</td>\n",
              "      <td>00:00</td>\n",
              "    </tr>\n",
              "    <tr>\n",
              "      <td>2</td>\n",
              "      <td>0.631249</td>\n",
              "      <td>0.706345</td>\n",
              "      <td>24318518.000000</td>\n",
              "      <td>2.616872</td>\n",
              "      <td>1.617675</td>\n",
              "      <td>155460160.000000</td>\n",
              "      <td>00:00</td>\n",
              "    </tr>\n",
              "    <tr>\n",
              "      <td>3</td>\n",
              "      <td>0.479504</td>\n",
              "      <td>0.505389</td>\n",
              "      <td>15742224.000000</td>\n",
              "      <td>1.257272</td>\n",
              "      <td>1.121281</td>\n",
              "      <td>102952784.000000</td>\n",
              "      <td>00:00</td>\n",
              "    </tr>\n",
              "    <tr>\n",
              "      <td>4</td>\n",
              "      <td>0.363972</td>\n",
              "      <td>0.406641</td>\n",
              "      <td>13747433.000000</td>\n",
              "      <td>1.678833</td>\n",
              "      <td>1.295698</td>\n",
              "      <td>122364008.000000</td>\n",
              "      <td>00:00</td>\n",
              "    </tr>\n",
              "    <tr>\n",
              "      <td>5</td>\n",
              "      <td>0.274742</td>\n",
              "      <td>0.322216</td>\n",
              "      <td>10234269.000000</td>\n",
              "      <td>1.150995</td>\n",
              "      <td>1.072844</td>\n",
              "      <td>98828400.000000</td>\n",
              "      <td>00:00</td>\n",
              "    </tr>\n",
              "    <tr>\n",
              "      <td>6</td>\n",
              "      <td>0.201630</td>\n",
              "      <td>0.234622</td>\n",
              "      <td>7625561.000000</td>\n",
              "      <td>0.851253</td>\n",
              "      <td>0.922634</td>\n",
              "      <td>83391152.000000</td>\n",
              "      <td>00:00</td>\n",
              "    </tr>\n",
              "    <tr>\n",
              "      <td>7</td>\n",
              "      <td>0.148563</td>\n",
              "      <td>0.194214</td>\n",
              "      <td>6517000.000000</td>\n",
              "      <td>0.728607</td>\n",
              "      <td>0.853585</td>\n",
              "      <td>76711472.000000</td>\n",
              "      <td>00:00</td>\n",
              "    </tr>\n",
              "    <tr>\n",
              "      <td>8</td>\n",
              "      <td>0.110790</td>\n",
              "      <td>0.170231</td>\n",
              "      <td>5708648.000000</td>\n",
              "      <td>0.559315</td>\n",
              "      <td>0.747874</td>\n",
              "      <td>65628852.000000</td>\n",
              "      <td>00:00</td>\n",
              "    </tr>\n",
              "    <tr>\n",
              "      <td>9</td>\n",
              "      <td>0.084004</td>\n",
              "      <td>0.159425</td>\n",
              "      <td>5215158.000000</td>\n",
              "      <td>0.426966</td>\n",
              "      <td>0.653427</td>\n",
              "      <td>54579416.000000</td>\n",
              "      <td>00:00</td>\n",
              "    </tr>\n",
              "    <tr>\n",
              "      <td>10</td>\n",
              "      <td>0.065104</td>\n",
              "      <td>0.151897</td>\n",
              "      <td>4908383.500000</td>\n",
              "      <td>0.446290</td>\n",
              "      <td>0.668050</td>\n",
              "      <td>58261384.000000</td>\n",
              "      <td>00:00</td>\n",
              "    </tr>\n",
              "    <tr>\n",
              "      <td>11</td>\n",
              "      <td>0.050933</td>\n",
              "      <td>0.140612</td>\n",
              "      <td>4756902.000000</td>\n",
              "      <td>0.361019</td>\n",
              "      <td>0.600848</td>\n",
              "      <td>49822388.000000</td>\n",
              "      <td>00:00</td>\n",
              "    </tr>\n",
              "    <tr>\n",
              "      <td>12</td>\n",
              "      <td>0.041006</td>\n",
              "      <td>0.135282</td>\n",
              "      <td>4495086.000000</td>\n",
              "      <td>0.378277</td>\n",
              "      <td>0.615042</td>\n",
              "      <td>52561452.000000</td>\n",
              "      <td>00:00</td>\n",
              "    </tr>\n",
              "    <tr>\n",
              "      <td>13</td>\n",
              "      <td>0.034187</td>\n",
              "      <td>0.136983</td>\n",
              "      <td>4284903.000000</td>\n",
              "      <td>0.345607</td>\n",
              "      <td>0.587883</td>\n",
              "      <td>49527720.000000</td>\n",
              "      <td>00:00</td>\n",
              "    </tr>\n",
              "    <tr>\n",
              "      <td>14</td>\n",
              "      <td>0.028505</td>\n",
              "      <td>0.125715</td>\n",
              "      <td>3991639.500000</td>\n",
              "      <td>0.317499</td>\n",
              "      <td>0.563470</td>\n",
              "      <td>46541696.000000</td>\n",
              "      <td>00:00</td>\n",
              "    </tr>\n",
              "    <tr>\n",
              "      <td>15</td>\n",
              "      <td>0.025057</td>\n",
              "      <td>0.131366</td>\n",
              "      <td>4419246.000000</td>\n",
              "      <td>0.383454</td>\n",
              "      <td>0.619237</td>\n",
              "      <td>53817376.000000</td>\n",
              "      <td>00:00</td>\n",
              "    </tr>\n",
              "    <tr>\n",
              "      <td>16</td>\n",
              "      <td>0.021680</td>\n",
              "      <td>0.117533</td>\n",
              "      <td>3859637.250000</td>\n",
              "      <td>0.256004</td>\n",
              "      <td>0.505969</td>\n",
              "      <td>40318740.000000</td>\n",
              "      <td>00:00</td>\n",
              "    </tr>\n",
              "    <tr>\n",
              "      <td>17</td>\n",
              "      <td>0.019479</td>\n",
              "      <td>0.119179</td>\n",
              "      <td>4155207.000000</td>\n",
              "      <td>0.313018</td>\n",
              "      <td>0.559480</td>\n",
              "      <td>47142652.000000</td>\n",
              "      <td>00:00</td>\n",
              "    </tr>\n",
              "    <tr>\n",
              "      <td>18</td>\n",
              "      <td>0.017207</td>\n",
              "      <td>0.110350</td>\n",
              "      <td>3596947.000000</td>\n",
              "      <td>0.261551</td>\n",
              "      <td>0.511421</td>\n",
              "      <td>41691368.000000</td>\n",
              "      <td>00:00</td>\n",
              "    </tr>\n",
              "    <tr>\n",
              "      <td>19</td>\n",
              "      <td>0.015735</td>\n",
              "      <td>0.111856</td>\n",
              "      <td>3761117.250000</td>\n",
              "      <td>0.296922</td>\n",
              "      <td>0.544905</td>\n",
              "      <td>46138172.000000</td>\n",
              "      <td>00:00</td>\n",
              "    </tr>\n",
              "    <tr>\n",
              "      <td>20</td>\n",
              "      <td>0.014360</td>\n",
              "      <td>0.105847</td>\n",
              "      <td>3424762.750000</td>\n",
              "      <td>0.273643</td>\n",
              "      <td>0.523109</td>\n",
              "      <td>43702356.000000</td>\n",
              "      <td>00:00</td>\n",
              "    </tr>\n",
              "    <tr>\n",
              "      <td>21</td>\n",
              "      <td>0.013345</td>\n",
              "      <td>0.106037</td>\n",
              "      <td>3454421.000000</td>\n",
              "      <td>0.263838</td>\n",
              "      <td>0.513651</td>\n",
              "      <td>42812504.000000</td>\n",
              "      <td>00:00</td>\n",
              "    </tr>\n",
              "  </tbody>\n",
              "</table>"
            ],
            "text/plain": [
              "<IPython.core.display.HTML object>"
            ]
          },
          "metadata": {},
          "output_type": "display_data"
        },
        {
          "name": "stdout",
          "output_type": "stream",
          "text": [
            "Better model found at epoch 0 with valid_loss value: 5.119958877563477.\n",
            "Better model found at epoch 1 with valid_loss value: 3.9962918758392334.\n",
            "Better model found at epoch 2 with valid_loss value: 2.6168715953826904.\n",
            "Better model found at epoch 3 with valid_loss value: 1.2572720050811768.\n",
            "Better model found at epoch 5 with valid_loss value: 1.1509946584701538.\n",
            "Better model found at epoch 6 with valid_loss value: 0.85125333070755.\n",
            "Better model found at epoch 7 with valid_loss value: 0.7286071181297302.\n",
            "Better model found at epoch 8 with valid_loss value: 0.5593151450157166.\n",
            "Better model found at epoch 9 with valid_loss value: 0.4269663989543915.\n",
            "Better model found at epoch 11 with valid_loss value: 0.36101871728897095.\n",
            "Better model found at epoch 13 with valid_loss value: 0.3456067740917206.\n",
            "Better model found at epoch 14 with valid_loss value: 0.31749874353408813.\n",
            "Better model found at epoch 16 with valid_loss value: 0.256004273891449.\n",
            "No improvement since epoch 16: early stopping\n",
            "\n",
            "LSTMPlus - train set\n",
            "================================================================================\n"
          ]
        },
        {
          "data": {
            "text/html": [
              "\n",
              "<style>\n",
              "    /* Turns off some styling */\n",
              "    progress {\n",
              "        /* gets rid of default border in Firefox and Opera. */\n",
              "        border: none;\n",
              "        /* Needs to be in here for Safari polyfill so background images work as expected. */\n",
              "        background-size: auto;\n",
              "    }\n",
              "    progress:not([value]), progress:not([value])::-webkit-progress-bar {\n",
              "        background: repeating-linear-gradient(45deg, #7e7e7e, #7e7e7e 10px, #5c5c5c 10px, #5c5c5c 20px);\n",
              "    }\n",
              "    .progress-bar-interrupted, .progress-bar-interrupted::-webkit-progress-bar {\n",
              "        background: #F44336;\n",
              "    }\n",
              "</style>\n"
            ],
            "text/plain": [
              "<IPython.core.display.HTML object>"
            ]
          },
          "metadata": {},
          "output_type": "display_data"
        },
        {
          "data": {
            "text/html": [],
            "text/plain": [
              "<IPython.core.display.HTML object>"
            ]
          },
          "metadata": {},
          "output_type": "display_data"
        },
        {
          "name": "stdout",
          "output_type": "stream",
          "text": [
            "MSE: 18.9894\n",
            "R2: 97.88%\n",
            "MAPE: 1.62%\n",
            "================================================================================\n",
            "\n",
            "LSTMPlus - validation set\n",
            "================================================================================\n"
          ]
        },
        {
          "data": {
            "text/html": [
              "\n",
              "<style>\n",
              "    /* Turns off some styling */\n",
              "    progress {\n",
              "        /* gets rid of default border in Firefox and Opera. */\n",
              "        border: none;\n",
              "        /* Needs to be in here for Safari polyfill so background images work as expected. */\n",
              "        background-size: auto;\n",
              "    }\n",
              "    progress:not([value]), progress:not([value])::-webkit-progress-bar {\n",
              "        background: repeating-linear-gradient(45deg, #7e7e7e, #7e7e7e 10px, #5c5c5c 10px, #5c5c5c 20px);\n",
              "    }\n",
              "    .progress-bar-interrupted, .progress-bar-interrupted::-webkit-progress-bar {\n",
              "        background: #F44336;\n",
              "    }\n",
              "</style>\n"
            ],
            "text/plain": [
              "<IPython.core.display.HTML object>"
            ]
          },
          "metadata": {},
          "output_type": "display_data"
        },
        {
          "data": {
            "text/html": [],
            "text/plain": [
              "<IPython.core.display.HTML object>"
            ]
          },
          "metadata": {},
          "output_type": "display_data"
        },
        {
          "name": "stdout",
          "output_type": "stream",
          "text": [
            "MSE: 304.8244\n",
            "R2: -22.36%\n",
            "MAPE: 13.62%\n",
            "================================================================================\n"
          ]
        },
        {
          "data": {
            "text/html": [
              "Waiting for W&B process to finish... <strong style=\"color:green\">(success).</strong>"
            ],
            "text/plain": [
              "<IPython.core.display.HTML object>"
            ]
          },
          "metadata": {},
          "output_type": "display_data"
        },
        {
          "data": {
            "text/html": [
              "<style>\n",
              "    table.wandb td:nth-child(1) { padding: 0 10px; text-align: left ; width: auto;} td:nth-child(2) {text-align: left ; width: 100%}\n",
              "    .wandb-row { display: flex; flex-direction: row; flex-wrap: wrap; justify-content: flex-start; width: 100% }\n",
              "    .wandb-col { display: flex; flex-direction: column; flex-basis: 100%; flex: 1; padding: 10px; }\n",
              "    </style>\n",
              "<div class=\"wandb-row\"><div class=\"wandb-col\"><h3>Run history:</h3><br/><table class=\"wandb\"><tr><td>epoch</td><td>▁▁▁▂▂▂▂▂▂▃▃▃▃▃▃▄▄▄▄▄▅▅▅▅▅▅▆▆▆▆▆▇▇▇▇▇▇███</td></tr><tr><td>eps_0</td><td>▁▁▁▁▁▁▁▁▁▁▁▁▁▁▁▁▁▁▁▁▁▁▁▁▁▁▁▁▁▁▁▁▁▁▁▁▁▁▁▁</td></tr><tr><td>eps_1</td><td>▁▁▁▁▁▁▁▁▁▁▁▁▁▁▁▁▁▁▁▁▁▁▁▁▁▁▁▁▁▁▁▁▁▁▁▁▁▁▁▁</td></tr><tr><td>lr_0</td><td>▁▁▁▁▂▂▂▃▃▃▄▄▅▅▆▆▇▇▇███████████████▇▇▇▇▇▇</td></tr><tr><td>lr_1</td><td>▁▁▁▁▂▂▂▃▃▃▄▄▅▅▆▆▇▇▇███████████████▇▇▇▇▇▇</td></tr><tr><td>mom_0</td><td>████▇▇▇▆▆▆▅▅▄▄▃▃▂▂▂▁▁▁▁▁▁▁▁▁▁▁▁▁▁▁▂▂▂▂▂▂</td></tr><tr><td>mom_1</td><td>████▇▇▇▆▆▆▅▅▄▄▃▃▂▂▂▁▁▁▁▁▁▁▁▁▁▁▁▁▁▁▂▂▂▂▂▂</td></tr><tr><td>raw_loss</td><td>▄▃▃█▃▃▁▂▂▁▁▁▁▁▁▁▁▁▁▁▁▁▁▁▁▁▁▁▁▁▁▁▁▁▁▁▁▁▁▁</td></tr><tr><td>sqr_mom_0</td><td>▁▁▁▁▁▁▁▁▁▁▁▁▁▁▁▁▁▁▁▁▁▁▁▁▁▁▁▁▁▁▁▁▁▁▁▁▁▁▁▁</td></tr><tr><td>sqr_mom_1</td><td>▁▁▁▁▁▁▁▁▁▁▁▁▁▁▁▁▁▁▁▁▁▁▁▁▁▁▁▁▁▁▁▁▁▁▁▁▁▁▁▁</td></tr><tr><td>train__rmse</td><td>█▇▆▄▄▃▂▂▂▁▁▁▁▁▁▁▁▁▁▁▁▁</td></tr><tr><td>train_loss</td><td>██▇▇▆▆▅▄▄▄▃▃▂▂▂▂▂▂▁▁▁▁▁▁▁▁▁▁▁▁▁▁▁▁▁▁▁▁▁▁</td></tr><tr><td>train_mape</td><td>█▇▅▃▃▂▂▂▁▁▁▁▁▁▁▁▁▁▁▁▁▁</td></tr><tr><td>train_samples_per_sec</td><td>▄▅▄▄▅▆▅▅▂▆▁▅▇▂▆▃▆▇▆▅▆▄▇▃▇▆▇▆▆▆▆▅▇▅▇▆▇█▆▅</td></tr><tr><td>valid__rmse</td><td>█▇▅▃▄▃▃▂▂▂▂▁▁▁▁▁▁▁▁▁▁▁</td></tr><tr><td>valid_loss</td><td>█▆▄▂▃▂▂▂▁▁▁▁▁▁▁▁▁▁▁▁▁▁</td></tr><tr><td>valid_mape</td><td>█▇▅▃▄▃▃▂▂▂▂▁▁▁▁▂▁▁▁▁▁▁</td></tr><tr><td>wd_0</td><td>▁▁▁▁▁▁▁▁▁▁▁▁▁▁▁▁▁▁▁▁▁▁▁▁▁▁▁▁▁▁▁▁▁▁▁▁▁▁▁▁</td></tr><tr><td>wd_1</td><td>▁▁▁▁▁▁▁▁▁▁▁▁▁▁▁▁▁▁▁▁▁▁▁▁▁▁▁▁▁▁▁▁▁▁▁▁▁▁▁▁</td></tr></table><br/></div><div class=\"wandb-col\"><h3>Run summary:</h3><br/><table class=\"wandb\"><tr><td>epoch</td><td>22</td></tr><tr><td>eps_0</td><td>1e-05</td></tr><tr><td>eps_1</td><td>1e-05</td></tr><tr><td>lr_0</td><td>0.00114</td></tr><tr><td>lr_1</td><td>0.00114</td></tr><tr><td>mom_0</td><td>0.86485</td></tr><tr><td>mom_1</td><td>0.86485</td></tr><tr><td>raw_loss</td><td>0.00934</td></tr><tr><td>sqr_mom_0</td><td>0.99</td></tr><tr><td>sqr_mom_1</td><td>0.99</td></tr><tr><td>train__rmse</td><td>0.10604</td></tr><tr><td>train_loss</td><td>0.01335</td></tr><tr><td>train_mape</td><td>3454421.0</td></tr><tr><td>train_samples_per_sec</td><td>5065.93633</td></tr><tr><td>valid__rmse</td><td>0.51365</td></tr><tr><td>valid_loss</td><td>0.26384</td></tr><tr><td>valid_mape</td><td>42812504.0</td></tr><tr><td>wd_0</td><td>0.01</td></tr><tr><td>wd_1</td><td>0.01</td></tr></table><br/></div></div>"
            ],
            "text/plain": [
              "<IPython.core.display.HTML object>"
            ]
          },
          "metadata": {},
          "output_type": "display_data"
        },
        {
          "data": {
            "text/html": [
              "Synced <strong style=\"color:#cdcd00\">snowy-sweep-1</strong>: <a href=\"https://wandb.ai/ytdteam/ytd-cassandra-forecast/runs/6szvc9ly\" target=\"_blank\">https://wandb.ai/ytdteam/ytd-cassandra-forecast/runs/6szvc9ly</a><br/>Synced 6 W&B file(s), 1 media file(s), 5 artifact file(s) and 0 other file(s)"
            ],
            "text/plain": [
              "<IPython.core.display.HTML object>"
            ]
          },
          "metadata": {},
          "output_type": "display_data"
        },
        {
          "data": {
            "text/html": [
              "Find logs at: <code>.\\wandb\\run-20221221_235127-6szvc9ly\\logs</code>"
            ],
            "text/plain": [
              "<IPython.core.display.HTML object>"
            ]
          },
          "metadata": {},
          "output_type": "display_data"
        },
        {
          "name": "stderr",
          "output_type": "stream",
          "text": [
            "\u001b[34m\u001b[1mwandb\u001b[0m: Sweep Agent: Waiting for job.\n",
            "\u001b[34m\u001b[1mwandb\u001b[0m: Job received.\n",
            "\u001b[34m\u001b[1mwandb\u001b[0m: Agent Starting Run: e4lb9luz with config:\n",
            "\u001b[34m\u001b[1mwandb\u001b[0m: \tarchitecture: InceptionTime\n",
            "\u001b[34m\u001b[1mwandb\u001b[0m: \tbatch_size: 64\n",
            "\u001b[34m\u001b[1mwandb\u001b[0m: \tlook_back: 60\n",
            "Failed to detect the name of this notebook, you can set it manually with the WANDB_NOTEBOOK_NAME environment variable to enable code saving.\n",
            "\u001b[34m\u001b[1mwandb\u001b[0m: W&B API key is configured. Use \u001b[1m`wandb login --relogin`\u001b[0m to force relogin\n"
          ]
        },
        {
          "data": {
            "application/vnd.jupyter.widget-view+json": {
              "model_id": "fe2cea5bca0545a7bce2f1bad9cbaadd",
              "version_major": 2,
              "version_minor": 0
            },
            "text/plain": [
              "VBox(children=(Label(value='Waiting for wandb.init()...\\r'), FloatProgress(value=0.016666666666666666, max=1.0…"
            ]
          },
          "metadata": {},
          "output_type": "display_data"
        },
        {
          "data": {
            "text/html": [
              "wandb version 0.13.7 is available!  To upgrade, please run:\n",
              " $ pip install wandb --upgrade"
            ],
            "text/plain": [
              "<IPython.core.display.HTML object>"
            ]
          },
          "metadata": {},
          "output_type": "display_data"
        },
        {
          "data": {
            "text/html": [
              "Tracking run with wandb version 0.13.5"
            ],
            "text/plain": [
              "<IPython.core.display.HTML object>"
            ]
          },
          "metadata": {},
          "output_type": "display_data"
        },
        {
          "data": {
            "text/html": [
              "Run data is saved locally in <code>d:\\git\\cassandra-ai\\notebooks\\wandb\\run-20221221_235337-e4lb9luz</code>"
            ],
            "text/plain": [
              "<IPython.core.display.HTML object>"
            ]
          },
          "metadata": {},
          "output_type": "display_data"
        },
        {
          "data": {
            "text/html": [
              "Syncing run <strong><a href=\"https://wandb.ai/ytdteam/ytd-cassandra-forecast/runs/e4lb9luz\" target=\"_blank\">comfy-sweep-2</a></strong> to <a href=\"https://wandb.ai/ytdteam/ytd-cassandra-forecast\" target=\"_blank\">Weights & Biases</a> (<a href=\"https://wandb.me/run\" target=\"_blank\">docs</a>)<br/>Sweep page:  <a href=\"https://wandb.ai/ytdteam/ytd-cassandra-forecast/sweeps/1ox2invt\" target=\"_blank\">https://wandb.ai/ytdteam/ytd-cassandra-forecast/sweeps/1ox2invt</a>"
            ],
            "text/plain": [
              "<IPython.core.display.HTML object>"
            ]
          },
          "metadata": {},
          "output_type": "display_data"
        },
        {
          "name": "stderr",
          "output_type": "stream",
          "text": [
            "\u001b[34m\u001b[1mwandb\u001b[0m: \u001b[33mWARNING\u001b[0m Ignored wandb.init() arg project when running a sweep.\n",
            "\u001b[34m\u001b[1mwandb\u001b[0m: \u001b[33mWARNING\u001b[0m Ignored wandb.init() arg entity when running a sweep.\n"
          ]
        },
        {
          "data": {
            "text/html": [
              "Finishing last run (ID:e4lb9luz) before initializing another..."
            ],
            "text/plain": [
              "<IPython.core.display.HTML object>"
            ]
          },
          "metadata": {},
          "output_type": "display_data"
        },
        {
          "data": {
            "text/html": [
              "Waiting for W&B process to finish... <strong style=\"color:green\">(success).</strong>"
            ],
            "text/plain": [
              "<IPython.core.display.HTML object>"
            ]
          },
          "metadata": {},
          "output_type": "display_data"
        },
        {
          "data": {
            "text/html": [
              "Synced <strong style=\"color:#cdcd00\">comfy-sweep-2</strong>: <a href=\"https://wandb.ai/ytdteam/ytd-cassandra-forecast/runs/e4lb9luz\" target=\"_blank\">https://wandb.ai/ytdteam/ytd-cassandra-forecast/runs/e4lb9luz</a><br/>Synced 6 W&B file(s), 0 media file(s), 0 artifact file(s) and 0 other file(s)"
            ],
            "text/plain": [
              "<IPython.core.display.HTML object>"
            ]
          },
          "metadata": {},
          "output_type": "display_data"
        },
        {
          "data": {
            "text/html": [
              "Find logs at: <code>.\\wandb\\run-20221221_235337-e4lb9luz\\logs</code>"
            ],
            "text/plain": [
              "<IPython.core.display.HTML object>"
            ]
          },
          "metadata": {},
          "output_type": "display_data"
        },
        {
          "data": {
            "text/html": [
              "Successfully finished last run (ID:e4lb9luz). Initializing new run:<br/>"
            ],
            "text/plain": [
              "<IPython.core.display.HTML object>"
            ]
          },
          "metadata": {},
          "output_type": "display_data"
        },
        {
          "data": {
            "text/html": [
              "wandb version 0.13.7 is available!  To upgrade, please run:\n",
              " $ pip install wandb --upgrade"
            ],
            "text/plain": [
              "<IPython.core.display.HTML object>"
            ]
          },
          "metadata": {},
          "output_type": "display_data"
        },
        {
          "data": {
            "text/html": [
              "Tracking run with wandb version 0.13.5"
            ],
            "text/plain": [
              "<IPython.core.display.HTML object>"
            ]
          },
          "metadata": {},
          "output_type": "display_data"
        },
        {
          "data": {
            "text/html": [
              "Run data is saved locally in <code>d:\\git\\cassandra-ai\\notebooks\\wandb\\run-20221221_235348-e4lb9luz</code>"
            ],
            "text/plain": [
              "<IPython.core.display.HTML object>"
            ]
          },
          "metadata": {},
          "output_type": "display_data"
        },
        {
          "data": {
            "text/html": [
              "Syncing run <strong><a href=\"https://wandb.ai/ytdteam/ytd-cassandra-forecast/runs/e4lb9luz\" target=\"_blank\">comfy-sweep-2</a></strong> to <a href=\"https://wandb.ai/ytdteam/ytd-cassandra-forecast\" target=\"_blank\">Weights & Biases</a> (<a href=\"https://wandb.me/run\" target=\"_blank\">docs</a>)<br/>Sweep page:  <a href=\"https://wandb.ai/ytdteam/ytd-cassandra-forecast/sweeps/1ox2invt\" target=\"_blank\">https://wandb.ai/ytdteam/ytd-cassandra-forecast/sweeps/1ox2invt</a>"
            ],
            "text/plain": [
              "<IPython.core.display.HTML object>"
            ]
          },
          "metadata": {},
          "output_type": "display_data"
        },
        {
          "name": "stderr",
          "output_type": "stream",
          "text": [
            "\u001b[34m\u001b[1mwandb\u001b[0m: \u001b[33mWARNING\u001b[0m Config item 'look_back' was locked by 'sweep' (ignored update).\n",
            "\u001b[34m\u001b[1mwandb\u001b[0m: \u001b[33mWARNING\u001b[0m Config item 'batch_size' was locked by 'sweep' (ignored update).\n",
            "\u001b[34m\u001b[1mwandb\u001b[0m: \u001b[33mWARNING\u001b[0m Config item 'architecture' was locked by 'sweep' (ignored update).\n",
            "\u001b[34m\u001b[1mwandb\u001b[0m:   1 of 1 files downloaded.  \n"
          ]
        },
        {
          "name": "stdout",
          "output_type": "stream",
          "text": [
            "validation/train ratio 0.20809248554913296\n"
          ]
        },
        {
          "data": {
            "text/html": [
              "\n",
              "<style>\n",
              "    /* Turns off some styling */\n",
              "    progress {\n",
              "        /* gets rid of default border in Firefox and Opera. */\n",
              "        border: none;\n",
              "        /* Needs to be in here for Safari polyfill so background images work as expected. */\n",
              "        background-size: auto;\n",
              "    }\n",
              "    progress:not([value]), progress:not([value])::-webkit-progress-bar {\n",
              "        background: repeating-linear-gradient(45deg, #7e7e7e, #7e7e7e 10px, #5c5c5c 10px, #5c5c5c 20px);\n",
              "    }\n",
              "    .progress-bar-interrupted, .progress-bar-interrupted::-webkit-progress-bar {\n",
              "        background: #F44336;\n",
              "    }\n",
              "</style>\n"
            ],
            "text/plain": [
              "<IPython.core.display.HTML object>"
            ]
          },
          "metadata": {},
          "output_type": "display_data"
        },
        {
          "data": {
            "text/html": [],
            "text/plain": [
              "<IPython.core.display.HTML object>"
            ]
          },
          "metadata": {},
          "output_type": "display_data"
        },
        {
          "name": "stdout",
          "output_type": "stream",
          "text": [
            "WandbCallback was not able to prepare a DataLoader for logging prediction samples -> 'NoneType' object is not iterable\n"
          ]
        },
        {
          "data": {
            "text/html": [
              "\n",
              "<style>\n",
              "    /* Turns off some styling */\n",
              "    progress {\n",
              "        /* gets rid of default border in Firefox and Opera. */\n",
              "        border: none;\n",
              "        /* Needs to be in here for Safari polyfill so background images work as expected. */\n",
              "        background-size: auto;\n",
              "    }\n",
              "    progress:not([value]), progress:not([value])::-webkit-progress-bar {\n",
              "        background: repeating-linear-gradient(45deg, #7e7e7e, #7e7e7e 10px, #5c5c5c 10px, #5c5c5c 20px);\n",
              "    }\n",
              "    .progress-bar-interrupted, .progress-bar-interrupted::-webkit-progress-bar {\n",
              "        background: #F44336;\n",
              "    }\n",
              "</style>\n"
            ],
            "text/plain": [
              "<IPython.core.display.HTML object>"
            ]
          },
          "metadata": {},
          "output_type": "display_data"
        },
        {
          "data": {
            "text/html": [
              "<table border=\"1\" class=\"dataframe\">\n",
              "  <thead>\n",
              "    <tr style=\"text-align: left;\">\n",
              "      <th>epoch</th>\n",
              "      <th>train_loss</th>\n",
              "      <th>train__rmse</th>\n",
              "      <th>train_mape</th>\n",
              "      <th>valid_loss</th>\n",
              "      <th>valid__rmse</th>\n",
              "      <th>valid_mape</th>\n",
              "      <th>time</th>\n",
              "    </tr>\n",
              "  </thead>\n",
              "  <tbody>\n",
              "    <tr>\n",
              "      <td>0</td>\n",
              "      <td>0.279276</td>\n",
              "      <td>0.534472</td>\n",
              "      <td>20220998.000000</td>\n",
              "      <td>4.530829</td>\n",
              "      <td>2.128575</td>\n",
              "      <td>208201824.000000</td>\n",
              "      <td>00:01</td>\n",
              "    </tr>\n",
              "    <tr>\n",
              "      <td>1</td>\n",
              "      <td>0.196844</td>\n",
              "      <td>0.376662</td>\n",
              "      <td>14181258.000000</td>\n",
              "      <td>2.291543</td>\n",
              "      <td>1.513784</td>\n",
              "      <td>145443312.000000</td>\n",
              "      <td>00:00</td>\n",
              "    </tr>\n",
              "    <tr>\n",
              "      <td>2</td>\n",
              "      <td>0.143103</td>\n",
              "      <td>0.284722</td>\n",
              "      <td>11644268.000000</td>\n",
              "      <td>0.454684</td>\n",
              "      <td>0.674303</td>\n",
              "      <td>55965012.000000</td>\n",
              "      <td>00:01</td>\n",
              "    </tr>\n",
              "    <tr>\n",
              "      <td>3</td>\n",
              "      <td>0.106163</td>\n",
              "      <td>0.225384</td>\n",
              "      <td>10197084.000000</td>\n",
              "      <td>0.253427</td>\n",
              "      <td>0.503415</td>\n",
              "      <td>36695068.000000</td>\n",
              "      <td>00:01</td>\n",
              "    </tr>\n",
              "    <tr>\n",
              "      <td>4</td>\n",
              "      <td>0.082441</td>\n",
              "      <td>0.203507</td>\n",
              "      <td>9360560.000000</td>\n",
              "      <td>0.176039</td>\n",
              "      <td>0.419570</td>\n",
              "      <td>29828800.000000</td>\n",
              "      <td>00:00</td>\n",
              "    </tr>\n",
              "    <tr>\n",
              "      <td>5</td>\n",
              "      <td>0.064845</td>\n",
              "      <td>0.176285</td>\n",
              "      <td>7805099.500000</td>\n",
              "      <td>0.189589</td>\n",
              "      <td>0.435418</td>\n",
              "      <td>31258700.000000</td>\n",
              "      <td>00:01</td>\n",
              "    </tr>\n",
              "    <tr>\n",
              "      <td>6</td>\n",
              "      <td>0.051040</td>\n",
              "      <td>0.151821</td>\n",
              "      <td>6957661.500000</td>\n",
              "      <td>0.183548</td>\n",
              "      <td>0.428425</td>\n",
              "      <td>31201198.000000</td>\n",
              "      <td>00:01</td>\n",
              "    </tr>\n",
              "    <tr>\n",
              "      <td>7</td>\n",
              "      <td>0.041257</td>\n",
              "      <td>0.144531</td>\n",
              "      <td>6140936.500000</td>\n",
              "      <td>0.124884</td>\n",
              "      <td>0.353390</td>\n",
              "      <td>30603412.000000</td>\n",
              "      <td>00:01</td>\n",
              "    </tr>\n",
              "    <tr>\n",
              "      <td>8</td>\n",
              "      <td>0.033550</td>\n",
              "      <td>0.130150</td>\n",
              "      <td>5706148.000000</td>\n",
              "      <td>0.136277</td>\n",
              "      <td>0.369157</td>\n",
              "      <td>30416334.000000</td>\n",
              "      <td>00:01</td>\n",
              "    </tr>\n",
              "    <tr>\n",
              "      <td>9</td>\n",
              "      <td>0.028518</td>\n",
              "      <td>0.131750</td>\n",
              "      <td>5561886.000000</td>\n",
              "      <td>0.128915</td>\n",
              "      <td>0.359048</td>\n",
              "      <td>33750768.000000</td>\n",
              "      <td>00:01</td>\n",
              "    </tr>\n",
              "    <tr>\n",
              "      <td>10</td>\n",
              "      <td>0.024803</td>\n",
              "      <td>0.129916</td>\n",
              "      <td>5614951.500000</td>\n",
              "      <td>0.116211</td>\n",
              "      <td>0.340897</td>\n",
              "      <td>30761076.000000</td>\n",
              "      <td>00:01</td>\n",
              "    </tr>\n",
              "    <tr>\n",
              "      <td>11</td>\n",
              "      <td>0.021499</td>\n",
              "      <td>0.117934</td>\n",
              "      <td>5359814.000000</td>\n",
              "      <td>0.121460</td>\n",
              "      <td>0.348511</td>\n",
              "      <td>32127676.000000</td>\n",
              "      <td>00:01</td>\n",
              "    </tr>\n",
              "    <tr>\n",
              "      <td>12</td>\n",
              "      <td>0.018079</td>\n",
              "      <td>0.102680</td>\n",
              "      <td>4580382.000000</td>\n",
              "      <td>0.109301</td>\n",
              "      <td>0.330607</td>\n",
              "      <td>28740334.000000</td>\n",
              "      <td>00:01</td>\n",
              "    </tr>\n",
              "    <tr>\n",
              "      <td>13</td>\n",
              "      <td>0.015728</td>\n",
              "      <td>0.101830</td>\n",
              "      <td>4175400.500000</td>\n",
              "      <td>0.113075</td>\n",
              "      <td>0.336266</td>\n",
              "      <td>30552700.000000</td>\n",
              "      <td>00:01</td>\n",
              "    </tr>\n",
              "    <tr>\n",
              "      <td>14</td>\n",
              "      <td>0.013398</td>\n",
              "      <td>0.090485</td>\n",
              "      <td>3754772.500000</td>\n",
              "      <td>0.122724</td>\n",
              "      <td>0.350320</td>\n",
              "      <td>32615982.000000</td>\n",
              "      <td>00:01</td>\n",
              "    </tr>\n",
              "    <tr>\n",
              "      <td>15</td>\n",
              "      <td>0.012298</td>\n",
              "      <td>0.099224</td>\n",
              "      <td>4027813.250000</td>\n",
              "      <td>0.133728</td>\n",
              "      <td>0.365688</td>\n",
              "      <td>33885752.000000</td>\n",
              "      <td>00:01</td>\n",
              "    </tr>\n",
              "    <tr>\n",
              "      <td>16</td>\n",
              "      <td>0.010883</td>\n",
              "      <td>0.088049</td>\n",
              "      <td>3560389.000000</td>\n",
              "      <td>0.150921</td>\n",
              "      <td>0.388486</td>\n",
              "      <td>35510796.000000</td>\n",
              "      <td>00:00</td>\n",
              "    </tr>\n",
              "    <tr>\n",
              "      <td>17</td>\n",
              "      <td>0.010165</td>\n",
              "      <td>0.090989</td>\n",
              "      <td>3994284.000000</td>\n",
              "      <td>0.166575</td>\n",
              "      <td>0.408136</td>\n",
              "      <td>37193740.000000</td>\n",
              "      <td>00:01</td>\n",
              "    </tr>\n",
              "  </tbody>\n",
              "</table>"
            ],
            "text/plain": [
              "<IPython.core.display.HTML object>"
            ]
          },
          "metadata": {},
          "output_type": "display_data"
        },
        {
          "name": "stdout",
          "output_type": "stream",
          "text": [
            "Better model found at epoch 0 with valid_loss value: 4.530829429626465.\n",
            "Better model found at epoch 1 with valid_loss value: 2.2915430068969727.\n",
            "Better model found at epoch 2 with valid_loss value: 0.4546840786933899.\n",
            "Better model found at epoch 3 with valid_loss value: 0.25342652201652527.\n",
            "Better model found at epoch 4 with valid_loss value: 0.17603884637355804.\n",
            "Better model found at epoch 7 with valid_loss value: 0.12488441914319992.\n",
            "Better model found at epoch 10 with valid_loss value: 0.11621053516864777.\n",
            "Better model found at epoch 12 with valid_loss value: 0.10930073261260986.\n",
            "No improvement since epoch 12: early stopping\n",
            "\n",
            "InceptionTime - train set\n",
            "================================================================================\n"
          ]
        },
        {
          "data": {
            "text/html": [
              "\n",
              "<style>\n",
              "    /* Turns off some styling */\n",
              "    progress {\n",
              "        /* gets rid of default border in Firefox and Opera. */\n",
              "        border: none;\n",
              "        /* Needs to be in here for Safari polyfill so background images work as expected. */\n",
              "        background-size: auto;\n",
              "    }\n",
              "    progress:not([value]), progress:not([value])::-webkit-progress-bar {\n",
              "        background: repeating-linear-gradient(45deg, #7e7e7e, #7e7e7e 10px, #5c5c5c 10px, #5c5c5c 20px);\n",
              "    }\n",
              "    .progress-bar-interrupted, .progress-bar-interrupted::-webkit-progress-bar {\n",
              "        background: #F44336;\n",
              "    }\n",
              "</style>\n"
            ],
            "text/plain": [
              "<IPython.core.display.HTML object>"
            ]
          },
          "metadata": {},
          "output_type": "display_data"
        },
        {
          "data": {
            "text/html": [],
            "text/plain": [
              "<IPython.core.display.HTML object>"
            ]
          },
          "metadata": {},
          "output_type": "display_data"
        },
        {
          "name": "stdout",
          "output_type": "stream",
          "text": [
            "MSE: 6.8086\n",
            "R2: 98.91%\n",
            "MAPE: 1.14%\n",
            "================================================================================\n",
            "\n",
            "InceptionTime - validation set\n",
            "================================================================================\n"
          ]
        },
        {
          "data": {
            "text/html": [
              "\n",
              "<style>\n",
              "    /* Turns off some styling */\n",
              "    progress {\n",
              "        /* gets rid of default border in Firefox and Opera. */\n",
              "        border: none;\n",
              "        /* Needs to be in here for Safari polyfill so background images work as expected. */\n",
              "        background-size: auto;\n",
              "    }\n",
              "    progress:not([value]), progress:not([value])::-webkit-progress-bar {\n",
              "        background: repeating-linear-gradient(45deg, #7e7e7e, #7e7e7e 10px, #5c5c5c 10px, #5c5c5c 20px);\n",
              "    }\n",
              "    .progress-bar-interrupted, .progress-bar-interrupted::-webkit-progress-bar {\n",
              "        background: #F44336;\n",
              "    }\n",
              "</style>\n"
            ],
            "text/plain": [
              "<IPython.core.display.HTML object>"
            ]
          },
          "metadata": {},
          "output_type": "display_data"
        },
        {
          "data": {
            "text/html": [],
            "text/plain": [
              "<IPython.core.display.HTML object>"
            ]
          },
          "metadata": {},
          "output_type": "display_data"
        },
        {
          "name": "stdout",
          "output_type": "stream",
          "text": [
            "MSE: 130.1444\n",
            "R2: 47.27%\n",
            "MAPE: 9.19%\n",
            "================================================================================\n"
          ]
        },
        {
          "data": {
            "text/html": [
              "Waiting for W&B process to finish... <strong style=\"color:green\">(success).</strong>"
            ],
            "text/plain": [
              "<IPython.core.display.HTML object>"
            ]
          },
          "metadata": {},
          "output_type": "display_data"
        },
        {
          "data": {
            "text/html": [
              "<style>\n",
              "    table.wandb td:nth-child(1) { padding: 0 10px; text-align: left ; width: auto;} td:nth-child(2) {text-align: left ; width: 100%}\n",
              "    .wandb-row { display: flex; flex-direction: row; flex-wrap: wrap; justify-content: flex-start; width: 100% }\n",
              "    .wandb-col { display: flex; flex-direction: column; flex-basis: 100%; flex: 1; padding: 10px; }\n",
              "    </style>\n",
              "<div class=\"wandb-row\"><div class=\"wandb-col\"><h3>Run history:</h3><br/><table class=\"wandb\"><tr><td>epoch</td><td>▁▁▁▂▂▂▂▂▂▃▃▃▃▃▃▄▄▄▄▄▅▅▅▅▅▅▆▆▆▆▆▇▇▇▇▇▇███</td></tr><tr><td>eps_0</td><td>▁▁▁▁▁▁▁▁▁▁▁▁▁▁▁▁▁▁▁▁▁▁▁▁▁▁▁▁▁▁▁▁▁▁▁▁▁▁▁▁</td></tr><tr><td>lr_0</td><td>▁▁▁▁▁▂▂▂▂▃▃▃▄▄▅▅▅▆▆▆▇▇▇█████████████████</td></tr><tr><td>mom_0</td><td>█████▇▇▇▇▆▆▆▅▅▄▄▄▃▃▃▂▂▂▁▁▁▁▁▁▁▁▁▁▁▁▁▁▁▁▁</td></tr><tr><td>raw_loss</td><td>█▆▆▄▃▃▃▂▂▂▂▁▂▂▁▁▁▁▁▁▁▁▁▁▁▁▁▁▁▁▁▁▁▁▁▁▂▁▁▁</td></tr><tr><td>sqr_mom_0</td><td>▁▁▁▁▁▁▁▁▁▁▁▁▁▁▁▁▁▁▁▁▁▁▁▁▁▁▁▁▁▁▁▁▁▁▁▁▁▁▁▁</td></tr><tr><td>train__rmse</td><td>█▆▄▃▃▂▂▂▂▂▂▁▁▁▁▁▁▁</td></tr><tr><td>train_loss</td><td>█▇▆▅▅▄▄▃▃▃▃▂▂▂▂▂▂▂▂▁▁▁▁▁▁▁▁▁▁▁▁▁▁▁▁▁▁▁▁▁</td></tr><tr><td>train_mape</td><td>█▅▄▄▃▃▂▂▂▂▂▂▁▁▁▁▁▁</td></tr><tr><td>train_samples_per_sec</td><td>▅▇▅▇█▇▆▅▆▅▇▆▆█▅▆▅▇▇▁▆█▆▇▇▆▆▆▇▇▇▄▇▅▇▇▆▆▇▄</td></tr><tr><td>valid__rmse</td><td>█▆▂▂▁▁▁▁▁▁▁▁▁▁▁▁▁▁</td></tr><tr><td>valid_loss</td><td>█▄▂▁▁▁▁▁▁▁▁▁▁▁▁▁▁▁</td></tr><tr><td>valid_mape</td><td>█▆▂▁▁▁▁▁▁▁▁▁▁▁▁▁▁▁</td></tr><tr><td>wd_0</td><td>▁▁▁▁▁▁▁▁▁▁▁▁▁▁▁▁▁▁▁▁▁▁▁▁▁▁▁▁▁▁▁▁▁▁▁▁▁▁▁▁</td></tr></table><br/></div><div class=\"wandb-col\"><h3>Run summary:</h3><br/><table class=\"wandb\"><tr><td>epoch</td><td>18</td></tr><tr><td>eps_0</td><td>1e-05</td></tr><tr><td>lr_0</td><td>0.00011</td></tr><tr><td>mom_0</td><td>0.85511</td></tr><tr><td>raw_loss</td><td>0.01278</td></tr><tr><td>sqr_mom_0</td><td>0.99</td></tr><tr><td>train__rmse</td><td>0.09099</td></tr><tr><td>train_loss</td><td>0.01017</td></tr><tr><td>train_mape</td><td>3994284.0</td></tr><tr><td>train_samples_per_sec</td><td>1184.8078</td></tr><tr><td>valid__rmse</td><td>0.40814</td></tr><tr><td>valid_loss</td><td>0.16657</td></tr><tr><td>valid_mape</td><td>37193740.0</td></tr><tr><td>wd_0</td><td>0.01</td></tr></table><br/></div></div>"
            ],
            "text/plain": [
              "<IPython.core.display.HTML object>"
            ]
          },
          "metadata": {},
          "output_type": "display_data"
        },
        {
          "data": {
            "text/html": [
              "Synced <strong style=\"color:#cdcd00\">comfy-sweep-2</strong>: <a href=\"https://wandb.ai/ytdteam/ytd-cassandra-forecast/runs/e4lb9luz\" target=\"_blank\">https://wandb.ai/ytdteam/ytd-cassandra-forecast/runs/e4lb9luz</a><br/>Synced 6 W&B file(s), 1 media file(s), 2 artifact file(s) and 0 other file(s)"
            ],
            "text/plain": [
              "<IPython.core.display.HTML object>"
            ]
          },
          "metadata": {},
          "output_type": "display_data"
        },
        {
          "data": {
            "text/html": [
              "Find logs at: <code>.\\wandb\\run-20221221_235348-e4lb9luz\\logs</code>"
            ],
            "text/plain": [
              "<IPython.core.display.HTML object>"
            ]
          },
          "metadata": {},
          "output_type": "display_data"
        },
        {
          "name": "stderr",
          "output_type": "stream",
          "text": [
            "\u001b[34m\u001b[1mwandb\u001b[0m: Agent Starting Run: x262stte with config:\n",
            "\u001b[34m\u001b[1mwandb\u001b[0m: \tarchitecture: LSTMPlus\n",
            "\u001b[34m\u001b[1mwandb\u001b[0m: \tbatch_size: 64\n",
            "\u001b[34m\u001b[1mwandb\u001b[0m: \tlook_back: 60\n",
            "Failed to detect the name of this notebook, you can set it manually with the WANDB_NOTEBOOK_NAME environment variable to enable code saving.\n"
          ]
        },
        {
          "data": {
            "text/html": [
              "wandb version 0.13.7 is available!  To upgrade, please run:\n",
              " $ pip install wandb --upgrade"
            ],
            "text/plain": [
              "<IPython.core.display.HTML object>"
            ]
          },
          "metadata": {},
          "output_type": "display_data"
        },
        {
          "data": {
            "text/html": [
              "Tracking run with wandb version 0.13.5"
            ],
            "text/plain": [
              "<IPython.core.display.HTML object>"
            ]
          },
          "metadata": {},
          "output_type": "display_data"
        },
        {
          "data": {
            "text/html": [
              "Run data is saved locally in <code>d:\\git\\cassandra-ai\\notebooks\\wandb\\run-20221221_235541-x262stte</code>"
            ],
            "text/plain": [
              "<IPython.core.display.HTML object>"
            ]
          },
          "metadata": {},
          "output_type": "display_data"
        },
        {
          "data": {
            "text/html": [
              "Syncing run <strong><a href=\"https://wandb.ai/ytdteam/ytd-cassandra-forecast/runs/x262stte\" target=\"_blank\">polished-sweep-3</a></strong> to <a href=\"https://wandb.ai/ytdteam/ytd-cassandra-forecast\" target=\"_blank\">Weights & Biases</a> (<a href=\"https://wandb.me/run\" target=\"_blank\">docs</a>)<br/>Sweep page:  <a href=\"https://wandb.ai/ytdteam/ytd-cassandra-forecast/sweeps/1ox2invt\" target=\"_blank\">https://wandb.ai/ytdteam/ytd-cassandra-forecast/sweeps/1ox2invt</a>"
            ],
            "text/plain": [
              "<IPython.core.display.HTML object>"
            ]
          },
          "metadata": {},
          "output_type": "display_data"
        },
        {
          "name": "stderr",
          "output_type": "stream",
          "text": [
            "\u001b[34m\u001b[1mwandb\u001b[0m: \u001b[33mWARNING\u001b[0m Ignored wandb.init() arg project when running a sweep.\n",
            "\u001b[34m\u001b[1mwandb\u001b[0m: \u001b[33mWARNING\u001b[0m Ignored wandb.init() arg entity when running a sweep.\n"
          ]
        },
        {
          "data": {
            "text/html": [
              "Finishing last run (ID:x262stte) before initializing another..."
            ],
            "text/plain": [
              "<IPython.core.display.HTML object>"
            ]
          },
          "metadata": {},
          "output_type": "display_data"
        },
        {
          "data": {
            "text/html": [
              "Waiting for W&B process to finish... <strong style=\"color:green\">(success).</strong>"
            ],
            "text/plain": [
              "<IPython.core.display.HTML object>"
            ]
          },
          "metadata": {},
          "output_type": "display_data"
        },
        {
          "data": {
            "text/html": [
              "Synced <strong style=\"color:#cdcd00\">polished-sweep-3</strong>: <a href=\"https://wandb.ai/ytdteam/ytd-cassandra-forecast/runs/x262stte\" target=\"_blank\">https://wandb.ai/ytdteam/ytd-cassandra-forecast/runs/x262stte</a><br/>Synced 6 W&B file(s), 0 media file(s), 0 artifact file(s) and 0 other file(s)"
            ],
            "text/plain": [
              "<IPython.core.display.HTML object>"
            ]
          },
          "metadata": {},
          "output_type": "display_data"
        },
        {
          "data": {
            "text/html": [
              "Find logs at: <code>.\\wandb\\run-20221221_235541-x262stte\\logs</code>"
            ],
            "text/plain": [
              "<IPython.core.display.HTML object>"
            ]
          },
          "metadata": {},
          "output_type": "display_data"
        },
        {
          "data": {
            "text/html": [
              "Successfully finished last run (ID:x262stte). Initializing new run:<br/>"
            ],
            "text/plain": [
              "<IPython.core.display.HTML object>"
            ]
          },
          "metadata": {},
          "output_type": "display_data"
        },
        {
          "data": {
            "application/vnd.jupyter.widget-view+json": {
              "model_id": "239f1684ef004af8be7e38b27eddb2d7",
              "version_major": 2,
              "version_minor": 0
            },
            "text/plain": [
              "VBox(children=(Label(value='Waiting for wandb.init()...\\r'), FloatProgress(value=0.016666666666666666, max=1.0…"
            ]
          },
          "metadata": {},
          "output_type": "display_data"
        },
        {
          "data": {
            "text/html": [
              "wandb version 0.13.7 is available!  To upgrade, please run:\n",
              " $ pip install wandb --upgrade"
            ],
            "text/plain": [
              "<IPython.core.display.HTML object>"
            ]
          },
          "metadata": {},
          "output_type": "display_data"
        },
        {
          "data": {
            "text/html": [
              "Tracking run with wandb version 0.13.5"
            ],
            "text/plain": [
              "<IPython.core.display.HTML object>"
            ]
          },
          "metadata": {},
          "output_type": "display_data"
        },
        {
          "data": {
            "text/html": [
              "Run data is saved locally in <code>d:\\git\\cassandra-ai\\notebooks\\wandb\\run-20221221_235548-x262stte</code>"
            ],
            "text/plain": [
              "<IPython.core.display.HTML object>"
            ]
          },
          "metadata": {},
          "output_type": "display_data"
        },
        {
          "data": {
            "text/html": [
              "Syncing run <strong><a href=\"https://wandb.ai/ytdteam/ytd-cassandra-forecast/runs/x262stte\" target=\"_blank\">polished-sweep-3</a></strong> to <a href=\"https://wandb.ai/ytdteam/ytd-cassandra-forecast\" target=\"_blank\">Weights & Biases</a> (<a href=\"https://wandb.me/run\" target=\"_blank\">docs</a>)<br/>Sweep page:  <a href=\"https://wandb.ai/ytdteam/ytd-cassandra-forecast/sweeps/1ox2invt\" target=\"_blank\">https://wandb.ai/ytdteam/ytd-cassandra-forecast/sweeps/1ox2invt</a>"
            ],
            "text/plain": [
              "<IPython.core.display.HTML object>"
            ]
          },
          "metadata": {},
          "output_type": "display_data"
        },
        {
          "name": "stderr",
          "output_type": "stream",
          "text": [
            "\u001b[34m\u001b[1mwandb\u001b[0m: \u001b[33mWARNING\u001b[0m Config item 'look_back' was locked by 'sweep' (ignored update).\n",
            "\u001b[34m\u001b[1mwandb\u001b[0m: \u001b[33mWARNING\u001b[0m Config item 'batch_size' was locked by 'sweep' (ignored update).\n",
            "\u001b[34m\u001b[1mwandb\u001b[0m: \u001b[33mWARNING\u001b[0m Config item 'architecture' was locked by 'sweep' (ignored update).\n",
            "\u001b[34m\u001b[1mwandb\u001b[0m:   1 of 1 files downloaded.  \n"
          ]
        },
        {
          "name": "stdout",
          "output_type": "stream",
          "text": [
            "validation/train ratio 0.20809248554913296\n"
          ]
        },
        {
          "data": {
            "text/html": [
              "\n",
              "<style>\n",
              "    /* Turns off some styling */\n",
              "    progress {\n",
              "        /* gets rid of default border in Firefox and Opera. */\n",
              "        border: none;\n",
              "        /* Needs to be in here for Safari polyfill so background images work as expected. */\n",
              "        background-size: auto;\n",
              "    }\n",
              "    progress:not([value]), progress:not([value])::-webkit-progress-bar {\n",
              "        background: repeating-linear-gradient(45deg, #7e7e7e, #7e7e7e 10px, #5c5c5c 10px, #5c5c5c 20px);\n",
              "    }\n",
              "    .progress-bar-interrupted, .progress-bar-interrupted::-webkit-progress-bar {\n",
              "        background: #F44336;\n",
              "    }\n",
              "</style>\n"
            ],
            "text/plain": [
              "<IPython.core.display.HTML object>"
            ]
          },
          "metadata": {},
          "output_type": "display_data"
        },
        {
          "data": {
            "text/html": [],
            "text/plain": [
              "<IPython.core.display.HTML object>"
            ]
          },
          "metadata": {},
          "output_type": "display_data"
        },
        {
          "name": "stdout",
          "output_type": "stream",
          "text": [
            "WandbCallback was not able to prepare a DataLoader for logging prediction samples -> 'NoneType' object is not iterable\n"
          ]
        },
        {
          "data": {
            "text/html": [
              "\n",
              "<style>\n",
              "    /* Turns off some styling */\n",
              "    progress {\n",
              "        /* gets rid of default border in Firefox and Opera. */\n",
              "        border: none;\n",
              "        /* Needs to be in here for Safari polyfill so background images work as expected. */\n",
              "        background-size: auto;\n",
              "    }\n",
              "    progress:not([value]), progress:not([value])::-webkit-progress-bar {\n",
              "        background: repeating-linear-gradient(45deg, #7e7e7e, #7e7e7e 10px, #5c5c5c 10px, #5c5c5c 20px);\n",
              "    }\n",
              "    .progress-bar-interrupted, .progress-bar-interrupted::-webkit-progress-bar {\n",
              "        background: #F44336;\n",
              "    }\n",
              "</style>\n"
            ],
            "text/plain": [
              "<IPython.core.display.HTML object>"
            ]
          },
          "metadata": {},
          "output_type": "display_data"
        },
        {
          "data": {
            "text/html": [
              "<table border=\"1\" class=\"dataframe\">\n",
              "  <thead>\n",
              "    <tr style=\"text-align: left;\">\n",
              "      <th>epoch</th>\n",
              "      <th>train_loss</th>\n",
              "      <th>train__rmse</th>\n",
              "      <th>train_mape</th>\n",
              "      <th>valid_loss</th>\n",
              "      <th>valid__rmse</th>\n",
              "      <th>valid_mape</th>\n",
              "      <th>time</th>\n",
              "    </tr>\n",
              "  </thead>\n",
              "  <tbody>\n",
              "    <tr>\n",
              "      <td>0</td>\n",
              "      <td>0.627833</td>\n",
              "      <td>0.794616</td>\n",
              "      <td>42260740.000000</td>\n",
              "      <td>5.624810</td>\n",
              "      <td>2.371668</td>\n",
              "      <td>232539744.000000</td>\n",
              "      <td>00:01</td>\n",
              "    </tr>\n",
              "    <tr>\n",
              "      <td>1</td>\n",
              "      <td>0.569673</td>\n",
              "      <td>0.729136</td>\n",
              "      <td>36418508.000000</td>\n",
              "      <td>4.654152</td>\n",
              "      <td>2.157348</td>\n",
              "      <td>210718256.000000</td>\n",
              "      <td>00:01</td>\n",
              "    </tr>\n",
              "    <tr>\n",
              "      <td>2</td>\n",
              "      <td>0.487491</td>\n",
              "      <td>0.628017</td>\n",
              "      <td>27506336.000000</td>\n",
              "      <td>3.330266</td>\n",
              "      <td>1.824902</td>\n",
              "      <td>176730192.000000</td>\n",
              "      <td>00:00</td>\n",
              "    </tr>\n",
              "    <tr>\n",
              "      <td>3</td>\n",
              "      <td>0.374101</td>\n",
              "      <td>0.458504</td>\n",
              "      <td>17661724.000000</td>\n",
              "      <td>1.902731</td>\n",
              "      <td>1.379395</td>\n",
              "      <td>130591248.000000</td>\n",
              "      <td>00:00</td>\n",
              "    </tr>\n",
              "    <tr>\n",
              "      <td>4</td>\n",
              "      <td>0.272797</td>\n",
              "      <td>0.310473</td>\n",
              "      <td>15288021.000000</td>\n",
              "      <td>1.369664</td>\n",
              "      <td>1.170326</td>\n",
              "      <td>108620400.000000</td>\n",
              "      <td>00:01</td>\n",
              "    </tr>\n",
              "    <tr>\n",
              "      <td>5</td>\n",
              "      <td>0.201542</td>\n",
              "      <td>0.257485</td>\n",
              "      <td>11396860.000000</td>\n",
              "      <td>1.320453</td>\n",
              "      <td>1.149109</td>\n",
              "      <td>106995736.000000</td>\n",
              "      <td>00:01</td>\n",
              "    </tr>\n",
              "    <tr>\n",
              "      <td>6</td>\n",
              "      <td>0.148223</td>\n",
              "      <td>0.202283</td>\n",
              "      <td>8568954.000000</td>\n",
              "      <td>0.968194</td>\n",
              "      <td>0.983969</td>\n",
              "      <td>90060832.000000</td>\n",
              "      <td>00:01</td>\n",
              "    </tr>\n",
              "    <tr>\n",
              "      <td>7</td>\n",
              "      <td>0.108523</td>\n",
              "      <td>0.158996</td>\n",
              "      <td>6817010.000000</td>\n",
              "      <td>0.749413</td>\n",
              "      <td>0.865686</td>\n",
              "      <td>77717120.000000</td>\n",
              "      <td>00:01</td>\n",
              "    </tr>\n",
              "    <tr>\n",
              "      <td>8</td>\n",
              "      <td>0.080301</td>\n",
              "      <td>0.140273</td>\n",
              "      <td>5923607.500000</td>\n",
              "      <td>0.527702</td>\n",
              "      <td>0.726431</td>\n",
              "      <td>62541088.000000</td>\n",
              "      <td>00:00</td>\n",
              "    </tr>\n",
              "    <tr>\n",
              "      <td>9</td>\n",
              "      <td>0.060601</td>\n",
              "      <td>0.131308</td>\n",
              "      <td>5418798.500000</td>\n",
              "      <td>0.482659</td>\n",
              "      <td>0.694736</td>\n",
              "      <td>59857224.000000</td>\n",
              "      <td>00:01</td>\n",
              "    </tr>\n",
              "    <tr>\n",
              "      <td>10</td>\n",
              "      <td>0.046423</td>\n",
              "      <td>0.122729</td>\n",
              "      <td>5144810.000000</td>\n",
              "      <td>0.402957</td>\n",
              "      <td>0.634789</td>\n",
              "      <td>53214456.000000</td>\n",
              "      <td>00:00</td>\n",
              "    </tr>\n",
              "    <tr>\n",
              "      <td>11</td>\n",
              "      <td>0.036185</td>\n",
              "      <td>0.115275</td>\n",
              "      <td>4734317.500000</td>\n",
              "      <td>0.365021</td>\n",
              "      <td>0.604170</td>\n",
              "      <td>50605896.000000</td>\n",
              "      <td>00:00</td>\n",
              "    </tr>\n",
              "    <tr>\n",
              "      <td>12</td>\n",
              "      <td>0.028786</td>\n",
              "      <td>0.110365</td>\n",
              "      <td>4579032.000000</td>\n",
              "      <td>0.307878</td>\n",
              "      <td>0.554868</td>\n",
              "      <td>45391188.000000</td>\n",
              "      <td>00:00</td>\n",
              "    </tr>\n",
              "    <tr>\n",
              "      <td>13</td>\n",
              "      <td>0.023530</td>\n",
              "      <td>0.107910</td>\n",
              "      <td>4612066.000000</td>\n",
              "      <td>0.319877</td>\n",
              "      <td>0.565576</td>\n",
              "      <td>47617924.000000</td>\n",
              "      <td>00:00</td>\n",
              "    </tr>\n",
              "    <tr>\n",
              "      <td>14</td>\n",
              "      <td>0.019294</td>\n",
              "      <td>0.098359</td>\n",
              "      <td>3929246.250000</td>\n",
              "      <td>0.292269</td>\n",
              "      <td>0.540620</td>\n",
              "      <td>45357676.000000</td>\n",
              "      <td>00:00</td>\n",
              "    </tr>\n",
              "    <tr>\n",
              "      <td>15</td>\n",
              "      <td>0.016282</td>\n",
              "      <td>0.096675</td>\n",
              "      <td>3897732.000000</td>\n",
              "      <td>0.254193</td>\n",
              "      <td>0.504176</td>\n",
              "      <td>40867428.000000</td>\n",
              "      <td>00:00</td>\n",
              "    </tr>\n",
              "    <tr>\n",
              "      <td>16</td>\n",
              "      <td>0.013952</td>\n",
              "      <td>0.092876</td>\n",
              "      <td>3778414.250000</td>\n",
              "      <td>0.261601</td>\n",
              "      <td>0.511469</td>\n",
              "      <td>41854360.000000</td>\n",
              "      <td>00:00</td>\n",
              "    </tr>\n",
              "    <tr>\n",
              "      <td>17</td>\n",
              "      <td>0.012338</td>\n",
              "      <td>0.093021</td>\n",
              "      <td>3739808.000000</td>\n",
              "      <td>0.264971</td>\n",
              "      <td>0.514754</td>\n",
              "      <td>42616620.000000</td>\n",
              "      <td>00:00</td>\n",
              "    </tr>\n",
              "    <tr>\n",
              "      <td>18</td>\n",
              "      <td>0.011179</td>\n",
              "      <td>0.092504</td>\n",
              "      <td>3913511.000000</td>\n",
              "      <td>0.258087</td>\n",
              "      <td>0.508023</td>\n",
              "      <td>41131656.000000</td>\n",
              "      <td>00:00</td>\n",
              "    </tr>\n",
              "    <tr>\n",
              "      <td>19</td>\n",
              "      <td>0.010258</td>\n",
              "      <td>0.090199</td>\n",
              "      <td>3552376.750000</td>\n",
              "      <td>0.258785</td>\n",
              "      <td>0.508709</td>\n",
              "      <td>41948740.000000</td>\n",
              "      <td>00:00</td>\n",
              "    </tr>\n",
              "    <tr>\n",
              "      <td>20</td>\n",
              "      <td>0.009449</td>\n",
              "      <td>0.086853</td>\n",
              "      <td>3520702.500000</td>\n",
              "      <td>0.292970</td>\n",
              "      <td>0.541267</td>\n",
              "      <td>45764456.000000</td>\n",
              "      <td>00:00</td>\n",
              "    </tr>\n",
              "  </tbody>\n",
              "</table>"
            ],
            "text/plain": [
              "<IPython.core.display.HTML object>"
            ]
          },
          "metadata": {},
          "output_type": "display_data"
        },
        {
          "name": "stdout",
          "output_type": "stream",
          "text": [
            "Better model found at epoch 0 with valid_loss value: 5.624810218811035.\n",
            "Better model found at epoch 1 with valid_loss value: 4.654151916503906.\n",
            "Better model found at epoch 2 with valid_loss value: 3.330266237258911.\n",
            "Better model found at epoch 3 with valid_loss value: 1.9027307033538818.\n",
            "Better model found at epoch 4 with valid_loss value: 1.3696638345718384.\n",
            "Better model found at epoch 5 with valid_loss value: 1.3204526901245117.\n",
            "Better model found at epoch 6 with valid_loss value: 0.9681943655014038.\n",
            "Better model found at epoch 7 with valid_loss value: 0.7494127154350281.\n",
            "Better model found at epoch 8 with valid_loss value: 0.5277016758918762.\n",
            "Better model found at epoch 9 with valid_loss value: 0.48265883326530457.\n",
            "Better model found at epoch 10 with valid_loss value: 0.40295737981796265.\n",
            "Better model found at epoch 11 with valid_loss value: 0.36502131819725037.\n",
            "Better model found at epoch 12 with valid_loss value: 0.3078782558441162.\n",
            "Better model found at epoch 14 with valid_loss value: 0.29226940870285034.\n",
            "Better model found at epoch 15 with valid_loss value: 0.2541930377483368.\n",
            "No improvement since epoch 15: early stopping\n",
            "\n",
            "LSTMPlus - train set\n",
            "================================================================================\n"
          ]
        },
        {
          "data": {
            "text/html": [
              "\n",
              "<style>\n",
              "    /* Turns off some styling */\n",
              "    progress {\n",
              "        /* gets rid of default border in Firefox and Opera. */\n",
              "        border: none;\n",
              "        /* Needs to be in here for Safari polyfill so background images work as expected. */\n",
              "        background-size: auto;\n",
              "    }\n",
              "    progress:not([value]), progress:not([value])::-webkit-progress-bar {\n",
              "        background: repeating-linear-gradient(45deg, #7e7e7e, #7e7e7e 10px, #5c5c5c 10px, #5c5c5c 20px);\n",
              "    }\n",
              "    .progress-bar-interrupted, .progress-bar-interrupted::-webkit-progress-bar {\n",
              "        background: #F44336;\n",
              "    }\n",
              "</style>\n"
            ],
            "text/plain": [
              "<IPython.core.display.HTML object>"
            ]
          },
          "metadata": {},
          "output_type": "display_data"
        },
        {
          "data": {
            "text/html": [],
            "text/plain": [
              "<IPython.core.display.HTML object>"
            ]
          },
          "metadata": {},
          "output_type": "display_data"
        },
        {
          "name": "stdout",
          "output_type": "stream",
          "text": [
            "MSE: 9.5607\n",
            "R2: 98.48%\n",
            "MAPE: 1.29%\n",
            "================================================================================\n",
            "\n",
            "LSTMPlus - validation set\n",
            "================================================================================\n"
          ]
        },
        {
          "data": {
            "text/html": [
              "\n",
              "<style>\n",
              "    /* Turns off some styling */\n",
              "    progress {\n",
              "        /* gets rid of default border in Firefox and Opera. */\n",
              "        border: none;\n",
              "        /* Needs to be in here for Safari polyfill so background images work as expected. */\n",
              "        background-size: auto;\n",
              "    }\n",
              "    progress:not([value]), progress:not([value])::-webkit-progress-bar {\n",
              "        background: repeating-linear-gradient(45deg, #7e7e7e, #7e7e7e 10px, #5c5c5c 10px, #5c5c5c 20px);\n",
              "    }\n",
              "    .progress-bar-interrupted, .progress-bar-interrupted::-webkit-progress-bar {\n",
              "        background: #F44336;\n",
              "    }\n",
              "</style>\n"
            ],
            "text/plain": [
              "<IPython.core.display.HTML object>"
            ]
          },
          "metadata": {},
          "output_type": "display_data"
        },
        {
          "data": {
            "text/html": [],
            "text/plain": [
              "<IPython.core.display.HTML object>"
            ]
          },
          "metadata": {},
          "output_type": "display_data"
        },
        {
          "name": "stdout",
          "output_type": "stream",
          "text": [
            "MSE: 302.6677\n",
            "R2: -22.63%\n",
            "MAPE: 13.98%\n",
            "================================================================================\n"
          ]
        },
        {
          "data": {
            "text/html": [
              "Waiting for W&B process to finish... <strong style=\"color:green\">(success).</strong>"
            ],
            "text/plain": [
              "<IPython.core.display.HTML object>"
            ]
          },
          "metadata": {},
          "output_type": "display_data"
        },
        {
          "data": {
            "text/html": [
              "<style>\n",
              "    table.wandb td:nth-child(1) { padding: 0 10px; text-align: left ; width: auto;} td:nth-child(2) {text-align: left ; width: 100%}\n",
              "    .wandb-row { display: flex; flex-direction: row; flex-wrap: wrap; justify-content: flex-start; width: 100% }\n",
              "    .wandb-col { display: flex; flex-direction: column; flex-basis: 100%; flex: 1; padding: 10px; }\n",
              "    </style>\n",
              "<div class=\"wandb-row\"><div class=\"wandb-col\"><h3>Run history:</h3><br/><table class=\"wandb\"><tr><td>epoch</td><td>▁▁▁▂▂▂▂▂▂▃▃▃▃▃▃▄▄▄▄▄▅▅▅▅▅▅▆▆▆▆▆▆▇▇▇▇▇███</td></tr><tr><td>eps_0</td><td>▁▁▁▁▁▁▁▁▁▁▁▁▁▁▁▁▁▁▁▁▁▁▁▁▁▁▁▁▁▁▁▁▁▁▁▁▁▁▁▁</td></tr><tr><td>eps_1</td><td>▁▁▁▁▁▁▁▁▁▁▁▁▁▁▁▁▁▁▁▁▁▁▁▁▁▁▁▁▁▁▁▁▁▁▁▁▁▁▁▁</td></tr><tr><td>lr_0</td><td>▁▁▁▁▂▂▂▂▃▃▄▄▅▅▆▆▆▇▇▇████████████████▇▇▇▇</td></tr><tr><td>lr_1</td><td>▁▁▁▁▂▂▂▂▃▃▄▄▅▅▆▆▆▇▇▇████████████████▇▇▇▇</td></tr><tr><td>mom_0</td><td>████▇▇▇▇▆▆▅▅▄▄▃▃▃▂▂▂▁▁▁▁▁▁▁▁▁▁▁▁▁▁▁▁▂▂▂▂</td></tr><tr><td>mom_1</td><td>████▇▇▇▇▆▆▅▅▄▄▃▃▃▂▂▂▁▁▁▁▁▁▁▁▁▁▁▁▁▁▁▁▂▂▂▂</td></tr><tr><td>raw_loss</td><td>█▆▇▆▅▄▄▂▂▂▂▁▁▁▁▁▁▁▁▁▁▁▁▁▁▁▁▁▁▁▁▁▁▁▁▁▁▁▁▁</td></tr><tr><td>sqr_mom_0</td><td>▁▁▁▁▁▁▁▁▁▁▁▁▁▁▁▁▁▁▁▁▁▁▁▁▁▁▁▁▁▁▁▁▁▁▁▁▁▁▁▁</td></tr><tr><td>sqr_mom_1</td><td>▁▁▁▁▁▁▁▁▁▁▁▁▁▁▁▁▁▁▁▁▁▁▁▁▁▁▁▁▁▁▁▁▁▁▁▁▁▁▁▁</td></tr><tr><td>train__rmse</td><td>█▇▆▅▃▃▂▂▂▁▁▁▁▁▁▁▁▁▁▁▁</td></tr><tr><td>train_loss</td><td>█▇▇▇▇▆▆▅▄▄▃▃▃▂▂▂▂▂▂▁▁▁▁▁▁▁▁▁▁▁▁▁▁▁▁▁▁▁▁▁</td></tr><tr><td>train_mape</td><td>█▇▅▄▃▂▂▂▁▁▁▁▁▁▁▁▁▁▁▁▁</td></tr><tr><td>train_samples_per_sec</td><td>▂▄▆▅▆▃▇▅▆▁▄▅▅▅▅▂▃▅▆▂▂▆▂▄▁▅▄▂▅▆▆▅▄▅▇█▄▆▅▁</td></tr><tr><td>valid__rmse</td><td>█▇▆▄▃▃▃▂▂▂▁▁▁▁▁▁▁▁▁▁▁</td></tr><tr><td>valid_loss</td><td>█▇▅▃▂▂▂▂▁▁▁▁▁▁▁▁▁▁▁▁▁</td></tr><tr><td>valid_mape</td><td>█▇▆▄▃▃▃▂▂▂▁▁▁▁▁▁▁▁▁▁▁</td></tr><tr><td>wd_0</td><td>▁▁▁▁▁▁▁▁▁▁▁▁▁▁▁▁▁▁▁▁▁▁▁▁▁▁▁▁▁▁▁▁▁▁▁▁▁▁▁▁</td></tr><tr><td>wd_1</td><td>▁▁▁▁▁▁▁▁▁▁▁▁▁▁▁▁▁▁▁▁▁▁▁▁▁▁▁▁▁▁▁▁▁▁▁▁▁▁▁▁</td></tr></table><br/></div><div class=\"wandb-col\"><h3>Run summary:</h3><br/><table class=\"wandb\"><tr><td>epoch</td><td>21</td></tr><tr><td>eps_0</td><td>1e-05</td></tr><tr><td>eps_1</td><td>1e-05</td></tr><tr><td>lr_0</td><td>0.00083</td></tr><tr><td>lr_1</td><td>0.00083</td></tr><tr><td>mom_0</td><td>0.862</td></tr><tr><td>mom_1</td><td>0.862</td></tr><tr><td>raw_loss</td><td>0.00701</td></tr><tr><td>sqr_mom_0</td><td>0.99</td></tr><tr><td>sqr_mom_1</td><td>0.99</td></tr><tr><td>train__rmse</td><td>0.08685</td></tr><tr><td>train_loss</td><td>0.00945</td></tr><tr><td>train_mape</td><td>3520702.5</td></tr><tr><td>train_samples_per_sec</td><td>3909.11312</td></tr><tr><td>valid__rmse</td><td>0.54127</td></tr><tr><td>valid_loss</td><td>0.29297</td></tr><tr><td>valid_mape</td><td>45764456.0</td></tr><tr><td>wd_0</td><td>0.01</td></tr><tr><td>wd_1</td><td>0.01</td></tr></table><br/></div></div>"
            ],
            "text/plain": [
              "<IPython.core.display.HTML object>"
            ]
          },
          "metadata": {},
          "output_type": "display_data"
        },
        {
          "data": {
            "text/html": [
              "Synced <strong style=\"color:#cdcd00\">polished-sweep-3</strong>: <a href=\"https://wandb.ai/ytdteam/ytd-cassandra-forecast/runs/x262stte\" target=\"_blank\">https://wandb.ai/ytdteam/ytd-cassandra-forecast/runs/x262stte</a><br/>Synced 6 W&B file(s), 1 media file(s), 2 artifact file(s) and 0 other file(s)"
            ],
            "text/plain": [
              "<IPython.core.display.HTML object>"
            ]
          },
          "metadata": {},
          "output_type": "display_data"
        },
        {
          "data": {
            "text/html": [
              "Find logs at: <code>.\\wandb\\run-20221221_235548-x262stte\\logs</code>"
            ],
            "text/plain": [
              "<IPython.core.display.HTML object>"
            ]
          },
          "metadata": {},
          "output_type": "display_data"
        },
        {
          "name": "stderr",
          "output_type": "stream",
          "text": [
            "\u001b[34m\u001b[1mwandb\u001b[0m: Agent Starting Run: 3r48q6kc with config:\n",
            "\u001b[34m\u001b[1mwandb\u001b[0m: \tarchitecture: InceptionTimePlus\n",
            "\u001b[34m\u001b[1mwandb\u001b[0m: \tbatch_size: 64\n",
            "\u001b[34m\u001b[1mwandb\u001b[0m: \tlook_back: 60\n",
            "Failed to detect the name of this notebook, you can set it manually with the WANDB_NOTEBOOK_NAME environment variable to enable code saving.\n"
          ]
        },
        {
          "data": {
            "text/html": [
              "wandb version 0.13.7 is available!  To upgrade, please run:\n",
              " $ pip install wandb --upgrade"
            ],
            "text/plain": [
              "<IPython.core.display.HTML object>"
            ]
          },
          "metadata": {},
          "output_type": "display_data"
        },
        {
          "data": {
            "text/html": [
              "Tracking run with wandb version 0.13.5"
            ],
            "text/plain": [
              "<IPython.core.display.HTML object>"
            ]
          },
          "metadata": {},
          "output_type": "display_data"
        },
        {
          "data": {
            "text/html": [
              "Run data is saved locally in <code>d:\\git\\cassandra-ai\\notebooks\\wandb\\run-20221221_235812-3r48q6kc</code>"
            ],
            "text/plain": [
              "<IPython.core.display.HTML object>"
            ]
          },
          "metadata": {},
          "output_type": "display_data"
        },
        {
          "data": {
            "text/html": [
              "Syncing run <strong><a href=\"https://wandb.ai/ytdteam/ytd-cassandra-forecast/runs/3r48q6kc\" target=\"_blank\">revived-sweep-4</a></strong> to <a href=\"https://wandb.ai/ytdteam/ytd-cassandra-forecast\" target=\"_blank\">Weights & Biases</a> (<a href=\"https://wandb.me/run\" target=\"_blank\">docs</a>)<br/>Sweep page:  <a href=\"https://wandb.ai/ytdteam/ytd-cassandra-forecast/sweeps/1ox2invt\" target=\"_blank\">https://wandb.ai/ytdteam/ytd-cassandra-forecast/sweeps/1ox2invt</a>"
            ],
            "text/plain": [
              "<IPython.core.display.HTML object>"
            ]
          },
          "metadata": {},
          "output_type": "display_data"
        },
        {
          "name": "stderr",
          "output_type": "stream",
          "text": [
            "\u001b[34m\u001b[1mwandb\u001b[0m: \u001b[33mWARNING\u001b[0m Ignored wandb.init() arg project when running a sweep.\n",
            "\u001b[34m\u001b[1mwandb\u001b[0m: \u001b[33mWARNING\u001b[0m Ignored wandb.init() arg entity when running a sweep.\n"
          ]
        },
        {
          "data": {
            "text/html": [
              "Finishing last run (ID:3r48q6kc) before initializing another..."
            ],
            "text/plain": [
              "<IPython.core.display.HTML object>"
            ]
          },
          "metadata": {},
          "output_type": "display_data"
        },
        {
          "data": {
            "text/html": [
              "Waiting for W&B process to finish... <strong style=\"color:green\">(success).</strong>"
            ],
            "text/plain": [
              "<IPython.core.display.HTML object>"
            ]
          },
          "metadata": {},
          "output_type": "display_data"
        },
        {
          "data": {
            "text/html": [
              "Synced <strong style=\"color:#cdcd00\">revived-sweep-4</strong>: <a href=\"https://wandb.ai/ytdteam/ytd-cassandra-forecast/runs/3r48q6kc\" target=\"_blank\">https://wandb.ai/ytdteam/ytd-cassandra-forecast/runs/3r48q6kc</a><br/>Synced 6 W&B file(s), 0 media file(s), 0 artifact file(s) and 0 other file(s)"
            ],
            "text/plain": [
              "<IPython.core.display.HTML object>"
            ]
          },
          "metadata": {},
          "output_type": "display_data"
        },
        {
          "data": {
            "text/html": [
              "Find logs at: <code>.\\wandb\\run-20221221_235812-3r48q6kc\\logs</code>"
            ],
            "text/plain": [
              "<IPython.core.display.HTML object>"
            ]
          },
          "metadata": {},
          "output_type": "display_data"
        },
        {
          "data": {
            "text/html": [
              "Successfully finished last run (ID:3r48q6kc). Initializing new run:<br/>"
            ],
            "text/plain": [
              "<IPython.core.display.HTML object>"
            ]
          },
          "metadata": {},
          "output_type": "display_data"
        },
        {
          "data": {
            "application/vnd.jupyter.widget-view+json": {
              "model_id": "f024d51024314e1399f30f5718989e2d",
              "version_major": 2,
              "version_minor": 0
            },
            "text/plain": [
              "VBox(children=(Label(value='Waiting for wandb.init()...\\r'), FloatProgress(value=0.01693333333338766, max=1.0)…"
            ]
          },
          "metadata": {},
          "output_type": "display_data"
        },
        {
          "data": {
            "text/html": [
              "wandb version 0.13.7 is available!  To upgrade, please run:\n",
              " $ pip install wandb --upgrade"
            ],
            "text/plain": [
              "<IPython.core.display.HTML object>"
            ]
          },
          "metadata": {},
          "output_type": "display_data"
        },
        {
          "data": {
            "text/html": [
              "Tracking run with wandb version 0.13.5"
            ],
            "text/plain": [
              "<IPython.core.display.HTML object>"
            ]
          },
          "metadata": {},
          "output_type": "display_data"
        },
        {
          "data": {
            "text/html": [
              "Run data is saved locally in <code>d:\\git\\cassandra-ai\\notebooks\\wandb\\run-20221221_235819-3r48q6kc</code>"
            ],
            "text/plain": [
              "<IPython.core.display.HTML object>"
            ]
          },
          "metadata": {},
          "output_type": "display_data"
        },
        {
          "data": {
            "text/html": [
              "Syncing run <strong><a href=\"https://wandb.ai/ytdteam/ytd-cassandra-forecast/runs/3r48q6kc\" target=\"_blank\">revived-sweep-4</a></strong> to <a href=\"https://wandb.ai/ytdteam/ytd-cassandra-forecast\" target=\"_blank\">Weights & Biases</a> (<a href=\"https://wandb.me/run\" target=\"_blank\">docs</a>)<br/>Sweep page:  <a href=\"https://wandb.ai/ytdteam/ytd-cassandra-forecast/sweeps/1ox2invt\" target=\"_blank\">https://wandb.ai/ytdteam/ytd-cassandra-forecast/sweeps/1ox2invt</a>"
            ],
            "text/plain": [
              "<IPython.core.display.HTML object>"
            ]
          },
          "metadata": {},
          "output_type": "display_data"
        },
        {
          "name": "stderr",
          "output_type": "stream",
          "text": [
            "\u001b[34m\u001b[1mwandb\u001b[0m: \u001b[33mWARNING\u001b[0m Config item 'look_back' was locked by 'sweep' (ignored update).\n",
            "\u001b[34m\u001b[1mwandb\u001b[0m: \u001b[33mWARNING\u001b[0m Config item 'batch_size' was locked by 'sweep' (ignored update).\n",
            "\u001b[34m\u001b[1mwandb\u001b[0m: \u001b[33mWARNING\u001b[0m Config item 'architecture' was locked by 'sweep' (ignored update).\n",
            "\u001b[34m\u001b[1mwandb\u001b[0m:   1 of 1 files downloaded.  \n"
          ]
        },
        {
          "name": "stdout",
          "output_type": "stream",
          "text": [
            "validation/train ratio 0.20809248554913296\n"
          ]
        },
        {
          "data": {
            "text/html": [
              "\n",
              "<style>\n",
              "    /* Turns off some styling */\n",
              "    progress {\n",
              "        /* gets rid of default border in Firefox and Opera. */\n",
              "        border: none;\n",
              "        /* Needs to be in here for Safari polyfill so background images work as expected. */\n",
              "        background-size: auto;\n",
              "    }\n",
              "    progress:not([value]), progress:not([value])::-webkit-progress-bar {\n",
              "        background: repeating-linear-gradient(45deg, #7e7e7e, #7e7e7e 10px, #5c5c5c 10px, #5c5c5c 20px);\n",
              "    }\n",
              "    .progress-bar-interrupted, .progress-bar-interrupted::-webkit-progress-bar {\n",
              "        background: #F44336;\n",
              "    }\n",
              "</style>\n"
            ],
            "text/plain": [
              "<IPython.core.display.HTML object>"
            ]
          },
          "metadata": {},
          "output_type": "display_data"
        },
        {
          "data": {
            "text/html": [],
            "text/plain": [
              "<IPython.core.display.HTML object>"
            ]
          },
          "metadata": {},
          "output_type": "display_data"
        },
        {
          "name": "stdout",
          "output_type": "stream",
          "text": [
            "WandbCallback was not able to prepare a DataLoader for logging prediction samples -> 'NoneType' object is not iterable\n"
          ]
        },
        {
          "data": {
            "text/html": [
              "\n",
              "<style>\n",
              "    /* Turns off some styling */\n",
              "    progress {\n",
              "        /* gets rid of default border in Firefox and Opera. */\n",
              "        border: none;\n",
              "        /* Needs to be in here for Safari polyfill so background images work as expected. */\n",
              "        background-size: auto;\n",
              "    }\n",
              "    progress:not([value]), progress:not([value])::-webkit-progress-bar {\n",
              "        background: repeating-linear-gradient(45deg, #7e7e7e, #7e7e7e 10px, #5c5c5c 10px, #5c5c5c 20px);\n",
              "    }\n",
              "    .progress-bar-interrupted, .progress-bar-interrupted::-webkit-progress-bar {\n",
              "        background: #F44336;\n",
              "    }\n",
              "</style>\n"
            ],
            "text/plain": [
              "<IPython.core.display.HTML object>"
            ]
          },
          "metadata": {},
          "output_type": "display_data"
        },
        {
          "data": {
            "text/html": [
              "<table border=\"1\" class=\"dataframe\">\n",
              "  <thead>\n",
              "    <tr style=\"text-align: left;\">\n",
              "      <th>epoch</th>\n",
              "      <th>train_loss</th>\n",
              "      <th>train__rmse</th>\n",
              "      <th>train_mape</th>\n",
              "      <th>valid_loss</th>\n",
              "      <th>valid__rmse</th>\n",
              "      <th>valid_mape</th>\n",
              "      <th>time</th>\n",
              "    </tr>\n",
              "  </thead>\n",
              "  <tbody>\n",
              "    <tr>\n",
              "      <td>0</td>\n",
              "      <td>0.265276</td>\n",
              "      <td>0.524360</td>\n",
              "      <td>21126332.000000</td>\n",
              "      <td>4.460394</td>\n",
              "      <td>2.111964</td>\n",
              "      <td>206423760.000000</td>\n",
              "      <td>00:00</td>\n",
              "    </tr>\n",
              "    <tr>\n",
              "      <td>1</td>\n",
              "      <td>0.172958</td>\n",
              "      <td>0.331071</td>\n",
              "      <td>13534525.000000</td>\n",
              "      <td>2.301395</td>\n",
              "      <td>1.517035</td>\n",
              "      <td>145926848.000000</td>\n",
              "      <td>00:00</td>\n",
              "    </tr>\n",
              "    <tr>\n",
              "      <td>2</td>\n",
              "      <td>0.122229</td>\n",
              "      <td>0.253046</td>\n",
              "      <td>11002476.000000</td>\n",
              "      <td>0.792076</td>\n",
              "      <td>0.889987</td>\n",
              "      <td>80068352.000000</td>\n",
              "      <td>00:00</td>\n",
              "    </tr>\n",
              "    <tr>\n",
              "      <td>3</td>\n",
              "      <td>0.090140</td>\n",
              "      <td>0.205724</td>\n",
              "      <td>9302514.000000</td>\n",
              "      <td>0.330501</td>\n",
              "      <td>0.574892</td>\n",
              "      <td>43893572.000000</td>\n",
              "      <td>00:00</td>\n",
              "    </tr>\n",
              "    <tr>\n",
              "      <td>4</td>\n",
              "      <td>0.069599</td>\n",
              "      <td>0.184444</td>\n",
              "      <td>8702977.000000</td>\n",
              "      <td>0.270345</td>\n",
              "      <td>0.519947</td>\n",
              "      <td>38818644.000000</td>\n",
              "      <td>00:00</td>\n",
              "    </tr>\n",
              "    <tr>\n",
              "      <td>5</td>\n",
              "      <td>0.054252</td>\n",
              "      <td>0.157531</td>\n",
              "      <td>7084997.000000</td>\n",
              "      <td>0.435922</td>\n",
              "      <td>0.660244</td>\n",
              "      <td>52115280.000000</td>\n",
              "      <td>00:00</td>\n",
              "    </tr>\n",
              "    <tr>\n",
              "      <td>6</td>\n",
              "      <td>0.042795</td>\n",
              "      <td>0.139598</td>\n",
              "      <td>6195155.000000</td>\n",
              "      <td>0.294030</td>\n",
              "      <td>0.542245</td>\n",
              "      <td>41681272.000000</td>\n",
              "      <td>00:00</td>\n",
              "    </tr>\n",
              "    <tr>\n",
              "      <td>7</td>\n",
              "      <td>0.034871</td>\n",
              "      <td>0.135650</td>\n",
              "      <td>5821062.500000</td>\n",
              "      <td>0.303671</td>\n",
              "      <td>0.551064</td>\n",
              "      <td>42803368.000000</td>\n",
              "      <td>00:00</td>\n",
              "    </tr>\n",
              "    <tr>\n",
              "      <td>8</td>\n",
              "      <td>0.028656</td>\n",
              "      <td>0.123744</td>\n",
              "      <td>5569339.000000</td>\n",
              "      <td>0.312808</td>\n",
              "      <td>0.559292</td>\n",
              "      <td>43019236.000000</td>\n",
              "      <td>00:00</td>\n",
              "    </tr>\n",
              "    <tr>\n",
              "      <td>9</td>\n",
              "      <td>0.025085</td>\n",
              "      <td>0.129846</td>\n",
              "      <td>5730460.000000</td>\n",
              "      <td>0.233102</td>\n",
              "      <td>0.482806</td>\n",
              "      <td>35441660.000000</td>\n",
              "      <td>00:00</td>\n",
              "    </tr>\n",
              "    <tr>\n",
              "      <td>10</td>\n",
              "      <td>0.021789</td>\n",
              "      <td>0.121660</td>\n",
              "      <td>5176406.000000</td>\n",
              "      <td>0.309320</td>\n",
              "      <td>0.556165</td>\n",
              "      <td>42829464.000000</td>\n",
              "      <td>00:00</td>\n",
              "    </tr>\n",
              "    <tr>\n",
              "      <td>11</td>\n",
              "      <td>0.018433</td>\n",
              "      <td>0.103794</td>\n",
              "      <td>4635860.500000</td>\n",
              "      <td>0.234171</td>\n",
              "      <td>0.483912</td>\n",
              "      <td>37751496.000000</td>\n",
              "      <td>00:00</td>\n",
              "    </tr>\n",
              "    <tr>\n",
              "      <td>12</td>\n",
              "      <td>0.015909</td>\n",
              "      <td>0.101869</td>\n",
              "      <td>4624373.500000</td>\n",
              "      <td>0.388481</td>\n",
              "      <td>0.623283</td>\n",
              "      <td>49610456.000000</td>\n",
              "      <td>00:00</td>\n",
              "    </tr>\n",
              "    <tr>\n",
              "      <td>13</td>\n",
              "      <td>0.013622</td>\n",
              "      <td>0.091896</td>\n",
              "      <td>3812242.250000</td>\n",
              "      <td>0.323523</td>\n",
              "      <td>0.568791</td>\n",
              "      <td>43790332.000000</td>\n",
              "      <td>00:00</td>\n",
              "    </tr>\n",
              "    <tr>\n",
              "      <td>14</td>\n",
              "      <td>0.011522</td>\n",
              "      <td>0.082160</td>\n",
              "      <td>3375796.500000</td>\n",
              "      <td>0.186813</td>\n",
              "      <td>0.432218</td>\n",
              "      <td>35839856.000000</td>\n",
              "      <td>00:00</td>\n",
              "    </tr>\n",
              "    <tr>\n",
              "      <td>15</td>\n",
              "      <td>0.010720</td>\n",
              "      <td>0.094529</td>\n",
              "      <td>3674378.500000</td>\n",
              "      <td>0.281738</td>\n",
              "      <td>0.530790</td>\n",
              "      <td>40417584.000000</td>\n",
              "      <td>00:00</td>\n",
              "    </tr>\n",
              "    <tr>\n",
              "      <td>16</td>\n",
              "      <td>0.009348</td>\n",
              "      <td>0.078705</td>\n",
              "      <td>3104776.750000</td>\n",
              "      <td>0.198298</td>\n",
              "      <td>0.445307</td>\n",
              "      <td>34682884.000000</td>\n",
              "      <td>00:00</td>\n",
              "    </tr>\n",
              "    <tr>\n",
              "      <td>17</td>\n",
              "      <td>0.008558</td>\n",
              "      <td>0.081101</td>\n",
              "      <td>3425872.000000</td>\n",
              "      <td>0.283838</td>\n",
              "      <td>0.532764</td>\n",
              "      <td>42306396.000000</td>\n",
              "      <td>00:00</td>\n",
              "    </tr>\n",
              "    <tr>\n",
              "      <td>18</td>\n",
              "      <td>0.008224</td>\n",
              "      <td>0.085980</td>\n",
              "      <td>3229943.500000</td>\n",
              "      <td>0.158874</td>\n",
              "      <td>0.398590</td>\n",
              "      <td>30113768.000000</td>\n",
              "      <td>00:00</td>\n",
              "    </tr>\n",
              "    <tr>\n",
              "      <td>19</td>\n",
              "      <td>0.007799</td>\n",
              "      <td>0.082009</td>\n",
              "      <td>3526095.000000</td>\n",
              "      <td>0.288074</td>\n",
              "      <td>0.536725</td>\n",
              "      <td>41132484.000000</td>\n",
              "      <td>00:00</td>\n",
              "    </tr>\n",
              "    <tr>\n",
              "      <td>20</td>\n",
              "      <td>0.006887</td>\n",
              "      <td>0.069218</td>\n",
              "      <td>2953070.250000</td>\n",
              "      <td>0.335984</td>\n",
              "      <td>0.579642</td>\n",
              "      <td>44927008.000000</td>\n",
              "      <td>00:00</td>\n",
              "    </tr>\n",
              "    <tr>\n",
              "      <td>21</td>\n",
              "      <td>0.006588</td>\n",
              "      <td>0.077077</td>\n",
              "      <td>3406804.000000</td>\n",
              "      <td>0.350327</td>\n",
              "      <td>0.591885</td>\n",
              "      <td>45986032.000000</td>\n",
              "      <td>00:00</td>\n",
              "    </tr>\n",
              "    <tr>\n",
              "      <td>22</td>\n",
              "      <td>0.005962</td>\n",
              "      <td>0.067297</td>\n",
              "      <td>2891502.500000</td>\n",
              "      <td>0.344954</td>\n",
              "      <td>0.587328</td>\n",
              "      <td>45679384.000000</td>\n",
              "      <td>00:00</td>\n",
              "    </tr>\n",
              "    <tr>\n",
              "      <td>23</td>\n",
              "      <td>0.005899</td>\n",
              "      <td>0.075684</td>\n",
              "      <td>3119727.000000</td>\n",
              "      <td>0.378995</td>\n",
              "      <td>0.615626</td>\n",
              "      <td>48687132.000000</td>\n",
              "      <td>00:00</td>\n",
              "    </tr>\n",
              "  </tbody>\n",
              "</table>"
            ],
            "text/plain": [
              "<IPython.core.display.HTML object>"
            ]
          },
          "metadata": {},
          "output_type": "display_data"
        },
        {
          "name": "stdout",
          "output_type": "stream",
          "text": [
            "Better model found at epoch 0 with valid_loss value: 4.460394382476807.\n",
            "Better model found at epoch 1 with valid_loss value: 2.3013947010040283.\n",
            "Better model found at epoch 2 with valid_loss value: 0.7920759320259094.\n",
            "Better model found at epoch 3 with valid_loss value: 0.3305011987686157.\n",
            "Better model found at epoch 4 with valid_loss value: 0.27034467458724976.\n",
            "Better model found at epoch 9 with valid_loss value: 0.2331015020608902.\n",
            "Better model found at epoch 14 with valid_loss value: 0.18681275844573975.\n",
            "Better model found at epoch 18 with valid_loss value: 0.15887422859668732.\n",
            "No improvement since epoch 18: early stopping\n",
            "\n",
            "InceptionTimePlus - train set\n",
            "================================================================================\n"
          ]
        },
        {
          "data": {
            "text/html": [
              "\n",
              "<style>\n",
              "    /* Turns off some styling */\n",
              "    progress {\n",
              "        /* gets rid of default border in Firefox and Opera. */\n",
              "        border: none;\n",
              "        /* Needs to be in here for Safari polyfill so background images work as expected. */\n",
              "        background-size: auto;\n",
              "    }\n",
              "    progress:not([value]), progress:not([value])::-webkit-progress-bar {\n",
              "        background: repeating-linear-gradient(45deg, #7e7e7e, #7e7e7e 10px, #5c5c5c 10px, #5c5c5c 20px);\n",
              "    }\n",
              "    .progress-bar-interrupted, .progress-bar-interrupted::-webkit-progress-bar {\n",
              "        background: #F44336;\n",
              "    }\n",
              "</style>\n"
            ],
            "text/plain": [
              "<IPython.core.display.HTML object>"
            ]
          },
          "metadata": {},
          "output_type": "display_data"
        },
        {
          "data": {
            "text/html": [],
            "text/plain": [
              "<IPython.core.display.HTML object>"
            ]
          },
          "metadata": {},
          "output_type": "display_data"
        },
        {
          "name": "stdout",
          "output_type": "stream",
          "text": [
            "MSE: 6.5924\n",
            "R2: 98.95%\n",
            "MAPE: 1.20%\n",
            "================================================================================\n",
            "\n",
            "InceptionTimePlus - validation set\n",
            "================================================================================\n"
          ]
        },
        {
          "data": {
            "text/html": [
              "\n",
              "<style>\n",
              "    /* Turns off some styling */\n",
              "    progress {\n",
              "        /* gets rid of default border in Firefox and Opera. */\n",
              "        border: none;\n",
              "        /* Needs to be in here for Safari polyfill so background images work as expected. */\n",
              "        background-size: auto;\n",
              "    }\n",
              "    progress:not([value]), progress:not([value])::-webkit-progress-bar {\n",
              "        background: repeating-linear-gradient(45deg, #7e7e7e, #7e7e7e 10px, #5c5c5c 10px, #5c5c5c 20px);\n",
              "    }\n",
              "    .progress-bar-interrupted, .progress-bar-interrupted::-webkit-progress-bar {\n",
              "        background: #F44336;\n",
              "    }\n",
              "</style>\n"
            ],
            "text/plain": [
              "<IPython.core.display.HTML object>"
            ]
          },
          "metadata": {},
          "output_type": "display_data"
        },
        {
          "data": {
            "text/html": [],
            "text/plain": [
              "<IPython.core.display.HTML object>"
            ]
          },
          "metadata": {},
          "output_type": "display_data"
        },
        {
          "name": "stdout",
          "output_type": "stream",
          "text": [
            "MSE: 189.1716\n",
            "R2: 23.35%\n",
            "MAPE: 10.29%\n",
            "================================================================================\n"
          ]
        },
        {
          "data": {
            "text/html": [
              "Waiting for W&B process to finish... <strong style=\"color:green\">(success).</strong>"
            ],
            "text/plain": [
              "<IPython.core.display.HTML object>"
            ]
          },
          "metadata": {},
          "output_type": "display_data"
        },
        {
          "data": {
            "text/html": [
              "<style>\n",
              "    table.wandb td:nth-child(1) { padding: 0 10px; text-align: left ; width: auto;} td:nth-child(2) {text-align: left ; width: 100%}\n",
              "    .wandb-row { display: flex; flex-direction: row; flex-wrap: wrap; justify-content: flex-start; width: 100% }\n",
              "    .wandb-col { display: flex; flex-direction: column; flex-basis: 100%; flex: 1; padding: 10px; }\n",
              "    </style>\n",
              "<div class=\"wandb-row\"><div class=\"wandb-col\"><h3>Run history:</h3><br/><table class=\"wandb\"><tr><td>epoch</td><td>▁▁▁▂▂▂▂▂▂▃▃▃▃▃▃▄▄▄▄▄▅▅▅▅▅▅▆▆▆▆▆▇▇▇▇▇▇███</td></tr><tr><td>eps_0</td><td>▁▁▁▁▁▁▁▁▁▁▁▁▁▁▁▁▁▁▁▁▁▁▁▁▁▁▁▁▁▁▁▁▁▁▁▁▁▁▁▁</td></tr><tr><td>eps_1</td><td>▁▁▁▁▁▁▁▁▁▁▁▁▁▁▁▁▁▁▁▁▁▁▁▁▁▁▁▁▁▁▁▁▁▁▁▁▁▁▁▁</td></tr><tr><td>lr_0</td><td>▁▁▁▁▂▂▂▃▃▄▄▅▅▆▆▇▇██████████████▇▇▇▇▇▇▇▇▆</td></tr><tr><td>lr_1</td><td>▁▁▁▁▂▂▂▃▃▄▄▅▅▆▆▇▇██████████████▇▇▇▇▇▇▇▇▆</td></tr><tr><td>mom_0</td><td>████▇▇▇▆▆▅▅▄▄▃▃▂▂▁▁▁▁▁▁▁▁▁▁▁▁▁▁▂▂▂▂▂▂▂▂▂</td></tr><tr><td>mom_1</td><td>████▇▇▇▆▆▅▅▄▄▃▃▂▂▁▁▁▁▁▁▁▁▁▁▁▁▁▁▂▂▂▂▂▂▂▂▂</td></tr><tr><td>raw_loss</td><td>█▅▃▄▃▂▂▂▂▂▁▁▁▁▁▁▁▁▁▁▁▁▁▁▁▂▁▁▁▁▁▁▁▁▁▁▁▁▁▁</td></tr><tr><td>sqr_mom_0</td><td>▁▁▁▁▁▁▁▁▁▁▁▁▁▁▁▁▁▁▁▁▁▁▁▁▁▁▁▁▁▁▁▁▁▁▁▁▁▁▁▁</td></tr><tr><td>sqr_mom_1</td><td>▁▁▁▁▁▁▁▁▁▁▁▁▁▁▁▁▁▁▁▁▁▁▁▁▁▁▁▁▁▁▁▁▁▁▁▁▁▁▁▁</td></tr><tr><td>train__rmse</td><td>█▅▄▃▃▂▂▂▂▂▂▂▂▁▁▁▁▁▁▁▁▁▁▁</td></tr><tr><td>train_loss</td><td>█▆▅▄▃▃▃▂▂▂▂▂▂▂▁▁▁▁▁▁▁▁▁▁▁▁▁▁▁▁▁▁▁▁▁▁▁▁▁▁</td></tr><tr><td>train_mape</td><td>█▅▄▃▃▃▂▂▂▂▂▂▂▁▁▁▁▁▁▁▁▁▁▁</td></tr><tr><td>train_samples_per_sec</td><td>▄▂▄▄▂▄▆▅▅▂▃▅▆▂▁▂▇▇▆▅▇▆▆▅▅▅▂▇▄▆▆▆█▆▇▆█▆▆▆</td></tr><tr><td>valid__rmse</td><td>█▆▃▂▁▂▂▂▂▁▂▁▂▂▁▂▁▂▁▂▂▂▂▂</td></tr><tr><td>valid_loss</td><td>█▄▂▁▁▁▁▁▁▁▁▁▁▁▁▁▁▁▁▁▁▁▁▁</td></tr><tr><td>valid_mape</td><td>█▆▃▂▁▂▁▂▂▁▂▁▂▂▁▁▁▁▁▁▂▂▂▂</td></tr><tr><td>wd_0</td><td>▁▁▁▁▁▁▁▁▁▁▁▁▁▁▁▁▁▁▁▁▁▁▁▁▁▁▁▁▁▁▁▁▁▁▁▁▁▁▁▁</td></tr><tr><td>wd_1</td><td>▁▁▁▁▁▁▁▁▁▁▁▁▁▁▁▁▁▁▁▁▁▁▁▁▁▁▁▁▁▁▁▁▁▁▁▁▁▁▁▁</td></tr></table><br/></div><div class=\"wandb-col\"><h3>Run summary:</h3><br/><table class=\"wandb\"><tr><td>epoch</td><td>24</td></tr><tr><td>eps_0</td><td>1e-05</td></tr><tr><td>eps_1</td><td>1e-05</td></tr><tr><td>lr_0</td><td>0.00013</td></tr><tr><td>lr_1</td><td>0.00013</td></tr><tr><td>mom_0</td><td>0.87127</td></tr><tr><td>mom_1</td><td>0.87127</td></tr><tr><td>raw_loss</td><td>0.00595</td></tr><tr><td>sqr_mom_0</td><td>0.99</td></tr><tr><td>sqr_mom_1</td><td>0.99</td></tr><tr><td>train__rmse</td><td>0.07568</td></tr><tr><td>train_loss</td><td>0.0059</td></tr><tr><td>train_mape</td><td>3119727.0</td></tr><tr><td>train_samples_per_sec</td><td>1545.66598</td></tr><tr><td>valid__rmse</td><td>0.61563</td></tr><tr><td>valid_loss</td><td>0.379</td></tr><tr><td>valid_mape</td><td>48687132.0</td></tr><tr><td>wd_0</td><td>0.01</td></tr><tr><td>wd_1</td><td>0.01</td></tr></table><br/></div></div>"
            ],
            "text/plain": [
              "<IPython.core.display.HTML object>"
            ]
          },
          "metadata": {},
          "output_type": "display_data"
        },
        {
          "data": {
            "text/html": [
              "Synced <strong style=\"color:#cdcd00\">revived-sweep-4</strong>: <a href=\"https://wandb.ai/ytdteam/ytd-cassandra-forecast/runs/3r48q6kc\" target=\"_blank\">https://wandb.ai/ytdteam/ytd-cassandra-forecast/runs/3r48q6kc</a><br/>Synced 6 W&B file(s), 1 media file(s), 2 artifact file(s) and 0 other file(s)"
            ],
            "text/plain": [
              "<IPython.core.display.HTML object>"
            ]
          },
          "metadata": {},
          "output_type": "display_data"
        },
        {
          "data": {
            "text/html": [
              "Find logs at: <code>.\\wandb\\run-20221221_235819-3r48q6kc\\logs</code>"
            ],
            "text/plain": [
              "<IPython.core.display.HTML object>"
            ]
          },
          "metadata": {},
          "output_type": "display_data"
        },
        {
          "name": "stderr",
          "output_type": "stream",
          "text": [
            "\u001b[34m\u001b[1mwandb\u001b[0m: Sweep Agent: Waiting for job.\n",
            "\u001b[34m\u001b[1mwandb\u001b[0m: Job received.\n",
            "\u001b[34m\u001b[1mwandb\u001b[0m: Agent Starting Run: shjqmt2e with config:\n",
            "\u001b[34m\u001b[1mwandb\u001b[0m: \tarchitecture: InceptionTime\n",
            "\u001b[34m\u001b[1mwandb\u001b[0m: \tbatch_size: 128\n",
            "\u001b[34m\u001b[1mwandb\u001b[0m: \tlook_back: 32\n",
            "Failed to detect the name of this notebook, you can set it manually with the WANDB_NOTEBOOK_NAME environment variable to enable code saving.\n"
          ]
        },
        {
          "data": {
            "text/html": [
              "wandb version 0.13.7 is available!  To upgrade, please run:\n",
              " $ pip install wandb --upgrade"
            ],
            "text/plain": [
              "<IPython.core.display.HTML object>"
            ]
          },
          "metadata": {},
          "output_type": "display_data"
        },
        {
          "data": {
            "text/html": [
              "Tracking run with wandb version 0.13.5"
            ],
            "text/plain": [
              "<IPython.core.display.HTML object>"
            ]
          },
          "metadata": {},
          "output_type": "display_data"
        },
        {
          "data": {
            "text/html": [
              "Run data is saved locally in <code>d:\\git\\cassandra-ai\\notebooks\\wandb\\run-20221222_000211-shjqmt2e</code>"
            ],
            "text/plain": [
              "<IPython.core.display.HTML object>"
            ]
          },
          "metadata": {},
          "output_type": "display_data"
        },
        {
          "data": {
            "text/html": [
              "Syncing run <strong><a href=\"https://wandb.ai/ytdteam/ytd-cassandra-forecast/runs/shjqmt2e\" target=\"_blank\">eager-sweep-5</a></strong> to <a href=\"https://wandb.ai/ytdteam/ytd-cassandra-forecast\" target=\"_blank\">Weights & Biases</a> (<a href=\"https://wandb.me/run\" target=\"_blank\">docs</a>)<br/>Sweep page:  <a href=\"https://wandb.ai/ytdteam/ytd-cassandra-forecast/sweeps/1ox2invt\" target=\"_blank\">https://wandb.ai/ytdteam/ytd-cassandra-forecast/sweeps/1ox2invt</a>"
            ],
            "text/plain": [
              "<IPython.core.display.HTML object>"
            ]
          },
          "metadata": {},
          "output_type": "display_data"
        },
        {
          "name": "stderr",
          "output_type": "stream",
          "text": [
            "\u001b[34m\u001b[1mwandb\u001b[0m: \u001b[33mWARNING\u001b[0m Ignored wandb.init() arg project when running a sweep.\n",
            "\u001b[34m\u001b[1mwandb\u001b[0m: \u001b[33mWARNING\u001b[0m Ignored wandb.init() arg entity when running a sweep.\n"
          ]
        },
        {
          "data": {
            "text/html": [
              "Finishing last run (ID:shjqmt2e) before initializing another..."
            ],
            "text/plain": [
              "<IPython.core.display.HTML object>"
            ]
          },
          "metadata": {},
          "output_type": "display_data"
        },
        {
          "data": {
            "text/html": [
              "Waiting for W&B process to finish... <strong style=\"color:green\">(success).</strong>"
            ],
            "text/plain": [
              "<IPython.core.display.HTML object>"
            ]
          },
          "metadata": {},
          "output_type": "display_data"
        },
        {
          "data": {
            "text/html": [
              "Synced <strong style=\"color:#cdcd00\">eager-sweep-5</strong>: <a href=\"https://wandb.ai/ytdteam/ytd-cassandra-forecast/runs/shjqmt2e\" target=\"_blank\">https://wandb.ai/ytdteam/ytd-cassandra-forecast/runs/shjqmt2e</a><br/>Synced 6 W&B file(s), 0 media file(s), 0 artifact file(s) and 0 other file(s)"
            ],
            "text/plain": [
              "<IPython.core.display.HTML object>"
            ]
          },
          "metadata": {},
          "output_type": "display_data"
        },
        {
          "data": {
            "text/html": [
              "Find logs at: <code>.\\wandb\\run-20221222_000211-shjqmt2e\\logs</code>"
            ],
            "text/plain": [
              "<IPython.core.display.HTML object>"
            ]
          },
          "metadata": {},
          "output_type": "display_data"
        },
        {
          "data": {
            "text/html": [
              "Successfully finished last run (ID:shjqmt2e). Initializing new run:<br/>"
            ],
            "text/plain": [
              "<IPython.core.display.HTML object>"
            ]
          },
          "metadata": {},
          "output_type": "display_data"
        },
        {
          "data": {
            "application/vnd.jupyter.widget-view+json": {
              "model_id": "ceab8b363548423cb8ce7bcf89f6c1a8",
              "version_major": 2,
              "version_minor": 0
            },
            "text/plain": [
              "VBox(children=(Label(value='Waiting for wandb.init()...\\r'), FloatProgress(value=0.016666666666666666, max=1.0…"
            ]
          },
          "metadata": {},
          "output_type": "display_data"
        },
        {
          "data": {
            "text/html": [
              "wandb version 0.13.7 is available!  To upgrade, please run:\n",
              " $ pip install wandb --upgrade"
            ],
            "text/plain": [
              "<IPython.core.display.HTML object>"
            ]
          },
          "metadata": {},
          "output_type": "display_data"
        },
        {
          "data": {
            "text/html": [
              "Tracking run with wandb version 0.13.5"
            ],
            "text/plain": [
              "<IPython.core.display.HTML object>"
            ]
          },
          "metadata": {},
          "output_type": "display_data"
        },
        {
          "data": {
            "text/html": [
              "Run data is saved locally in <code>d:\\git\\cassandra-ai\\notebooks\\wandb\\run-20221222_000220-shjqmt2e</code>"
            ],
            "text/plain": [
              "<IPython.core.display.HTML object>"
            ]
          },
          "metadata": {},
          "output_type": "display_data"
        },
        {
          "data": {
            "text/html": [
              "Syncing run <strong><a href=\"https://wandb.ai/ytdteam/ytd-cassandra-forecast/runs/shjqmt2e\" target=\"_blank\">eager-sweep-5</a></strong> to <a href=\"https://wandb.ai/ytdteam/ytd-cassandra-forecast\" target=\"_blank\">Weights & Biases</a> (<a href=\"https://wandb.me/run\" target=\"_blank\">docs</a>)<br/>Sweep page:  <a href=\"https://wandb.ai/ytdteam/ytd-cassandra-forecast/sweeps/1ox2invt\" target=\"_blank\">https://wandb.ai/ytdteam/ytd-cassandra-forecast/sweeps/1ox2invt</a>"
            ],
            "text/plain": [
              "<IPython.core.display.HTML object>"
            ]
          },
          "metadata": {},
          "output_type": "display_data"
        },
        {
          "name": "stderr",
          "output_type": "stream",
          "text": [
            "\u001b[34m\u001b[1mwandb\u001b[0m: \u001b[33mWARNING\u001b[0m Config item 'look_back' was locked by 'sweep' (ignored update).\n",
            "\u001b[34m\u001b[1mwandb\u001b[0m: \u001b[33mWARNING\u001b[0m Config item 'batch_size' was locked by 'sweep' (ignored update).\n",
            "\u001b[34m\u001b[1mwandb\u001b[0m: \u001b[33mWARNING\u001b[0m Config item 'architecture' was locked by 'sweep' (ignored update).\n",
            "\u001b[34m\u001b[1mwandb\u001b[0m:   1 of 1 files downloaded.  \n"
          ]
        },
        {
          "name": "stdout",
          "output_type": "stream",
          "text": [
            "validation/train ratio 0.20809248554913296\n"
          ]
        },
        {
          "data": {
            "text/html": [
              "\n",
              "<style>\n",
              "    /* Turns off some styling */\n",
              "    progress {\n",
              "        /* gets rid of default border in Firefox and Opera. */\n",
              "        border: none;\n",
              "        /* Needs to be in here for Safari polyfill so background images work as expected. */\n",
              "        background-size: auto;\n",
              "    }\n",
              "    progress:not([value]), progress:not([value])::-webkit-progress-bar {\n",
              "        background: repeating-linear-gradient(45deg, #7e7e7e, #7e7e7e 10px, #5c5c5c 10px, #5c5c5c 20px);\n",
              "    }\n",
              "    .progress-bar-interrupted, .progress-bar-interrupted::-webkit-progress-bar {\n",
              "        background: #F44336;\n",
              "    }\n",
              "</style>\n"
            ],
            "text/plain": [
              "<IPython.core.display.HTML object>"
            ]
          },
          "metadata": {},
          "output_type": "display_data"
        },
        {
          "data": {
            "text/html": [],
            "text/plain": [
              "<IPython.core.display.HTML object>"
            ]
          },
          "metadata": {},
          "output_type": "display_data"
        },
        {
          "name": "stdout",
          "output_type": "stream",
          "text": [
            "WandbCallback was not able to prepare a DataLoader for logging prediction samples -> 'NoneType' object is not iterable\n"
          ]
        },
        {
          "data": {
            "text/html": [
              "\n",
              "<style>\n",
              "    /* Turns off some styling */\n",
              "    progress {\n",
              "        /* gets rid of default border in Firefox and Opera. */\n",
              "        border: none;\n",
              "        /* Needs to be in here for Safari polyfill so background images work as expected. */\n",
              "        background-size: auto;\n",
              "    }\n",
              "    progress:not([value]), progress:not([value])::-webkit-progress-bar {\n",
              "        background: repeating-linear-gradient(45deg, #7e7e7e, #7e7e7e 10px, #5c5c5c 10px, #5c5c5c 20px);\n",
              "    }\n",
              "    .progress-bar-interrupted, .progress-bar-interrupted::-webkit-progress-bar {\n",
              "        background: #F44336;\n",
              "    }\n",
              "</style>\n"
            ],
            "text/plain": [
              "<IPython.core.display.HTML object>"
            ]
          },
          "metadata": {},
          "output_type": "display_data"
        },
        {
          "data": {
            "text/html": [
              "<table border=\"1\" class=\"dataframe\">\n",
              "  <thead>\n",
              "    <tr style=\"text-align: left;\">\n",
              "      <th>epoch</th>\n",
              "      <th>train_loss</th>\n",
              "      <th>train__rmse</th>\n",
              "      <th>train_mape</th>\n",
              "      <th>valid_loss</th>\n",
              "      <th>valid__rmse</th>\n",
              "      <th>valid_mape</th>\n",
              "      <th>time</th>\n",
              "    </tr>\n",
              "  </thead>\n",
              "  <tbody>\n",
              "    <tr>\n",
              "      <td>0</td>\n",
              "      <td>0.359859</td>\n",
              "      <td>0.607005</td>\n",
              "      <td>18310938.000000</td>\n",
              "      <td>4.557631</td>\n",
              "      <td>2.134861</td>\n",
              "      <td>208769040.000000</td>\n",
              "      <td>00:00</td>\n",
              "    </tr>\n",
              "    <tr>\n",
              "      <td>1</td>\n",
              "      <td>0.241552</td>\n",
              "      <td>0.377091</td>\n",
              "      <td>12885071.000000</td>\n",
              "      <td>4.081570</td>\n",
              "      <td>2.020290</td>\n",
              "      <td>197273648.000000</td>\n",
              "      <td>00:00</td>\n",
              "    </tr>\n",
              "    <tr>\n",
              "      <td>2</td>\n",
              "      <td>0.186300</td>\n",
              "      <td>0.320181</td>\n",
              "      <td>12593605.000000</td>\n",
              "      <td>3.126770</td>\n",
              "      <td>1.768268</td>\n",
              "      <td>171914976.000000</td>\n",
              "      <td>00:00</td>\n",
              "    </tr>\n",
              "    <tr>\n",
              "      <td>3</td>\n",
              "      <td>0.146273</td>\n",
              "      <td>0.249495</td>\n",
              "      <td>9221724.000000</td>\n",
              "      <td>1.238877</td>\n",
              "      <td>1.113049</td>\n",
              "      <td>105692640.000000</td>\n",
              "      <td>00:00</td>\n",
              "    </tr>\n",
              "    <tr>\n",
              "      <td>4</td>\n",
              "      <td>0.119763</td>\n",
              "      <td>0.224980</td>\n",
              "      <td>8216299.500000</td>\n",
              "      <td>0.400453</td>\n",
              "      <td>0.632813</td>\n",
              "      <td>55544344.000000</td>\n",
              "      <td>00:00</td>\n",
              "    </tr>\n",
              "    <tr>\n",
              "      <td>5</td>\n",
              "      <td>0.098965</td>\n",
              "      <td>0.191484</td>\n",
              "      <td>7319707.000000</td>\n",
              "      <td>0.107260</td>\n",
              "      <td>0.327506</td>\n",
              "      <td>29117542.000000</td>\n",
              "      <td>00:00</td>\n",
              "    </tr>\n",
              "    <tr>\n",
              "      <td>6</td>\n",
              "      <td>0.085108</td>\n",
              "      <td>0.195880</td>\n",
              "      <td>6283310.500000</td>\n",
              "      <td>0.136708</td>\n",
              "      <td>0.369741</td>\n",
              "      <td>32833780.000000</td>\n",
              "      <td>00:00</td>\n",
              "    </tr>\n",
              "    <tr>\n",
              "      <td>7</td>\n",
              "      <td>0.073470</td>\n",
              "      <td>0.175562</td>\n",
              "      <td>6362731.000000</td>\n",
              "      <td>0.098881</td>\n",
              "      <td>0.314453</td>\n",
              "      <td>27866618.000000</td>\n",
              "      <td>00:00</td>\n",
              "    </tr>\n",
              "    <tr>\n",
              "      <td>8</td>\n",
              "      <td>0.061949</td>\n",
              "      <td>0.133177</td>\n",
              "      <td>4589762.500000</td>\n",
              "      <td>0.151520</td>\n",
              "      <td>0.389256</td>\n",
              "      <td>34354064.000000</td>\n",
              "      <td>00:00</td>\n",
              "    </tr>\n",
              "    <tr>\n",
              "      <td>9</td>\n",
              "      <td>0.052845</td>\n",
              "      <td>0.126327</td>\n",
              "      <td>4492531.000000</td>\n",
              "      <td>0.093426</td>\n",
              "      <td>0.305657</td>\n",
              "      <td>26505188.000000</td>\n",
              "      <td>00:00</td>\n",
              "    </tr>\n",
              "    <tr>\n",
              "      <td>10</td>\n",
              "      <td>0.046472</td>\n",
              "      <td>0.140775</td>\n",
              "      <td>4500992.500000</td>\n",
              "      <td>0.066586</td>\n",
              "      <td>0.258043</td>\n",
              "      <td>22799198.000000</td>\n",
              "      <td>00:00</td>\n",
              "    </tr>\n",
              "    <tr>\n",
              "      <td>11</td>\n",
              "      <td>0.041205</td>\n",
              "      <td>0.134974</td>\n",
              "      <td>5356901.000000</td>\n",
              "      <td>0.112435</td>\n",
              "      <td>0.335314</td>\n",
              "      <td>29417834.000000</td>\n",
              "      <td>00:00</td>\n",
              "    </tr>\n",
              "    <tr>\n",
              "      <td>12</td>\n",
              "      <td>0.036298</td>\n",
              "      <td>0.119477</td>\n",
              "      <td>4692448.000000</td>\n",
              "      <td>0.070998</td>\n",
              "      <td>0.266454</td>\n",
              "      <td>21801862.000000</td>\n",
              "      <td>00:00</td>\n",
              "    </tr>\n",
              "    <tr>\n",
              "      <td>13</td>\n",
              "      <td>0.033255</td>\n",
              "      <td>0.139701</td>\n",
              "      <td>5240742.500000</td>\n",
              "      <td>0.142033</td>\n",
              "      <td>0.376873</td>\n",
              "      <td>33470762.000000</td>\n",
              "      <td>00:00</td>\n",
              "    </tr>\n",
              "    <tr>\n",
              "      <td>14</td>\n",
              "      <td>0.030928</td>\n",
              "      <td>0.142204</td>\n",
              "      <td>5326932.000000</td>\n",
              "      <td>0.137669</td>\n",
              "      <td>0.371038</td>\n",
              "      <td>32875618.000000</td>\n",
              "      <td>00:00</td>\n",
              "    </tr>\n",
              "    <tr>\n",
              "      <td>15</td>\n",
              "      <td>0.028407</td>\n",
              "      <td>0.129011</td>\n",
              "      <td>4563692.500000</td>\n",
              "      <td>0.101811</td>\n",
              "      <td>0.319079</td>\n",
              "      <td>22474748.000000</td>\n",
              "      <td>00:00</td>\n",
              "    </tr>\n",
              "  </tbody>\n",
              "</table>"
            ],
            "text/plain": [
              "<IPython.core.display.HTML object>"
            ]
          },
          "metadata": {},
          "output_type": "display_data"
        },
        {
          "name": "stdout",
          "output_type": "stream",
          "text": [
            "Better model found at epoch 0 with valid_loss value: 4.557631492614746.\n",
            "Better model found at epoch 1 with valid_loss value: 4.081570148468018.\n",
            "Better model found at epoch 2 with valid_loss value: 3.126769781112671.\n",
            "Better model found at epoch 3 with valid_loss value: 1.2388774156570435.\n",
            "Better model found at epoch 4 with valid_loss value: 0.4004526138305664.\n",
            "Better model found at epoch 5 with valid_loss value: 0.10726000368595123.\n",
            "Better model found at epoch 7 with valid_loss value: 0.09888067841529846.\n",
            "Better model found at epoch 9 with valid_loss value: 0.09342624992132187.\n",
            "Better model found at epoch 10 with valid_loss value: 0.066586434841156.\n",
            "No improvement since epoch 10: early stopping\n",
            "\n",
            "InceptionTime - train set\n",
            "================================================================================\n"
          ]
        },
        {
          "data": {
            "text/html": [
              "\n",
              "<style>\n",
              "    /* Turns off some styling */\n",
              "    progress {\n",
              "        /* gets rid of default border in Firefox and Opera. */\n",
              "        border: none;\n",
              "        /* Needs to be in here for Safari polyfill so background images work as expected. */\n",
              "        background-size: auto;\n",
              "    }\n",
              "    progress:not([value]), progress:not([value])::-webkit-progress-bar {\n",
              "        background: repeating-linear-gradient(45deg, #7e7e7e, #7e7e7e 10px, #5c5c5c 10px, #5c5c5c 20px);\n",
              "    }\n",
              "    .progress-bar-interrupted, .progress-bar-interrupted::-webkit-progress-bar {\n",
              "        background: #F44336;\n",
              "    }\n",
              "</style>\n"
            ],
            "text/plain": [
              "<IPython.core.display.HTML object>"
            ]
          },
          "metadata": {},
          "output_type": "display_data"
        },
        {
          "data": {
            "text/html": [],
            "text/plain": [
              "<IPython.core.display.HTML object>"
            ]
          },
          "metadata": {},
          "output_type": "display_data"
        },
        {
          "name": "stdout",
          "output_type": "stream",
          "text": [
            "MSE: 13.7013\n",
            "R2: 98.47%\n",
            "MAPE: 1.47%\n",
            "================================================================================\n",
            "\n",
            "InceptionTime - validation set\n",
            "================================================================================\n"
          ]
        },
        {
          "data": {
            "text/html": [
              "\n",
              "<style>\n",
              "    /* Turns off some styling */\n",
              "    progress {\n",
              "        /* gets rid of default border in Firefox and Opera. */\n",
              "        border: none;\n",
              "        /* Needs to be in here for Safari polyfill so background images work as expected. */\n",
              "        background-size: auto;\n",
              "    }\n",
              "    progress:not([value]), progress:not([value])::-webkit-progress-bar {\n",
              "        background: repeating-linear-gradient(45deg, #7e7e7e, #7e7e7e 10px, #5c5c5c 10px, #5c5c5c 20px);\n",
              "    }\n",
              "    .progress-bar-interrupted, .progress-bar-interrupted::-webkit-progress-bar {\n",
              "        background: #F44336;\n",
              "    }\n",
              "</style>\n"
            ],
            "text/plain": [
              "<IPython.core.display.HTML object>"
            ]
          },
          "metadata": {},
          "output_type": "display_data"
        },
        {
          "data": {
            "text/html": [],
            "text/plain": [
              "<IPython.core.display.HTML object>"
            ]
          },
          "metadata": {},
          "output_type": "display_data"
        },
        {
          "name": "stdout",
          "output_type": "stream",
          "text": [
            "MSE: 79.2845\n",
            "R2: 68.18%\n",
            "MAPE: 7.02%\n",
            "================================================================================\n"
          ]
        },
        {
          "data": {
            "text/html": [
              "Waiting for W&B process to finish... <strong style=\"color:green\">(success).</strong>"
            ],
            "text/plain": [
              "<IPython.core.display.HTML object>"
            ]
          },
          "metadata": {},
          "output_type": "display_data"
        },
        {
          "data": {
            "text/html": [
              "<style>\n",
              "    table.wandb td:nth-child(1) { padding: 0 10px; text-align: left ; width: auto;} td:nth-child(2) {text-align: left ; width: 100%}\n",
              "    .wandb-row { display: flex; flex-direction: row; flex-wrap: wrap; justify-content: flex-start; width: 100% }\n",
              "    .wandb-col { display: flex; flex-direction: column; flex-basis: 100%; flex: 1; padding: 10px; }\n",
              "    </style>\n",
              "<div class=\"wandb-row\"><div class=\"wandb-col\"><h3>Run history:</h3><br/><table class=\"wandb\"><tr><td>epoch</td><td>▁▁▁▁▂▂▂▂▂▃▃▃▃▃▃▄▄▄▄▄▅▅▅▅▅▅▆▆▆▆▆▇▇▇▇▇▇███</td></tr><tr><td>eps_0</td><td>▁▁▁▁▁▁▁▁▁▁▁▁▁▁▁▁▁▁▁▁▁▁▁▁▁▁▁▁▁▁▁▁▁▁▁▁▁▁▁▁</td></tr><tr><td>lr_0</td><td>▁▁▁▁▁▁▂▂▂▂▃▃▃▄▄▄▅▅▅▆▆▆▇▇▇▇██████████████</td></tr><tr><td>mom_0</td><td>██████▇▇▇▇▆▆▆▅▅▅▄▄▄▃▃▃▂▂▂▂▁▁▁▁▁▁▁▁▁▁▁▁▁▁</td></tr><tr><td>raw_loss</td><td>█▅▄▂▄▃▂▂▂▁▂▁▂▁▂▁▁▂▁▁▁▁▁▁▁▁▁▁▁▁▁▁▁▁▁▁▁▁▁▁</td></tr><tr><td>sqr_mom_0</td><td>▁▁▁▁▁▁▁▁▁▁▁▁▁▁▁▁▁▁▁▁▁▁▁▁▁▁▁▁▁▁▁▁▁▁▁▁▁▁▁▁</td></tr><tr><td>train__rmse</td><td>█▅▄▃▃▂▂▂▁▁▁▁▁▁▁▁</td></tr><tr><td>train_loss</td><td>█▇▅▄▄▃▃▃▃▂▂▂▂▂▂▂▂▂▂▂▁▁▁▁▁▁▁▁▁▁▁▁▁▁▁▁▁▁▁▁</td></tr><tr><td>train_mape</td><td>█▅▅▃▃▂▂▂▁▁▁▁▁▁▁▁</td></tr><tr><td>train_samples_per_sec</td><td>▄▆▂▇▂▅█▅▂▇▄▅▃▅▄▅▆▇▅▆▃▆▄▆▅▅▅▆▅▄▆▆▃▂▆▅▁▃▅▆</td></tr><tr><td>valid__rmse</td><td>██▇▄▂▁▁▁▁▁▁▁▁▁▁▁</td></tr><tr><td>valid_loss</td><td>█▇▆▃▂▁▁▁▁▁▁▁▁▁▁▁</td></tr><tr><td>valid_mape</td><td>██▇▄▂▁▁▁▁▁▁▁▁▁▁▁</td></tr><tr><td>wd_0</td><td>▁▁▁▁▁▁▁▁▁▁▁▁▁▁▁▁▁▁▁▁▁▁▁▁▁▁▁▁▁▁▁▁▁▁▁▁▁▁▁▁</td></tr></table><br/></div><div class=\"wandb-col\"><h3>Run summary:</h3><br/><table class=\"wandb\"><tr><td>epoch</td><td>16</td></tr><tr><td>eps_0</td><td>1e-05</td></tr><tr><td>lr_0</td><td>0.00049</td></tr><tr><td>mom_0</td><td>0.852</td></tr><tr><td>raw_loss</td><td>0.00541</td></tr><tr><td>sqr_mom_0</td><td>0.99</td></tr><tr><td>train__rmse</td><td>0.12901</td></tr><tr><td>train_loss</td><td>0.02841</td></tr><tr><td>train_mape</td><td>4563692.5</td></tr><tr><td>train_samples_per_sec</td><td>1957.62956</td></tr><tr><td>valid__rmse</td><td>0.31908</td></tr><tr><td>valid_loss</td><td>0.10181</td></tr><tr><td>valid_mape</td><td>22474748.0</td></tr><tr><td>wd_0</td><td>0.01</td></tr></table><br/></div></div>"
            ],
            "text/plain": [
              "<IPython.core.display.HTML object>"
            ]
          },
          "metadata": {},
          "output_type": "display_data"
        },
        {
          "data": {
            "text/html": [
              "Synced <strong style=\"color:#cdcd00\">eager-sweep-5</strong>: <a href=\"https://wandb.ai/ytdteam/ytd-cassandra-forecast/runs/shjqmt2e\" target=\"_blank\">https://wandb.ai/ytdteam/ytd-cassandra-forecast/runs/shjqmt2e</a><br/>Synced 6 W&B file(s), 1 media file(s), 2 artifact file(s) and 0 other file(s)"
            ],
            "text/plain": [
              "<IPython.core.display.HTML object>"
            ]
          },
          "metadata": {},
          "output_type": "display_data"
        },
        {
          "data": {
            "text/html": [
              "Find logs at: <code>.\\wandb\\run-20221222_000220-shjqmt2e\\logs</code>"
            ],
            "text/plain": [
              "<IPython.core.display.HTML object>"
            ]
          },
          "metadata": {},
          "output_type": "display_data"
        },
        {
          "name": "stderr",
          "output_type": "stream",
          "text": [
            "\u001b[34m\u001b[1mwandb\u001b[0m: Agent Starting Run: kwecnsvv with config:\n",
            "\u001b[34m\u001b[1mwandb\u001b[0m: \tarchitecture: LSTMPlus\n",
            "\u001b[34m\u001b[1mwandb\u001b[0m: \tbatch_size: 32\n",
            "\u001b[34m\u001b[1mwandb\u001b[0m: \tlook_back: 60\n",
            "Failed to detect the name of this notebook, you can set it manually with the WANDB_NOTEBOOK_NAME environment variable to enable code saving.\n"
          ]
        },
        {
          "data": {
            "text/html": [
              "wandb version 0.13.7 is available!  To upgrade, please run:\n",
              " $ pip install wandb --upgrade"
            ],
            "text/plain": [
              "<IPython.core.display.HTML object>"
            ]
          },
          "metadata": {},
          "output_type": "display_data"
        },
        {
          "data": {
            "text/html": [
              "Tracking run with wandb version 0.13.5"
            ],
            "text/plain": [
              "<IPython.core.display.HTML object>"
            ]
          },
          "metadata": {},
          "output_type": "display_data"
        },
        {
          "data": {
            "text/html": [
              "Run data is saved locally in <code>d:\\git\\cassandra-ai\\notebooks\\wandb\\run-20221222_000543-kwecnsvv</code>"
            ],
            "text/plain": [
              "<IPython.core.display.HTML object>"
            ]
          },
          "metadata": {},
          "output_type": "display_data"
        },
        {
          "data": {
            "text/html": [
              "Syncing run <strong><a href=\"https://wandb.ai/ytdteam/ytd-cassandra-forecast/runs/kwecnsvv\" target=\"_blank\">leafy-sweep-6</a></strong> to <a href=\"https://wandb.ai/ytdteam/ytd-cassandra-forecast\" target=\"_blank\">Weights & Biases</a> (<a href=\"https://wandb.me/run\" target=\"_blank\">docs</a>)<br/>Sweep page:  <a href=\"https://wandb.ai/ytdteam/ytd-cassandra-forecast/sweeps/1ox2invt\" target=\"_blank\">https://wandb.ai/ytdteam/ytd-cassandra-forecast/sweeps/1ox2invt</a>"
            ],
            "text/plain": [
              "<IPython.core.display.HTML object>"
            ]
          },
          "metadata": {},
          "output_type": "display_data"
        },
        {
          "name": "stderr",
          "output_type": "stream",
          "text": [
            "\u001b[34m\u001b[1mwandb\u001b[0m: \u001b[33mWARNING\u001b[0m Ignored wandb.init() arg project when running a sweep.\n",
            "\u001b[34m\u001b[1mwandb\u001b[0m: \u001b[33mWARNING\u001b[0m Ignored wandb.init() arg entity when running a sweep.\n"
          ]
        },
        {
          "data": {
            "text/html": [
              "Finishing last run (ID:kwecnsvv) before initializing another..."
            ],
            "text/plain": [
              "<IPython.core.display.HTML object>"
            ]
          },
          "metadata": {},
          "output_type": "display_data"
        },
        {
          "data": {
            "text/html": [
              "Waiting for W&B process to finish... <strong style=\"color:green\">(success).</strong>"
            ],
            "text/plain": [
              "<IPython.core.display.HTML object>"
            ]
          },
          "metadata": {},
          "output_type": "display_data"
        },
        {
          "data": {
            "text/html": [
              "Synced <strong style=\"color:#cdcd00\">leafy-sweep-6</strong>: <a href=\"https://wandb.ai/ytdteam/ytd-cassandra-forecast/runs/kwecnsvv\" target=\"_blank\">https://wandb.ai/ytdteam/ytd-cassandra-forecast/runs/kwecnsvv</a><br/>Synced 6 W&B file(s), 0 media file(s), 0 artifact file(s) and 0 other file(s)"
            ],
            "text/plain": [
              "<IPython.core.display.HTML object>"
            ]
          },
          "metadata": {},
          "output_type": "display_data"
        },
        {
          "data": {
            "text/html": [
              "Find logs at: <code>.\\wandb\\run-20221222_000543-kwecnsvv\\logs</code>"
            ],
            "text/plain": [
              "<IPython.core.display.HTML object>"
            ]
          },
          "metadata": {},
          "output_type": "display_data"
        },
        {
          "data": {
            "text/html": [
              "Successfully finished last run (ID:kwecnsvv). Initializing new run:<br/>"
            ],
            "text/plain": [
              "<IPython.core.display.HTML object>"
            ]
          },
          "metadata": {},
          "output_type": "display_data"
        },
        {
          "data": {
            "application/vnd.jupyter.widget-view+json": {
              "model_id": "b550322d653a4651b7b5278687a1d71e",
              "version_major": 2,
              "version_minor": 0
            },
            "text/plain": [
              "VBox(children=(Label(value='Waiting for wandb.init()...\\r'), FloatProgress(value=0.016666666666666666, max=1.0…"
            ]
          },
          "metadata": {},
          "output_type": "display_data"
        },
        {
          "data": {
            "text/html": [
              "wandb version 0.13.7 is available!  To upgrade, please run:\n",
              " $ pip install wandb --upgrade"
            ],
            "text/plain": [
              "<IPython.core.display.HTML object>"
            ]
          },
          "metadata": {},
          "output_type": "display_data"
        },
        {
          "data": {
            "text/html": [
              "Tracking run with wandb version 0.13.5"
            ],
            "text/plain": [
              "<IPython.core.display.HTML object>"
            ]
          },
          "metadata": {},
          "output_type": "display_data"
        },
        {
          "data": {
            "text/html": [
              "Run data is saved locally in <code>d:\\git\\cassandra-ai\\notebooks\\wandb\\run-20221222_000550-kwecnsvv</code>"
            ],
            "text/plain": [
              "<IPython.core.display.HTML object>"
            ]
          },
          "metadata": {},
          "output_type": "display_data"
        },
        {
          "data": {
            "text/html": [
              "Syncing run <strong><a href=\"https://wandb.ai/ytdteam/ytd-cassandra-forecast/runs/kwecnsvv\" target=\"_blank\">leafy-sweep-6</a></strong> to <a href=\"https://wandb.ai/ytdteam/ytd-cassandra-forecast\" target=\"_blank\">Weights & Biases</a> (<a href=\"https://wandb.me/run\" target=\"_blank\">docs</a>)<br/>Sweep page:  <a href=\"https://wandb.ai/ytdteam/ytd-cassandra-forecast/sweeps/1ox2invt\" target=\"_blank\">https://wandb.ai/ytdteam/ytd-cassandra-forecast/sweeps/1ox2invt</a>"
            ],
            "text/plain": [
              "<IPython.core.display.HTML object>"
            ]
          },
          "metadata": {},
          "output_type": "display_data"
        },
        {
          "name": "stderr",
          "output_type": "stream",
          "text": [
            "\u001b[34m\u001b[1mwandb\u001b[0m: \u001b[33mWARNING\u001b[0m Config item 'look_back' was locked by 'sweep' (ignored update).\n",
            "\u001b[34m\u001b[1mwandb\u001b[0m: \u001b[33mWARNING\u001b[0m Config item 'batch_size' was locked by 'sweep' (ignored update).\n",
            "\u001b[34m\u001b[1mwandb\u001b[0m: \u001b[33mWARNING\u001b[0m Config item 'architecture' was locked by 'sweep' (ignored update).\n",
            "\u001b[34m\u001b[1mwandb\u001b[0m:   1 of 1 files downloaded.  \n"
          ]
        },
        {
          "name": "stdout",
          "output_type": "stream",
          "text": [
            "validation/train ratio 0.20809248554913296\n"
          ]
        },
        {
          "data": {
            "text/html": [
              "\n",
              "<style>\n",
              "    /* Turns off some styling */\n",
              "    progress {\n",
              "        /* gets rid of default border in Firefox and Opera. */\n",
              "        border: none;\n",
              "        /* Needs to be in here for Safari polyfill so background images work as expected. */\n",
              "        background-size: auto;\n",
              "    }\n",
              "    progress:not([value]), progress:not([value])::-webkit-progress-bar {\n",
              "        background: repeating-linear-gradient(45deg, #7e7e7e, #7e7e7e 10px, #5c5c5c 10px, #5c5c5c 20px);\n",
              "    }\n",
              "    .progress-bar-interrupted, .progress-bar-interrupted::-webkit-progress-bar {\n",
              "        background: #F44336;\n",
              "    }\n",
              "</style>\n"
            ],
            "text/plain": [
              "<IPython.core.display.HTML object>"
            ]
          },
          "metadata": {},
          "output_type": "display_data"
        },
        {
          "data": {
            "text/html": [],
            "text/plain": [
              "<IPython.core.display.HTML object>"
            ]
          },
          "metadata": {},
          "output_type": "display_data"
        },
        {
          "name": "stdout",
          "output_type": "stream",
          "text": [
            "WandbCallback was not able to prepare a DataLoader for logging prediction samples -> 'NoneType' object is not iterable\n"
          ]
        },
        {
          "data": {
            "text/html": [
              "\n",
              "<style>\n",
              "    /* Turns off some styling */\n",
              "    progress {\n",
              "        /* gets rid of default border in Firefox and Opera. */\n",
              "        border: none;\n",
              "        /* Needs to be in here for Safari polyfill so background images work as expected. */\n",
              "        background-size: auto;\n",
              "    }\n",
              "    progress:not([value]), progress:not([value])::-webkit-progress-bar {\n",
              "        background: repeating-linear-gradient(45deg, #7e7e7e, #7e7e7e 10px, #5c5c5c 10px, #5c5c5c 20px);\n",
              "    }\n",
              "    .progress-bar-interrupted, .progress-bar-interrupted::-webkit-progress-bar {\n",
              "        background: #F44336;\n",
              "    }\n",
              "</style>\n"
            ],
            "text/plain": [
              "<IPython.core.display.HTML object>"
            ]
          },
          "metadata": {},
          "output_type": "display_data"
        },
        {
          "data": {
            "text/html": [
              "<table border=\"1\" class=\"dataframe\">\n",
              "  <thead>\n",
              "    <tr style=\"text-align: left;\">\n",
              "      <th>epoch</th>\n",
              "      <th>train_loss</th>\n",
              "      <th>train__rmse</th>\n",
              "      <th>train_mape</th>\n",
              "      <th>valid_loss</th>\n",
              "      <th>valid__rmse</th>\n",
              "      <th>valid_mape</th>\n",
              "      <th>time</th>\n",
              "    </tr>\n",
              "  </thead>\n",
              "  <tbody>\n",
              "    <tr>\n",
              "      <td>0</td>\n",
              "      <td>0.575243</td>\n",
              "      <td>0.767253</td>\n",
              "      <td>39360736.000000</td>\n",
              "      <td>4.886480</td>\n",
              "      <td>2.210538</td>\n",
              "      <td>216135200.000000</td>\n",
              "      <td>00:03</td>\n",
              "    </tr>\n",
              "    <tr>\n",
              "      <td>1</td>\n",
              "      <td>0.448780</td>\n",
              "      <td>0.637024</td>\n",
              "      <td>28516256.000000</td>\n",
              "      <td>3.274668</td>\n",
              "      <td>1.809604</td>\n",
              "      <td>175175504.000000</td>\n",
              "      <td>00:03</td>\n",
              "    </tr>\n",
              "    <tr>\n",
              "      <td>2</td>\n",
              "      <td>0.277105</td>\n",
              "      <td>0.406173</td>\n",
              "      <td>16546507.000000</td>\n",
              "      <td>1.506937</td>\n",
              "      <td>1.227574</td>\n",
              "      <td>114370560.000000</td>\n",
              "      <td>00:02</td>\n",
              "    </tr>\n",
              "    <tr>\n",
              "      <td>3</td>\n",
              "      <td>0.169458</td>\n",
              "      <td>0.287917</td>\n",
              "      <td>13883405.000000</td>\n",
              "      <td>1.605554</td>\n",
              "      <td>1.267105</td>\n",
              "      <td>119247120.000000</td>\n",
              "      <td>00:02</td>\n",
              "    </tr>\n",
              "    <tr>\n",
              "      <td>4</td>\n",
              "      <td>0.103694</td>\n",
              "      <td>0.218341</td>\n",
              "      <td>9355804.000000</td>\n",
              "      <td>1.037922</td>\n",
              "      <td>1.018785</td>\n",
              "      <td>93872800.000000</td>\n",
              "      <td>00:02</td>\n",
              "    </tr>\n",
              "    <tr>\n",
              "      <td>5</td>\n",
              "      <td>0.062517</td>\n",
              "      <td>0.160264</td>\n",
              "      <td>6906140.000000</td>\n",
              "      <td>0.677302</td>\n",
              "      <td>0.822984</td>\n",
              "      <td>72912024.000000</td>\n",
              "      <td>00:01</td>\n",
              "    </tr>\n",
              "    <tr>\n",
              "      <td>6</td>\n",
              "      <td>0.040033</td>\n",
              "      <td>0.139380</td>\n",
              "      <td>5905339.500000</td>\n",
              "      <td>0.476829</td>\n",
              "      <td>0.690528</td>\n",
              "      <td>58933200.000000</td>\n",
              "      <td>00:01</td>\n",
              "    </tr>\n",
              "    <tr>\n",
              "      <td>7</td>\n",
              "      <td>0.029118</td>\n",
              "      <td>0.138533</td>\n",
              "      <td>5859590.000000</td>\n",
              "      <td>0.456659</td>\n",
              "      <td>0.675765</td>\n",
              "      <td>58213908.000000</td>\n",
              "      <td>00:01</td>\n",
              "    </tr>\n",
              "    <tr>\n",
              "      <td>8</td>\n",
              "      <td>0.021339</td>\n",
              "      <td>0.118669</td>\n",
              "      <td>4968531.000000</td>\n",
              "      <td>0.367997</td>\n",
              "      <td>0.606628</td>\n",
              "      <td>52318156.000000</td>\n",
              "      <td>00:01</td>\n",
              "    </tr>\n",
              "    <tr>\n",
              "      <td>9</td>\n",
              "      <td>0.016624</td>\n",
              "      <td>0.109172</td>\n",
              "      <td>4541593.500000</td>\n",
              "      <td>0.287949</td>\n",
              "      <td>0.536608</td>\n",
              "      <td>44741036.000000</td>\n",
              "      <td>00:00</td>\n",
              "    </tr>\n",
              "    <tr>\n",
              "      <td>10</td>\n",
              "      <td>0.013728</td>\n",
              "      <td>0.105033</td>\n",
              "      <td>4241440.000000</td>\n",
              "      <td>0.292899</td>\n",
              "      <td>0.541202</td>\n",
              "      <td>46667324.000000</td>\n",
              "      <td>00:00</td>\n",
              "    </tr>\n",
              "    <tr>\n",
              "      <td>11</td>\n",
              "      <td>0.012907</td>\n",
              "      <td>0.110211</td>\n",
              "      <td>4576059.500000</td>\n",
              "      <td>0.311006</td>\n",
              "      <td>0.557679</td>\n",
              "      <td>47082688.000000</td>\n",
              "      <td>00:00</td>\n",
              "    </tr>\n",
              "    <tr>\n",
              "      <td>12</td>\n",
              "      <td>0.011323</td>\n",
              "      <td>0.097901</td>\n",
              "      <td>3949305.750000</td>\n",
              "      <td>0.257643</td>\n",
              "      <td>0.507585</td>\n",
              "      <td>42896916.000000</td>\n",
              "      <td>00:00</td>\n",
              "    </tr>\n",
              "    <tr>\n",
              "      <td>13</td>\n",
              "      <td>0.009888</td>\n",
              "      <td>0.092041</td>\n",
              "      <td>3742461.750000</td>\n",
              "      <td>0.207211</td>\n",
              "      <td>0.455205</td>\n",
              "      <td>36894780.000000</td>\n",
              "      <td>00:00</td>\n",
              "    </tr>\n",
              "    <tr>\n",
              "      <td>14</td>\n",
              "      <td>0.009673</td>\n",
              "      <td>0.095547</td>\n",
              "      <td>3833788.000000</td>\n",
              "      <td>0.235388</td>\n",
              "      <td>0.485168</td>\n",
              "      <td>39663068.000000</td>\n",
              "      <td>00:00</td>\n",
              "    </tr>\n",
              "    <tr>\n",
              "      <td>15</td>\n",
              "      <td>0.008682</td>\n",
              "      <td>0.087778</td>\n",
              "      <td>3729634.250000</td>\n",
              "      <td>0.224400</td>\n",
              "      <td>0.473709</td>\n",
              "      <td>39445464.000000</td>\n",
              "      <td>00:00</td>\n",
              "    </tr>\n",
              "    <tr>\n",
              "      <td>16</td>\n",
              "      <td>0.007763</td>\n",
              "      <td>0.082211</td>\n",
              "      <td>3341718.000000</td>\n",
              "      <td>0.230948</td>\n",
              "      <td>0.480570</td>\n",
              "      <td>39619888.000000</td>\n",
              "      <td>00:00</td>\n",
              "    </tr>\n",
              "    <tr>\n",
              "      <td>17</td>\n",
              "      <td>0.007313</td>\n",
              "      <td>0.083766</td>\n",
              "      <td>3348800.000000</td>\n",
              "      <td>0.238284</td>\n",
              "      <td>0.488143</td>\n",
              "      <td>41222896.000000</td>\n",
              "      <td>00:00</td>\n",
              "    </tr>\n",
              "    <tr>\n",
              "      <td>18</td>\n",
              "      <td>0.006744</td>\n",
              "      <td>0.079146</td>\n",
              "      <td>3164162.000000</td>\n",
              "      <td>0.208611</td>\n",
              "      <td>0.456739</td>\n",
              "      <td>37783804.000000</td>\n",
              "      <td>00:00</td>\n",
              "    </tr>\n",
              "  </tbody>\n",
              "</table>"
            ],
            "text/plain": [
              "<IPython.core.display.HTML object>"
            ]
          },
          "metadata": {},
          "output_type": "display_data"
        },
        {
          "name": "stdout",
          "output_type": "stream",
          "text": [
            "Better model found at epoch 0 with valid_loss value: 4.88647985458374.\n",
            "Better model found at epoch 1 with valid_loss value: 3.274667739868164.\n",
            "Better model found at epoch 2 with valid_loss value: 1.5069366693496704.\n",
            "Better model found at epoch 4 with valid_loss value: 1.0379219055175781.\n",
            "Better model found at epoch 5 with valid_loss value: 0.677302360534668.\n",
            "Better model found at epoch 6 with valid_loss value: 0.4768291711807251.\n",
            "Better model found at epoch 7 with valid_loss value: 0.45665863156318665.\n",
            "Better model found at epoch 8 with valid_loss value: 0.3679974377155304.\n",
            "Better model found at epoch 9 with valid_loss value: 0.2879486083984375.\n",
            "Better model found at epoch 12 with valid_loss value: 0.2576427459716797.\n",
            "Better model found at epoch 13 with valid_loss value: 0.2072114646434784.\n",
            "No improvement since epoch 13: early stopping\n",
            "\n",
            "LSTMPlus - train set\n",
            "================================================================================\n"
          ]
        },
        {
          "data": {
            "text/html": [
              "\n",
              "<style>\n",
              "    /* Turns off some styling */\n",
              "    progress {\n",
              "        /* gets rid of default border in Firefox and Opera. */\n",
              "        border: none;\n",
              "        /* Needs to be in here for Safari polyfill so background images work as expected. */\n",
              "        background-size: auto;\n",
              "    }\n",
              "    progress:not([value]), progress:not([value])::-webkit-progress-bar {\n",
              "        background: repeating-linear-gradient(45deg, #7e7e7e, #7e7e7e 10px, #5c5c5c 10px, #5c5c5c 20px);\n",
              "    }\n",
              "    .progress-bar-interrupted, .progress-bar-interrupted::-webkit-progress-bar {\n",
              "        background: #F44336;\n",
              "    }\n",
              "</style>\n"
            ],
            "text/plain": [
              "<IPython.core.display.HTML object>"
            ]
          },
          "metadata": {},
          "output_type": "display_data"
        },
        {
          "data": {
            "text/html": [],
            "text/plain": [
              "<IPython.core.display.HTML object>"
            ]
          },
          "metadata": {},
          "output_type": "display_data"
        },
        {
          "name": "stdout",
          "output_type": "stream",
          "text": [
            "MSE: 8.7503\n",
            "R2: 98.61%\n",
            "MAPE: 1.25%\n",
            "================================================================================\n",
            "\n",
            "LSTMPlus - validation set\n",
            "================================================================================\n"
          ]
        },
        {
          "data": {
            "text/html": [
              "\n",
              "<style>\n",
              "    /* Turns off some styling */\n",
              "    progress {\n",
              "        /* gets rid of default border in Firefox and Opera. */\n",
              "        border: none;\n",
              "        /* Needs to be in here for Safari polyfill so background images work as expected. */\n",
              "        background-size: auto;\n",
              "    }\n",
              "    progress:not([value]), progress:not([value])::-webkit-progress-bar {\n",
              "        background: repeating-linear-gradient(45deg, #7e7e7e, #7e7e7e 10px, #5c5c5c 10px, #5c5c5c 20px);\n",
              "    }\n",
              "    .progress-bar-interrupted, .progress-bar-interrupted::-webkit-progress-bar {\n",
              "        background: #F44336;\n",
              "    }\n",
              "</style>\n"
            ],
            "text/plain": [
              "<IPython.core.display.HTML object>"
            ]
          },
          "metadata": {},
          "output_type": "display_data"
        },
        {
          "data": {
            "text/html": [],
            "text/plain": [
              "<IPython.core.display.HTML object>"
            ]
          },
          "metadata": {},
          "output_type": "display_data"
        },
        {
          "name": "stdout",
          "output_type": "stream",
          "text": [
            "MSE: 246.7268\n",
            "R2: 0.03%\n",
            "MAPE: 12.61%\n",
            "================================================================================\n"
          ]
        },
        {
          "data": {
            "text/html": [
              "Waiting for W&B process to finish... <strong style=\"color:green\">(success).</strong>"
            ],
            "text/plain": [
              "<IPython.core.display.HTML object>"
            ]
          },
          "metadata": {},
          "output_type": "display_data"
        },
        {
          "data": {
            "text/html": [
              "<style>\n",
              "    table.wandb td:nth-child(1) { padding: 0 10px; text-align: left ; width: auto;} td:nth-child(2) {text-align: left ; width: 100%}\n",
              "    .wandb-row { display: flex; flex-direction: row; flex-wrap: wrap; justify-content: flex-start; width: 100% }\n",
              "    .wandb-col { display: flex; flex-direction: column; flex-basis: 100%; flex: 1; padding: 10px; }\n",
              "    </style>\n",
              "<div class=\"wandb-row\"><div class=\"wandb-col\"><h3>Run history:</h3><br/><table class=\"wandb\"><tr><td>epoch</td><td>▁▁▁▁▂▂▂▂▂▃▃▃▃▃▃▄▄▄▄▄▅▅▅▅▅▅▆▆▆▆▆▇▇▇▇▇▇███</td></tr><tr><td>eps_0</td><td>▁▁▁▁▁▁▁▁▁▁▁▁▁▁▁▁▁▁▁▁▁▁▁▁▁▁▁▁▁▁▁▁▁▁▁▁▁▁▁▁</td></tr><tr><td>eps_1</td><td>▁▁▁▁▁▁▁▁▁▁▁▁▁▁▁▁▁▁▁▁▁▁▁▁▁▁▁▁▁▁▁▁▁▁▁▁▁▁▁▁</td></tr><tr><td>lr_0</td><td>▁▁▁▁▁▂▂▂▃▃▃▄▄▅▅▅▆▆▆▇▇▇█████████████████▇</td></tr><tr><td>lr_1</td><td>▁▁▁▁▁▂▂▂▃▃▃▄▄▅▅▅▆▆▆▇▇▇█████████████████▇</td></tr><tr><td>mom_0</td><td>█████▇▇▇▆▆▆▅▅▄▄▄▃▃▃▂▂▂▁▁▁▁▁▁▁▁▁▁▁▁▁▁▁▁▁▁</td></tr><tr><td>mom_1</td><td>█████▇▇▇▆▆▆▅▅▄▄▄▃▃▃▂▂▂▁▁▁▁▁▁▁▁▁▁▁▁▁▁▁▁▁▁</td></tr><tr><td>raw_loss</td><td>█▅▅▅▃▂▂▁▂▂▁▁▁▁▁▁▁▁▁▁▁▁▁▁▁▁▁▁▁▁▁▁▁▁▁▁▁▁▁▁</td></tr><tr><td>sqr_mom_0</td><td>▁▁▁▁▁▁▁▁▁▁▁▁▁▁▁▁▁▁▁▁▁▁▁▁▁▁▁▁▁▁▁▁▁▁▁▁▁▁▁▁</td></tr><tr><td>sqr_mom_1</td><td>▁▁▁▁▁▁▁▁▁▁▁▁▁▁▁▁▁▁▁▁▁▁▁▁▁▁▁▁▁▁▁▁▁▁▁▁▁▁▁▁</td></tr><tr><td>train__rmse</td><td>█▇▄▃▂▂▂▂▁▁▁▁▁▁▁▁▁▁▁</td></tr><tr><td>train_loss</td><td>█▇▆▆▅▄▄▃▃▂▂▂▂▁▁▁▁▁▁▁▁▁▁▁▁▁▁▁▁▁▁▁▁▁▁▁▁▁▁▁</td></tr><tr><td>train_mape</td><td>█▆▄▃▂▂▂▂▁▁▁▁▁▁▁▁▁▁▁</td></tr><tr><td>train_samples_per_sec</td><td>▂█▅▃▅▄▁▄▆▃▆▄▇▆▄▅▄▄▇▇▄▅▇▆▅▅▃▆▆▂▃▅▅▇▆▃▆▇▅▄</td></tr><tr><td>valid__rmse</td><td>█▆▄▄▃▂▂▂▂▁▁▁▁▁▁▁▁▁▁</td></tr><tr><td>valid_loss</td><td>█▆▃▃▂▂▁▁▁▁▁▁▁▁▁▁▁▁▁</td></tr><tr><td>valid_mape</td><td>█▆▄▄▃▂▂▂▂▁▁▁▁▁▁▁▁▁▁</td></tr><tr><td>wd_0</td><td>▁▁▁▁▁▁▁▁▁▁▁▁▁▁▁▁▁▁▁▁▁▁▁▁▁▁▁▁▁▁▁▁▁▁▁▁▁▁▁▁</td></tr><tr><td>wd_1</td><td>▁▁▁▁▁▁▁▁▁▁▁▁▁▁▁▁▁▁▁▁▁▁▁▁▁▁▁▁▁▁▁▁▁▁▁▁▁▁▁▁</td></tr></table><br/></div><div class=\"wandb-col\"><h3>Run summary:</h3><br/><table class=\"wandb\"><tr><td>epoch</td><td>19</td></tr><tr><td>eps_0</td><td>1e-05</td></tr><tr><td>eps_1</td><td>1e-05</td></tr><tr><td>lr_0</td><td>0.00098</td></tr><tr><td>lr_1</td><td>0.00098</td></tr><tr><td>mom_0</td><td>0.85717</td></tr><tr><td>mom_1</td><td>0.85717</td></tr><tr><td>raw_loss</td><td>0.00358</td></tr><tr><td>sqr_mom_0</td><td>0.99</td></tr><tr><td>sqr_mom_1</td><td>0.99</td></tr><tr><td>train__rmse</td><td>0.07915</td></tr><tr><td>train_loss</td><td>0.00674</td></tr><tr><td>train_mape</td><td>3164162.0</td></tr><tr><td>train_samples_per_sec</td><td>2015.92581</td></tr><tr><td>valid__rmse</td><td>0.45674</td></tr><tr><td>valid_loss</td><td>0.20861</td></tr><tr><td>valid_mape</td><td>37783804.0</td></tr><tr><td>wd_0</td><td>0.01</td></tr><tr><td>wd_1</td><td>0.01</td></tr></table><br/></div></div>"
            ],
            "text/plain": [
              "<IPython.core.display.HTML object>"
            ]
          },
          "metadata": {},
          "output_type": "display_data"
        },
        {
          "data": {
            "text/html": [
              "Synced <strong style=\"color:#cdcd00\">leafy-sweep-6</strong>: <a href=\"https://wandb.ai/ytdteam/ytd-cassandra-forecast/runs/kwecnsvv\" target=\"_blank\">https://wandb.ai/ytdteam/ytd-cassandra-forecast/runs/kwecnsvv</a><br/>Synced 6 W&B file(s), 1 media file(s), 2 artifact file(s) and 0 other file(s)"
            ],
            "text/plain": [
              "<IPython.core.display.HTML object>"
            ]
          },
          "metadata": {},
          "output_type": "display_data"
        },
        {
          "data": {
            "text/html": [
              "Find logs at: <code>.\\wandb\\run-20221222_000550-kwecnsvv\\logs</code>"
            ],
            "text/plain": [
              "<IPython.core.display.HTML object>"
            ]
          },
          "metadata": {},
          "output_type": "display_data"
        },
        {
          "name": "stderr",
          "output_type": "stream",
          "text": [
            "\u001b[34m\u001b[1mwandb\u001b[0m: Agent Starting Run: p2zdw12y with config:\n",
            "\u001b[34m\u001b[1mwandb\u001b[0m: \tarchitecture: InceptionTimePlus\n",
            "\u001b[34m\u001b[1mwandb\u001b[0m: \tbatch_size: 32\n",
            "\u001b[34m\u001b[1mwandb\u001b[0m: \tlook_back: 128\n",
            "Failed to detect the name of this notebook, you can set it manually with the WANDB_NOTEBOOK_NAME environment variable to enable code saving.\n"
          ]
        },
        {
          "data": {
            "text/html": [
              "wandb version 0.13.7 is available!  To upgrade, please run:\n",
              " $ pip install wandb --upgrade"
            ],
            "text/plain": [
              "<IPython.core.display.HTML object>"
            ]
          },
          "metadata": {},
          "output_type": "display_data"
        },
        {
          "data": {
            "text/html": [
              "Tracking run with wandb version 0.13.5"
            ],
            "text/plain": [
              "<IPython.core.display.HTML object>"
            ]
          },
          "metadata": {},
          "output_type": "display_data"
        },
        {
          "data": {
            "text/html": [
              "Run data is saved locally in <code>d:\\git\\cassandra-ai\\notebooks\\wandb\\run-20221222_000839-p2zdw12y</code>"
            ],
            "text/plain": [
              "<IPython.core.display.HTML object>"
            ]
          },
          "metadata": {},
          "output_type": "display_data"
        },
        {
          "data": {
            "text/html": [
              "Syncing run <strong><a href=\"https://wandb.ai/ytdteam/ytd-cassandra-forecast/runs/p2zdw12y\" target=\"_blank\">leafy-sweep-7</a></strong> to <a href=\"https://wandb.ai/ytdteam/ytd-cassandra-forecast\" target=\"_blank\">Weights & Biases</a> (<a href=\"https://wandb.me/run\" target=\"_blank\">docs</a>)<br/>Sweep page:  <a href=\"https://wandb.ai/ytdteam/ytd-cassandra-forecast/sweeps/1ox2invt\" target=\"_blank\">https://wandb.ai/ytdteam/ytd-cassandra-forecast/sweeps/1ox2invt</a>"
            ],
            "text/plain": [
              "<IPython.core.display.HTML object>"
            ]
          },
          "metadata": {},
          "output_type": "display_data"
        },
        {
          "name": "stderr",
          "output_type": "stream",
          "text": [
            "\u001b[34m\u001b[1mwandb\u001b[0m: \u001b[33mWARNING\u001b[0m Ignored wandb.init() arg project when running a sweep.\n",
            "\u001b[34m\u001b[1mwandb\u001b[0m: \u001b[33mWARNING\u001b[0m Ignored wandb.init() arg entity when running a sweep.\n"
          ]
        },
        {
          "data": {
            "text/html": [
              "Finishing last run (ID:p2zdw12y) before initializing another..."
            ],
            "text/plain": [
              "<IPython.core.display.HTML object>"
            ]
          },
          "metadata": {},
          "output_type": "display_data"
        },
        {
          "data": {
            "text/html": [
              "Waiting for W&B process to finish... <strong style=\"color:green\">(success).</strong>"
            ],
            "text/plain": [
              "<IPython.core.display.HTML object>"
            ]
          },
          "metadata": {},
          "output_type": "display_data"
        },
        {
          "data": {
            "text/html": [
              "Synced <strong style=\"color:#cdcd00\">leafy-sweep-7</strong>: <a href=\"https://wandb.ai/ytdteam/ytd-cassandra-forecast/runs/p2zdw12y\" target=\"_blank\">https://wandb.ai/ytdteam/ytd-cassandra-forecast/runs/p2zdw12y</a><br/>Synced 6 W&B file(s), 0 media file(s), 0 artifact file(s) and 0 other file(s)"
            ],
            "text/plain": [
              "<IPython.core.display.HTML object>"
            ]
          },
          "metadata": {},
          "output_type": "display_data"
        },
        {
          "data": {
            "text/html": [
              "Find logs at: <code>.\\wandb\\run-20221222_000839-p2zdw12y\\logs</code>"
            ],
            "text/plain": [
              "<IPython.core.display.HTML object>"
            ]
          },
          "metadata": {},
          "output_type": "display_data"
        },
        {
          "data": {
            "text/html": [
              "Successfully finished last run (ID:p2zdw12y). Initializing new run:<br/>"
            ],
            "text/plain": [
              "<IPython.core.display.HTML object>"
            ]
          },
          "metadata": {},
          "output_type": "display_data"
        },
        {
          "data": {
            "application/vnd.jupyter.widget-view+json": {
              "model_id": "17fe6c4315ff41818075886d8bb46c2a",
              "version_major": 2,
              "version_minor": 0
            },
            "text/plain": [
              "VBox(children=(Label(value='Waiting for wandb.init()...\\r'), FloatProgress(value=0.016666666666666666, max=1.0…"
            ]
          },
          "metadata": {},
          "output_type": "display_data"
        },
        {
          "data": {
            "text/html": [
              "wandb version 0.13.7 is available!  To upgrade, please run:\n",
              " $ pip install wandb --upgrade"
            ],
            "text/plain": [
              "<IPython.core.display.HTML object>"
            ]
          },
          "metadata": {},
          "output_type": "display_data"
        },
        {
          "data": {
            "text/html": [
              "Tracking run with wandb version 0.13.5"
            ],
            "text/plain": [
              "<IPython.core.display.HTML object>"
            ]
          },
          "metadata": {},
          "output_type": "display_data"
        },
        {
          "data": {
            "text/html": [
              "Run data is saved locally in <code>d:\\git\\cassandra-ai\\notebooks\\wandb\\run-20221222_000847-p2zdw12y</code>"
            ],
            "text/plain": [
              "<IPython.core.display.HTML object>"
            ]
          },
          "metadata": {},
          "output_type": "display_data"
        },
        {
          "data": {
            "text/html": [
              "Syncing run <strong><a href=\"https://wandb.ai/ytdteam/ytd-cassandra-forecast/runs/p2zdw12y\" target=\"_blank\">leafy-sweep-7</a></strong> to <a href=\"https://wandb.ai/ytdteam/ytd-cassandra-forecast\" target=\"_blank\">Weights & Biases</a> (<a href=\"https://wandb.me/run\" target=\"_blank\">docs</a>)<br/>Sweep page:  <a href=\"https://wandb.ai/ytdteam/ytd-cassandra-forecast/sweeps/1ox2invt\" target=\"_blank\">https://wandb.ai/ytdteam/ytd-cassandra-forecast/sweeps/1ox2invt</a>"
            ],
            "text/plain": [
              "<IPython.core.display.HTML object>"
            ]
          },
          "metadata": {},
          "output_type": "display_data"
        },
        {
          "name": "stderr",
          "output_type": "stream",
          "text": [
            "\u001b[34m\u001b[1mwandb\u001b[0m: \u001b[33mWARNING\u001b[0m Config item 'look_back' was locked by 'sweep' (ignored update).\n",
            "\u001b[34m\u001b[1mwandb\u001b[0m: \u001b[33mWARNING\u001b[0m Config item 'batch_size' was locked by 'sweep' (ignored update).\n",
            "\u001b[34m\u001b[1mwandb\u001b[0m: \u001b[33mWARNING\u001b[0m Config item 'architecture' was locked by 'sweep' (ignored update).\n",
            "\u001b[34m\u001b[1mwandb\u001b[0m:   1 of 1 files downloaded.  \n"
          ]
        },
        {
          "name": "stdout",
          "output_type": "stream",
          "text": [
            "validation/train ratio 0.20809248554913296\n"
          ]
        },
        {
          "data": {
            "text/html": [
              "\n",
              "<style>\n",
              "    /* Turns off some styling */\n",
              "    progress {\n",
              "        /* gets rid of default border in Firefox and Opera. */\n",
              "        border: none;\n",
              "        /* Needs to be in here for Safari polyfill so background images work as expected. */\n",
              "        background-size: auto;\n",
              "    }\n",
              "    progress:not([value]), progress:not([value])::-webkit-progress-bar {\n",
              "        background: repeating-linear-gradient(45deg, #7e7e7e, #7e7e7e 10px, #5c5c5c 10px, #5c5c5c 20px);\n",
              "    }\n",
              "    .progress-bar-interrupted, .progress-bar-interrupted::-webkit-progress-bar {\n",
              "        background: #F44336;\n",
              "    }\n",
              "</style>\n"
            ],
            "text/plain": [
              "<IPython.core.display.HTML object>"
            ]
          },
          "metadata": {},
          "output_type": "display_data"
        },
        {
          "data": {
            "text/html": [],
            "text/plain": [
              "<IPython.core.display.HTML object>"
            ]
          },
          "metadata": {},
          "output_type": "display_data"
        },
        {
          "name": "stdout",
          "output_type": "stream",
          "text": [
            "WandbCallback was not able to prepare a DataLoader for logging prediction samples -> 'NoneType' object is not iterable\n"
          ]
        },
        {
          "data": {
            "text/html": [
              "\n",
              "<style>\n",
              "    /* Turns off some styling */\n",
              "    progress {\n",
              "        /* gets rid of default border in Firefox and Opera. */\n",
              "        border: none;\n",
              "        /* Needs to be in here for Safari polyfill so background images work as expected. */\n",
              "        background-size: auto;\n",
              "    }\n",
              "    progress:not([value]), progress:not([value])::-webkit-progress-bar {\n",
              "        background: repeating-linear-gradient(45deg, #7e7e7e, #7e7e7e 10px, #5c5c5c 10px, #5c5c5c 20px);\n",
              "    }\n",
              "    .progress-bar-interrupted, .progress-bar-interrupted::-webkit-progress-bar {\n",
              "        background: #F44336;\n",
              "    }\n",
              "</style>\n"
            ],
            "text/plain": [
              "<IPython.core.display.HTML object>"
            ]
          },
          "metadata": {},
          "output_type": "display_data"
        },
        {
          "data": {
            "text/html": [
              "<table border=\"1\" class=\"dataframe\">\n",
              "  <thead>\n",
              "    <tr style=\"text-align: left;\">\n",
              "      <th>epoch</th>\n",
              "      <th>train_loss</th>\n",
              "      <th>train__rmse</th>\n",
              "      <th>train_mape</th>\n",
              "      <th>valid_loss</th>\n",
              "      <th>valid__rmse</th>\n",
              "      <th>valid_mape</th>\n",
              "      <th>time</th>\n",
              "    </tr>\n",
              "  </thead>\n",
              "  <tbody>\n",
              "    <tr>\n",
              "      <td>0</td>\n",
              "      <td>0.125136</td>\n",
              "      <td>0.371753</td>\n",
              "      <td>17536180.000000</td>\n",
              "      <td>4.047368</td>\n",
              "      <td>2.011807</td>\n",
              "      <td>198772704.000000</td>\n",
              "      <td>00:02</td>\n",
              "    </tr>\n",
              "    <tr>\n",
              "      <td>1</td>\n",
              "      <td>0.082898</td>\n",
              "      <td>0.248815</td>\n",
              "      <td>12646192.000000</td>\n",
              "      <td>2.208641</td>\n",
              "      <td>1.486150</td>\n",
              "      <td>145656288.000000</td>\n",
              "      <td>00:02</td>\n",
              "    </tr>\n",
              "    <tr>\n",
              "      <td>2</td>\n",
              "      <td>0.063200</td>\n",
              "      <td>0.222803</td>\n",
              "      <td>10583736.000000</td>\n",
              "      <td>2.943656</td>\n",
              "      <td>1.715708</td>\n",
              "      <td>169224960.000000</td>\n",
              "      <td>00:02</td>\n",
              "    </tr>\n",
              "    <tr>\n",
              "      <td>3</td>\n",
              "      <td>0.053681</td>\n",
              "      <td>0.210248</td>\n",
              "      <td>9960477.000000</td>\n",
              "      <td>3.116056</td>\n",
              "      <td>1.765235</td>\n",
              "      <td>174657264.000000</td>\n",
              "      <td>00:02</td>\n",
              "    </tr>\n",
              "    <tr>\n",
              "      <td>4</td>\n",
              "      <td>0.042690</td>\n",
              "      <td>0.180510</td>\n",
              "      <td>8601534.000000</td>\n",
              "      <td>3.487664</td>\n",
              "      <td>1.867529</td>\n",
              "      <td>185061056.000000</td>\n",
              "      <td>00:02</td>\n",
              "    </tr>\n",
              "    <tr>\n",
              "      <td>5</td>\n",
              "      <td>0.031018</td>\n",
              "      <td>0.138388</td>\n",
              "      <td>6377853.500000</td>\n",
              "      <td>3.169475</td>\n",
              "      <td>1.780302</td>\n",
              "      <td>176343872.000000</td>\n",
              "      <td>00:02</td>\n",
              "    </tr>\n",
              "    <tr>\n",
              "      <td>6</td>\n",
              "      <td>0.028268</td>\n",
              "      <td>0.159721</td>\n",
              "      <td>7097815.500000</td>\n",
              "      <td>2.323448</td>\n",
              "      <td>1.524286</td>\n",
              "      <td>150070816.000000</td>\n",
              "      <td>00:02</td>\n",
              "    </tr>\n",
              "  </tbody>\n",
              "</table>"
            ],
            "text/plain": [
              "<IPython.core.display.HTML object>"
            ]
          },
          "metadata": {},
          "output_type": "display_data"
        },
        {
          "name": "stdout",
          "output_type": "stream",
          "text": [
            "Better model found at epoch 0 with valid_loss value: 4.047368049621582.\n",
            "Better model found at epoch 1 with valid_loss value: 2.208641290664673.\n",
            "No improvement since epoch 1: early stopping\n",
            "\n",
            "InceptionTimePlus - train set\n",
            "================================================================================\n"
          ]
        },
        {
          "data": {
            "text/html": [
              "\n",
              "<style>\n",
              "    /* Turns off some styling */\n",
              "    progress {\n",
              "        /* gets rid of default border in Firefox and Opera. */\n",
              "        border: none;\n",
              "        /* Needs to be in here for Safari polyfill so background images work as expected. */\n",
              "        background-size: auto;\n",
              "    }\n",
              "    progress:not([value]), progress:not([value])::-webkit-progress-bar {\n",
              "        background: repeating-linear-gradient(45deg, #7e7e7e, #7e7e7e 10px, #5c5c5c 10px, #5c5c5c 20px);\n",
              "    }\n",
              "    .progress-bar-interrupted, .progress-bar-interrupted::-webkit-progress-bar {\n",
              "        background: #F44336;\n",
              "    }\n",
              "</style>\n"
            ],
            "text/plain": [
              "<IPython.core.display.HTML object>"
            ]
          },
          "metadata": {},
          "output_type": "display_data"
        },
        {
          "data": {
            "text/html": [],
            "text/plain": [
              "<IPython.core.display.HTML object>"
            ]
          },
          "metadata": {},
          "output_type": "display_data"
        },
        {
          "name": "stdout",
          "output_type": "stream",
          "text": [
            "MSE: 50.0826\n",
            "R2: 91.22%\n",
            "MAPE: 3.19%\n",
            "================================================================================\n",
            "\n",
            "InceptionTimePlus - validation set\n",
            "================================================================================\n"
          ]
        },
        {
          "data": {
            "text/html": [
              "\n",
              "<style>\n",
              "    /* Turns off some styling */\n",
              "    progress {\n",
              "        /* gets rid of default border in Firefox and Opera. */\n",
              "        border: none;\n",
              "        /* Needs to be in here for Safari polyfill so background images work as expected. */\n",
              "        background-size: auto;\n",
              "    }\n",
              "    progress:not([value]), progress:not([value])::-webkit-progress-bar {\n",
              "        background: repeating-linear-gradient(45deg, #7e7e7e, #7e7e7e 10px, #5c5c5c 10px, #5c5c5c 20px);\n",
              "    }\n",
              "    .progress-bar-interrupted, .progress-bar-interrupted::-webkit-progress-bar {\n",
              "        background: #F44336;\n",
              "    }\n",
              "</style>\n"
            ],
            "text/plain": [
              "<IPython.core.display.HTML object>"
            ]
          },
          "metadata": {},
          "output_type": "display_data"
        },
        {
          "data": {
            "text/html": [],
            "text/plain": [
              "<IPython.core.display.HTML object>"
            ]
          },
          "metadata": {},
          "output_type": "display_data"
        },
        {
          "name": "stdout",
          "output_type": "stream",
          "text": [
            "MSE: 2629.8301\n",
            "R2: -2929.47%\n",
            "MAPE: 50.04%\n",
            "================================================================================\n"
          ]
        },
        {
          "data": {
            "text/html": [
              "Waiting for W&B process to finish... <strong style=\"color:green\">(success).</strong>"
            ],
            "text/plain": [
              "<IPython.core.display.HTML object>"
            ]
          },
          "metadata": {},
          "output_type": "display_data"
        },
        {
          "data": {
            "text/html": [
              "<style>\n",
              "    table.wandb td:nth-child(1) { padding: 0 10px; text-align: left ; width: auto;} td:nth-child(2) {text-align: left ; width: 100%}\n",
              "    .wandb-row { display: flex; flex-direction: row; flex-wrap: wrap; justify-content: flex-start; width: 100% }\n",
              "    .wandb-col { display: flex; flex-direction: column; flex-basis: 100%; flex: 1; padding: 10px; }\n",
              "    </style>\n",
              "<div class=\"wandb-row\"><div class=\"wandb-col\"><h3>Run history:</h3><br/><table class=\"wandb\"><tr><td>epoch</td><td>▁▁▁▁▂▂▂▂▂▃▃▃▃▃▃▄▄▄▄▄▅▅▅▅▅▅▆▆▆▆▆▇▇▇▇▇▇███</td></tr><tr><td>eps_0</td><td>▁▁▁▁▁▁▁▁▁▁▁▁▁▁▁▁▁▁▁▁▁▁▁▁▁▁▁▁▁▁▁▁▁▁▁▁▁▁▁▁</td></tr><tr><td>eps_1</td><td>▁▁▁▁▁▁▁▁▁▁▁▁▁▁▁▁▁▁▁▁▁▁▁▁▁▁▁▁▁▁▁▁▁▁▁▁▁▁▁▁</td></tr><tr><td>lr_0</td><td>▁▁▁▁▁▁▁▁▁▁▂▂▂▂▂▂▂▃▃▃▃▃▄▄▄▄▅▅▅▅▆▆▆▆▇▇▇▇██</td></tr><tr><td>lr_1</td><td>▁▁▁▁▁▁▁▁▁▁▂▂▂▂▂▂▂▃▃▃▃▃▄▄▄▄▅▅▅▅▆▆▆▆▇▇▇▇██</td></tr><tr><td>mom_0</td><td>██████████▇▇▇▇▇▇▇▆▆▆▆▆▅▅▅▅▄▄▄▄▃▃▃▃▂▂▂▂▁▁</td></tr><tr><td>mom_1</td><td>██████████▇▇▇▇▇▇▇▆▆▆▆▆▅▅▅▅▄▄▄▄▃▃▃▃▂▂▂▂▁▁</td></tr><tr><td>raw_loss</td><td>█▄▃▂▃▂▁▂▂▂▂▁▂▂▁▁▁▁▁▂▂▁▂▂▂▁▂▁▁▁▁▁▁▁▁▁▁▁▁▁</td></tr><tr><td>sqr_mom_0</td><td>▁▁▁▁▁▁▁▁▁▁▁▁▁▁▁▁▁▁▁▁▁▁▁▁▁▁▁▁▁▁▁▁▁▁▁▁▁▁▁▁</td></tr><tr><td>sqr_mom_1</td><td>▁▁▁▁▁▁▁▁▁▁▁▁▁▁▁▁▁▁▁▁▁▁▁▁▁▁▁▁▁▁▁▁▁▁▁▁▁▁▁▁</td></tr><tr><td>train__rmse</td><td>█▄▄▃▂▁▂</td></tr><tr><td>train_loss</td><td>█▆▄▄▃▃▃▂▂▂▂▂▂▂▂▂▂▂▂▂▁▁▁▁▁▁▁▁▁▁▁▁▁▁▁▁▁▁▁▁</td></tr><tr><td>train_mape</td><td>█▅▄▃▂▁▁</td></tr><tr><td>train_samples_per_sec</td><td>▅▅▄▅▇▅▆▅▆▇▅▂▆▆▄▂▅▇▅▂▃▆▄▃█▄▆▇▆▄▅▇▆▁▅█▅▆▆▅</td></tr><tr><td>valid__rmse</td><td>█▁▄▅▆▅▂</td></tr><tr><td>valid_loss</td><td>█▁▄▄▆▅▁</td></tr><tr><td>valid_mape</td><td>█▁▄▅▆▅▂</td></tr><tr><td>wd_0</td><td>▁▁▁▁▁▁▁▁▁▁▁▁▁▁▁▁▁▁▁▁▁▁▁▁▁▁▁▁▁▁▁▁▁▁▁▁▁▁▁▁</td></tr><tr><td>wd_1</td><td>▁▁▁▁▁▁▁▁▁▁▁▁▁▁▁▁▁▁▁▁▁▁▁▁▁▁▁▁▁▁▁▁▁▁▁▁▁▁▁▁</td></tr></table><br/></div><div class=\"wandb-col\"><h3>Run summary:</h3><br/><table class=\"wandb\"><tr><td>epoch</td><td>7</td></tr><tr><td>eps_0</td><td>1e-05</td></tr><tr><td>eps_1</td><td>1e-05</td></tr><tr><td>lr_0</td><td>0.0002</td></tr><tr><td>lr_1</td><td>0.0002</td></tr><tr><td>mom_0</td><td>0.89101</td></tr><tr><td>mom_1</td><td>0.89101</td></tr><tr><td>raw_loss</td><td>0.03741</td></tr><tr><td>sqr_mom_0</td><td>0.99</td></tr><tr><td>sqr_mom_1</td><td>0.99</td></tr><tr><td>train__rmse</td><td>0.15972</td></tr><tr><td>train_loss</td><td>0.02827</td></tr><tr><td>train_mape</td><td>7097815.5</td></tr><tr><td>train_samples_per_sec</td><td>491.72368</td></tr><tr><td>valid__rmse</td><td>1.52429</td></tr><tr><td>valid_loss</td><td>2.32345</td></tr><tr><td>valid_mape</td><td>150070816.0</td></tr><tr><td>wd_0</td><td>0.01</td></tr><tr><td>wd_1</td><td>0.01</td></tr></table><br/></div></div>"
            ],
            "text/plain": [
              "<IPython.core.display.HTML object>"
            ]
          },
          "metadata": {},
          "output_type": "display_data"
        },
        {
          "data": {
            "text/html": [
              "Synced <strong style=\"color:#cdcd00\">leafy-sweep-7</strong>: <a href=\"https://wandb.ai/ytdteam/ytd-cassandra-forecast/runs/p2zdw12y\" target=\"_blank\">https://wandb.ai/ytdteam/ytd-cassandra-forecast/runs/p2zdw12y</a><br/>Synced 6 W&B file(s), 1 media file(s), 2 artifact file(s) and 0 other file(s)"
            ],
            "text/plain": [
              "<IPython.core.display.HTML object>"
            ]
          },
          "metadata": {},
          "output_type": "display_data"
        },
        {
          "data": {
            "text/html": [
              "Find logs at: <code>.\\wandb\\run-20221222_000847-p2zdw12y\\logs</code>"
            ],
            "text/plain": [
              "<IPython.core.display.HTML object>"
            ]
          },
          "metadata": {},
          "output_type": "display_data"
        },
        {
          "name": "stderr",
          "output_type": "stream",
          "text": [
            "\u001b[34m\u001b[1mwandb\u001b[0m: Sweep Agent: Waiting for job.\n",
            "\u001b[34m\u001b[1mwandb\u001b[0m: Job received.\n",
            "\u001b[34m\u001b[1mwandb\u001b[0m: Agent Starting Run: fca191os with config:\n",
            "\u001b[34m\u001b[1mwandb\u001b[0m: \tarchitecture: InceptionTimePlus\n",
            "\u001b[34m\u001b[1mwandb\u001b[0m: \tbatch_size: 128\n",
            "\u001b[34m\u001b[1mwandb\u001b[0m: \tlook_back: 32\n",
            "Failed to detect the name of this notebook, you can set it manually with the WANDB_NOTEBOOK_NAME environment variable to enable code saving.\n"
          ]
        },
        {
          "data": {
            "text/html": [
              "wandb version 0.13.7 is available!  To upgrade, please run:\n",
              " $ pip install wandb --upgrade"
            ],
            "text/plain": [
              "<IPython.core.display.HTML object>"
            ]
          },
          "metadata": {},
          "output_type": "display_data"
        },
        {
          "data": {
            "text/html": [
              "Tracking run with wandb version 0.13.5"
            ],
            "text/plain": [
              "<IPython.core.display.HTML object>"
            ]
          },
          "metadata": {},
          "output_type": "display_data"
        },
        {
          "data": {
            "text/html": [
              "Run data is saved locally in <code>d:\\git\\cassandra-ai\\notebooks\\wandb\\run-20221222_001225-fca191os</code>"
            ],
            "text/plain": [
              "<IPython.core.display.HTML object>"
            ]
          },
          "metadata": {},
          "output_type": "display_data"
        },
        {
          "data": {
            "text/html": [
              "Syncing run <strong><a href=\"https://wandb.ai/ytdteam/ytd-cassandra-forecast/runs/fca191os\" target=\"_blank\">prime-sweep-8</a></strong> to <a href=\"https://wandb.ai/ytdteam/ytd-cassandra-forecast\" target=\"_blank\">Weights & Biases</a> (<a href=\"https://wandb.me/run\" target=\"_blank\">docs</a>)<br/>Sweep page:  <a href=\"https://wandb.ai/ytdteam/ytd-cassandra-forecast/sweeps/1ox2invt\" target=\"_blank\">https://wandb.ai/ytdteam/ytd-cassandra-forecast/sweeps/1ox2invt</a>"
            ],
            "text/plain": [
              "<IPython.core.display.HTML object>"
            ]
          },
          "metadata": {},
          "output_type": "display_data"
        },
        {
          "name": "stderr",
          "output_type": "stream",
          "text": [
            "\u001b[34m\u001b[1mwandb\u001b[0m: \u001b[33mWARNING\u001b[0m Ignored wandb.init() arg project when running a sweep.\n",
            "\u001b[34m\u001b[1mwandb\u001b[0m: \u001b[33mWARNING\u001b[0m Ignored wandb.init() arg entity when running a sweep.\n"
          ]
        },
        {
          "data": {
            "text/html": [
              "Finishing last run (ID:fca191os) before initializing another..."
            ],
            "text/plain": [
              "<IPython.core.display.HTML object>"
            ]
          },
          "metadata": {},
          "output_type": "display_data"
        },
        {
          "data": {
            "text/html": [
              "Waiting for W&B process to finish... <strong style=\"color:green\">(success).</strong>"
            ],
            "text/plain": [
              "<IPython.core.display.HTML object>"
            ]
          },
          "metadata": {},
          "output_type": "display_data"
        },
        {
          "data": {
            "text/html": [
              "Synced <strong style=\"color:#cdcd00\">prime-sweep-8</strong>: <a href=\"https://wandb.ai/ytdteam/ytd-cassandra-forecast/runs/fca191os\" target=\"_blank\">https://wandb.ai/ytdteam/ytd-cassandra-forecast/runs/fca191os</a><br/>Synced 6 W&B file(s), 0 media file(s), 0 artifact file(s) and 0 other file(s)"
            ],
            "text/plain": [
              "<IPython.core.display.HTML object>"
            ]
          },
          "metadata": {},
          "output_type": "display_data"
        },
        {
          "data": {
            "text/html": [
              "Find logs at: <code>.\\wandb\\run-20221222_001225-fca191os\\logs</code>"
            ],
            "text/plain": [
              "<IPython.core.display.HTML object>"
            ]
          },
          "metadata": {},
          "output_type": "display_data"
        },
        {
          "data": {
            "text/html": [
              "Successfully finished last run (ID:fca191os). Initializing new run:<br/>"
            ],
            "text/plain": [
              "<IPython.core.display.HTML object>"
            ]
          },
          "metadata": {},
          "output_type": "display_data"
        },
        {
          "data": {
            "application/vnd.jupyter.widget-view+json": {
              "model_id": "c5aa5dbbace84b808ab4396bc58f47b4",
              "version_major": 2,
              "version_minor": 0
            },
            "text/plain": [
              "VBox(children=(Label(value='Waiting for wandb.init()...\\r'), FloatProgress(value=0.016916666666656966, max=1.0…"
            ]
          },
          "metadata": {},
          "output_type": "display_data"
        },
        {
          "data": {
            "text/html": [
              "wandb version 0.13.7 is available!  To upgrade, please run:\n",
              " $ pip install wandb --upgrade"
            ],
            "text/plain": [
              "<IPython.core.display.HTML object>"
            ]
          },
          "metadata": {},
          "output_type": "display_data"
        },
        {
          "data": {
            "text/html": [
              "Tracking run with wandb version 0.13.5"
            ],
            "text/plain": [
              "<IPython.core.display.HTML object>"
            ]
          },
          "metadata": {},
          "output_type": "display_data"
        },
        {
          "data": {
            "text/html": [
              "Run data is saved locally in <code>d:\\git\\cassandra-ai\\notebooks\\wandb\\run-20221222_001233-fca191os</code>"
            ],
            "text/plain": [
              "<IPython.core.display.HTML object>"
            ]
          },
          "metadata": {},
          "output_type": "display_data"
        },
        {
          "data": {
            "text/html": [
              "Syncing run <strong><a href=\"https://wandb.ai/ytdteam/ytd-cassandra-forecast/runs/fca191os\" target=\"_blank\">prime-sweep-8</a></strong> to <a href=\"https://wandb.ai/ytdteam/ytd-cassandra-forecast\" target=\"_blank\">Weights & Biases</a> (<a href=\"https://wandb.me/run\" target=\"_blank\">docs</a>)<br/>Sweep page:  <a href=\"https://wandb.ai/ytdteam/ytd-cassandra-forecast/sweeps/1ox2invt\" target=\"_blank\">https://wandb.ai/ytdteam/ytd-cassandra-forecast/sweeps/1ox2invt</a>"
            ],
            "text/plain": [
              "<IPython.core.display.HTML object>"
            ]
          },
          "metadata": {},
          "output_type": "display_data"
        },
        {
          "name": "stderr",
          "output_type": "stream",
          "text": [
            "\u001b[34m\u001b[1mwandb\u001b[0m: \u001b[33mWARNING\u001b[0m Config item 'look_back' was locked by 'sweep' (ignored update).\n",
            "\u001b[34m\u001b[1mwandb\u001b[0m: \u001b[33mWARNING\u001b[0m Config item 'batch_size' was locked by 'sweep' (ignored update).\n",
            "\u001b[34m\u001b[1mwandb\u001b[0m: \u001b[33mWARNING\u001b[0m Config item 'architecture' was locked by 'sweep' (ignored update).\n",
            "\u001b[34m\u001b[1mwandb\u001b[0m:   1 of 1 files downloaded.  \n"
          ]
        },
        {
          "name": "stdout",
          "output_type": "stream",
          "text": [
            "validation/train ratio 0.20809248554913296\n"
          ]
        },
        {
          "data": {
            "text/html": [
              "\n",
              "<style>\n",
              "    /* Turns off some styling */\n",
              "    progress {\n",
              "        /* gets rid of default border in Firefox and Opera. */\n",
              "        border: none;\n",
              "        /* Needs to be in here for Safari polyfill so background images work as expected. */\n",
              "        background-size: auto;\n",
              "    }\n",
              "    progress:not([value]), progress:not([value])::-webkit-progress-bar {\n",
              "        background: repeating-linear-gradient(45deg, #7e7e7e, #7e7e7e 10px, #5c5c5c 10px, #5c5c5c 20px);\n",
              "    }\n",
              "    .progress-bar-interrupted, .progress-bar-interrupted::-webkit-progress-bar {\n",
              "        background: #F44336;\n",
              "    }\n",
              "</style>\n"
            ],
            "text/plain": [
              "<IPython.core.display.HTML object>"
            ]
          },
          "metadata": {},
          "output_type": "display_data"
        },
        {
          "data": {
            "text/html": [],
            "text/plain": [
              "<IPython.core.display.HTML object>"
            ]
          },
          "metadata": {},
          "output_type": "display_data"
        },
        {
          "name": "stdout",
          "output_type": "stream",
          "text": [
            "WandbCallback was not able to prepare a DataLoader for logging prediction samples -> 'NoneType' object is not iterable\n"
          ]
        },
        {
          "data": {
            "text/html": [
              "\n",
              "<style>\n",
              "    /* Turns off some styling */\n",
              "    progress {\n",
              "        /* gets rid of default border in Firefox and Opera. */\n",
              "        border: none;\n",
              "        /* Needs to be in here for Safari polyfill so background images work as expected. */\n",
              "        background-size: auto;\n",
              "    }\n",
              "    progress:not([value]), progress:not([value])::-webkit-progress-bar {\n",
              "        background: repeating-linear-gradient(45deg, #7e7e7e, #7e7e7e 10px, #5c5c5c 10px, #5c5c5c 20px);\n",
              "    }\n",
              "    .progress-bar-interrupted, .progress-bar-interrupted::-webkit-progress-bar {\n",
              "        background: #F44336;\n",
              "    }\n",
              "</style>\n"
            ],
            "text/plain": [
              "<IPython.core.display.HTML object>"
            ]
          },
          "metadata": {},
          "output_type": "display_data"
        },
        {
          "data": {
            "text/html": [
              "<table border=\"1\" class=\"dataframe\">\n",
              "  <thead>\n",
              "    <tr style=\"text-align: left;\">\n",
              "      <th>epoch</th>\n",
              "      <th>train_loss</th>\n",
              "      <th>train__rmse</th>\n",
              "      <th>train_mape</th>\n",
              "      <th>valid_loss</th>\n",
              "      <th>valid__rmse</th>\n",
              "      <th>valid_mape</th>\n",
              "      <th>time</th>\n",
              "    </tr>\n",
              "  </thead>\n",
              "  <tbody>\n",
              "    <tr>\n",
              "      <td>0</td>\n",
              "      <td>0.551608</td>\n",
              "      <td>0.746515</td>\n",
              "      <td>25792396.000000</td>\n",
              "      <td>4.508207</td>\n",
              "      <td>2.123254</td>\n",
              "      <td>207522544.000000</td>\n",
              "      <td>00:00</td>\n",
              "    </tr>\n",
              "    <tr>\n",
              "      <td>1</td>\n",
              "      <td>0.467194</td>\n",
              "      <td>0.629435</td>\n",
              "      <td>20999088.000000</td>\n",
              "      <td>4.214872</td>\n",
              "      <td>2.053015</td>\n",
              "      <td>200413168.000000</td>\n",
              "      <td>00:00</td>\n",
              "    </tr>\n",
              "    <tr>\n",
              "      <td>2</td>\n",
              "      <td>0.372248</td>\n",
              "      <td>0.479446</td>\n",
              "      <td>15413588.000000</td>\n",
              "      <td>3.497512</td>\n",
              "      <td>1.870164</td>\n",
              "      <td>182063968.000000</td>\n",
              "      <td>00:00</td>\n",
              "    </tr>\n",
              "    <tr>\n",
              "      <td>3</td>\n",
              "      <td>0.295552</td>\n",
              "      <td>0.366973</td>\n",
              "      <td>12684924.000000</td>\n",
              "      <td>1.837131</td>\n",
              "      <td>1.355408</td>\n",
              "      <td>130240328.000000</td>\n",
              "      <td>00:00</td>\n",
              "    </tr>\n",
              "    <tr>\n",
              "      <td>4</td>\n",
              "      <td>0.246022</td>\n",
              "      <td>0.342794</td>\n",
              "      <td>12328738.000000</td>\n",
              "      <td>0.815217</td>\n",
              "      <td>0.902894</td>\n",
              "      <td>84152008.000000</td>\n",
              "      <td>00:00</td>\n",
              "    </tr>\n",
              "    <tr>\n",
              "      <td>5</td>\n",
              "      <td>0.201262</td>\n",
              "      <td>0.260309</td>\n",
              "      <td>9391670.000000</td>\n",
              "      <td>0.563534</td>\n",
              "      <td>0.750689</td>\n",
              "      <td>68839352.000000</td>\n",
              "      <td>00:00</td>\n",
              "    </tr>\n",
              "    <tr>\n",
              "      <td>6</td>\n",
              "      <td>0.166328</td>\n",
              "      <td>0.222838</td>\n",
              "      <td>8007280.000000</td>\n",
              "      <td>0.089976</td>\n",
              "      <td>0.299960</td>\n",
              "      <td>21258816.000000</td>\n",
              "      <td>00:00</td>\n",
              "    </tr>\n",
              "    <tr>\n",
              "      <td>7</td>\n",
              "      <td>0.139518</td>\n",
              "      <td>0.205060</td>\n",
              "      <td>7296459.500000</td>\n",
              "      <td>0.120240</td>\n",
              "      <td>0.346757</td>\n",
              "      <td>24387092.000000</td>\n",
              "      <td>00:00</td>\n",
              "    </tr>\n",
              "    <tr>\n",
              "      <td>8</td>\n",
              "      <td>0.115833</td>\n",
              "      <td>0.157835</td>\n",
              "      <td>5966311.000000</td>\n",
              "      <td>0.075035</td>\n",
              "      <td>0.273926</td>\n",
              "      <td>23516090.000000</td>\n",
              "      <td>00:00</td>\n",
              "    </tr>\n",
              "    <tr>\n",
              "      <td>9</td>\n",
              "      <td>0.097192</td>\n",
              "      <td>0.147693</td>\n",
              "      <td>5614551.000000</td>\n",
              "      <td>0.105925</td>\n",
              "      <td>0.325462</td>\n",
              "      <td>22504138.000000</td>\n",
              "      <td>00:00</td>\n",
              "    </tr>\n",
              "    <tr>\n",
              "      <td>10</td>\n",
              "      <td>0.082825</td>\n",
              "      <td>0.150149</td>\n",
              "      <td>5529175.000000</td>\n",
              "      <td>0.076013</td>\n",
              "      <td>0.275704</td>\n",
              "      <td>21720660.000000</td>\n",
              "      <td>00:00</td>\n",
              "    </tr>\n",
              "    <tr>\n",
              "      <td>11</td>\n",
              "      <td>0.070963</td>\n",
              "      <td>0.139588</td>\n",
              "      <td>6024212.500000</td>\n",
              "      <td>0.083990</td>\n",
              "      <td>0.289810</td>\n",
              "      <td>21901338.000000</td>\n",
              "      <td>00:00</td>\n",
              "    </tr>\n",
              "    <tr>\n",
              "      <td>12</td>\n",
              "      <td>0.061124</td>\n",
              "      <td>0.131228</td>\n",
              "      <td>4749423.000000</td>\n",
              "      <td>0.082842</td>\n",
              "      <td>0.287822</td>\n",
              "      <td>22158086.000000</td>\n",
              "      <td>00:00</td>\n",
              "    </tr>\n",
              "    <tr>\n",
              "      <td>13</td>\n",
              "      <td>0.053913</td>\n",
              "      <td>0.145407</td>\n",
              "      <td>5262433.500000</td>\n",
              "      <td>0.077035</td>\n",
              "      <td>0.277552</td>\n",
              "      <td>22883970.000000</td>\n",
              "      <td>00:00</td>\n",
              "    </tr>\n",
              "  </tbody>\n",
              "</table>"
            ],
            "text/plain": [
              "<IPython.core.display.HTML object>"
            ]
          },
          "metadata": {},
          "output_type": "display_data"
        },
        {
          "name": "stdout",
          "output_type": "stream",
          "text": [
            "Better model found at epoch 0 with valid_loss value: 4.508207321166992.\n",
            "Better model found at epoch 1 with valid_loss value: 4.214872360229492.\n",
            "Better model found at epoch 2 with valid_loss value: 3.497511625289917.\n",
            "Better model found at epoch 3 with valid_loss value: 1.837131142616272.\n",
            "Better model found at epoch 4 with valid_loss value: 0.8152171969413757.\n",
            "Better model found at epoch 5 with valid_loss value: 0.5635337829589844.\n",
            "Better model found at epoch 6 with valid_loss value: 0.0899757370352745.\n",
            "Better model found at epoch 8 with valid_loss value: 0.0750352144241333.\n",
            "No improvement since epoch 8: early stopping\n",
            "\n",
            "InceptionTimePlus - train set\n",
            "================================================================================\n"
          ]
        },
        {
          "data": {
            "text/html": [
              "\n",
              "<style>\n",
              "    /* Turns off some styling */\n",
              "    progress {\n",
              "        /* gets rid of default border in Firefox and Opera. */\n",
              "        border: none;\n",
              "        /* Needs to be in here for Safari polyfill so background images work as expected. */\n",
              "        background-size: auto;\n",
              "    }\n",
              "    progress:not([value]), progress:not([value])::-webkit-progress-bar {\n",
              "        background: repeating-linear-gradient(45deg, #7e7e7e, #7e7e7e 10px, #5c5c5c 10px, #5c5c5c 20px);\n",
              "    }\n",
              "    .progress-bar-interrupted, .progress-bar-interrupted::-webkit-progress-bar {\n",
              "        background: #F44336;\n",
              "    }\n",
              "</style>\n"
            ],
            "text/plain": [
              "<IPython.core.display.HTML object>"
            ]
          },
          "metadata": {},
          "output_type": "display_data"
        },
        {
          "data": {
            "text/html": [],
            "text/plain": [
              "<IPython.core.display.HTML object>"
            ]
          },
          "metadata": {},
          "output_type": "display_data"
        },
        {
          "name": "stdout",
          "output_type": "stream",
          "text": [
            "MSE: 23.1357\n",
            "R2: 97.42%\n",
            "MAPE: 1.91%\n",
            "================================================================================\n",
            "\n",
            "InceptionTimePlus - validation set\n",
            "================================================================================\n"
          ]
        },
        {
          "data": {
            "text/html": [
              "\n",
              "<style>\n",
              "    /* Turns off some styling */\n",
              "    progress {\n",
              "        /* gets rid of default border in Firefox and Opera. */\n",
              "        border: none;\n",
              "        /* Needs to be in here for Safari polyfill so background images work as expected. */\n",
              "        background-size: auto;\n",
              "    }\n",
              "    progress:not([value]), progress:not([value])::-webkit-progress-bar {\n",
              "        background: repeating-linear-gradient(45deg, #7e7e7e, #7e7e7e 10px, #5c5c5c 10px, #5c5c5c 20px);\n",
              "    }\n",
              "    .progress-bar-interrupted, .progress-bar-interrupted::-webkit-progress-bar {\n",
              "        background: #F44336;\n",
              "    }\n",
              "</style>\n"
            ],
            "text/plain": [
              "<IPython.core.display.HTML object>"
            ]
          },
          "metadata": {},
          "output_type": "display_data"
        },
        {
          "data": {
            "text/html": [],
            "text/plain": [
              "<IPython.core.display.HTML object>"
            ]
          },
          "metadata": {},
          "output_type": "display_data"
        },
        {
          "name": "stdout",
          "output_type": "stream",
          "text": [
            "MSE: 89.3445\n",
            "R2: 64.14%\n",
            "MAPE: 7.42%\n",
            "================================================================================\n"
          ]
        },
        {
          "data": {
            "text/html": [
              "Waiting for W&B process to finish... <strong style=\"color:green\">(success).</strong>"
            ],
            "text/plain": [
              "<IPython.core.display.HTML object>"
            ]
          },
          "metadata": {},
          "output_type": "display_data"
        },
        {
          "data": {
            "text/html": [
              "<style>\n",
              "    table.wandb td:nth-child(1) { padding: 0 10px; text-align: left ; width: auto;} td:nth-child(2) {text-align: left ; width: 100%}\n",
              "    .wandb-row { display: flex; flex-direction: row; flex-wrap: wrap; justify-content: flex-start; width: 100% }\n",
              "    .wandb-col { display: flex; flex-direction: column; flex-basis: 100%; flex: 1; padding: 10px; }\n",
              "    </style>\n",
              "<div class=\"wandb-row\"><div class=\"wandb-col\"><h3>Run history:</h3><br/><table class=\"wandb\"><tr><td>epoch</td><td>▁▁▁▂▂▂▂▂▂▃▃▃▃▃▃▄▄▄▄▄▅▅▅▅▅▅▆▆▆▆▆▇▇▇▇▇▇███</td></tr><tr><td>eps_0</td><td>▁▁▁▁▁▁▁▁▁▁▁▁▁▁▁▁▁▁▁▁▁▁▁▁▁▁▁▁▁▁▁▁▁▁▁▁▁▁▁▁</td></tr><tr><td>eps_1</td><td>▁▁▁▁▁▁▁▁▁▁▁▁▁▁▁▁▁▁▁▁▁▁▁▁▁▁▁▁▁▁▁▁▁▁▁▁▁▁▁▁</td></tr><tr><td>lr_0</td><td>▁▁▁▁▁▁▁▂▂▂▂▃▃▃▃▄▄▄▅▅▅▆▆▆▆▇▇▇▇▇██████████</td></tr><tr><td>lr_1</td><td>▁▁▁▁▁▁▁▂▂▂▂▃▃▃▃▄▄▄▅▅▅▆▆▆▆▇▇▇▇▇██████████</td></tr><tr><td>mom_0</td><td>███████▇▇▇▇▆▆▆▆▅▅▅▄▄▄▃▃▃▃▂▂▂▂▂▁▁▁▁▁▁▁▁▁▁</td></tr><tr><td>mom_1</td><td>███████▇▇▇▇▆▆▆▆▅▅▅▄▄▄▃▃▃▃▂▂▂▂▂▁▁▁▁▁▁▁▁▁▁</td></tr><tr><td>raw_loss</td><td>█▅▆▄▅▃▄▃▂▂▂▂▂▂▂▂▂▁▁▁▁▁▁▁▁▁▁▁▁▁▁▁▁▁▁▁▁▁▁▁</td></tr><tr><td>sqr_mom_0</td><td>▁▁▁▁▁▁▁▁▁▁▁▁▁▁▁▁▁▁▁▁▁▁▁▁▁▁▁▁▁▁▁▁▁▁▁▁▁▁▁▁</td></tr><tr><td>sqr_mom_1</td><td>▁▁▁▁▁▁▁▁▁▁▁▁▁▁▁▁▁▁▁▁▁▁▁▁▁▁▁▁▁▁▁▁▁▁▁▁▁▁▁▁</td></tr><tr><td>train__rmse</td><td>█▇▅▄▃▂▂▂▁▁▁▁▁▁</td></tr><tr><td>train_loss</td><td>█▇▆▅▅▅▅▄▄▄▃▃▃▃▃▃▂▂▂▂▂▂▂▂▂▂▂▁▁▁▁▁▁▁▁▁▁▁▁▁</td></tr><tr><td>train_mape</td><td>█▆▅▄▄▃▂▂▁▁▁▁▁▁</td></tr><tr><td>train_samples_per_sec</td><td>▄▃▃▆▇▁▆▆▆█▇▅▇▇▇▇▅▅▇▇█▆▆▆▆▆▆▇▇▆▇▄▆██▆█▇█▇</td></tr><tr><td>valid__rmse</td><td>██▇▅▃▃▁▁▁▁▁▁▁▁</td></tr><tr><td>valid_loss</td><td>██▆▄▂▂▁▁▁▁▁▁▁▁</td></tr><tr><td>valid_mape</td><td>██▇▅▃▃▁▁▁▁▁▁▁▁</td></tr><tr><td>wd_0</td><td>▁▁▁▁▁▁▁▁▁▁▁▁▁▁▁▁▁▁▁▁▁▁▁▁▁▁▁▁▁▁▁▁▁▁▁▁▁▁▁▁</td></tr><tr><td>wd_1</td><td>▁▁▁▁▁▁▁▁▁▁▁▁▁▁▁▁▁▁▁▁▁▁▁▁▁▁▁▁▁▁▁▁▁▁▁▁▁▁▁▁</td></tr></table><br/></div><div class=\"wandb-col\"><h3>Run summary:</h3><br/><table class=\"wandb\"><tr><td>epoch</td><td>14</td></tr><tr><td>eps_0</td><td>1e-05</td></tr><tr><td>eps_1</td><td>1e-05</td></tr><tr><td>lr_0</td><td>0.00011</td></tr><tr><td>lr_1</td><td>0.00011</td></tr><tr><td>mom_0</td><td>0.85034</td></tr><tr><td>mom_1</td><td>0.85034</td></tr><tr><td>raw_loss</td><td>0.02336</td></tr><tr><td>sqr_mom_0</td><td>0.99</td></tr><tr><td>sqr_mom_1</td><td>0.99</td></tr><tr><td>train__rmse</td><td>0.14541</td></tr><tr><td>train_loss</td><td>0.05391</td></tr><tr><td>train_mape</td><td>5262433.5</td></tr><tr><td>train_samples_per_sec</td><td>1877.53486</td></tr><tr><td>valid__rmse</td><td>0.27755</td></tr><tr><td>valid_loss</td><td>0.07704</td></tr><tr><td>valid_mape</td><td>22883970.0</td></tr><tr><td>wd_0</td><td>0.01</td></tr><tr><td>wd_1</td><td>0.01</td></tr></table><br/></div></div>"
            ],
            "text/plain": [
              "<IPython.core.display.HTML object>"
            ]
          },
          "metadata": {},
          "output_type": "display_data"
        },
        {
          "data": {
            "text/html": [
              "Synced <strong style=\"color:#cdcd00\">prime-sweep-8</strong>: <a href=\"https://wandb.ai/ytdteam/ytd-cassandra-forecast/runs/fca191os\" target=\"_blank\">https://wandb.ai/ytdteam/ytd-cassandra-forecast/runs/fca191os</a><br/>Synced 6 W&B file(s), 1 media file(s), 2 artifact file(s) and 0 other file(s)"
            ],
            "text/plain": [
              "<IPython.core.display.HTML object>"
            ]
          },
          "metadata": {},
          "output_type": "display_data"
        },
        {
          "data": {
            "text/html": [
              "Find logs at: <code>.\\wandb\\run-20221222_001233-fca191os\\logs</code>"
            ],
            "text/plain": [
              "<IPython.core.display.HTML object>"
            ]
          },
          "metadata": {},
          "output_type": "display_data"
        },
        {
          "name": "stderr",
          "output_type": "stream",
          "text": [
            "\u001b[34m\u001b[1mwandb\u001b[0m: Agent Starting Run: czrbnyaj with config:\n",
            "\u001b[34m\u001b[1mwandb\u001b[0m: \tarchitecture: InceptionTimePlus\n",
            "\u001b[34m\u001b[1mwandb\u001b[0m: \tbatch_size: 128\n",
            "\u001b[34m\u001b[1mwandb\u001b[0m: \tlook_back: 32\n",
            "Failed to detect the name of this notebook, you can set it manually with the WANDB_NOTEBOOK_NAME environment variable to enable code saving.\n"
          ]
        },
        {
          "data": {
            "text/html": [
              "wandb version 0.13.7 is available!  To upgrade, please run:\n",
              " $ pip install wandb --upgrade"
            ],
            "text/plain": [
              "<IPython.core.display.HTML object>"
            ]
          },
          "metadata": {},
          "output_type": "display_data"
        },
        {
          "data": {
            "text/html": [
              "Tracking run with wandb version 0.13.5"
            ],
            "text/plain": [
              "<IPython.core.display.HTML object>"
            ]
          },
          "metadata": {},
          "output_type": "display_data"
        },
        {
          "data": {
            "text/html": [
              "Run data is saved locally in <code>d:\\git\\cassandra-ai\\notebooks\\wandb\\run-20221222_001611-czrbnyaj</code>"
            ],
            "text/plain": [
              "<IPython.core.display.HTML object>"
            ]
          },
          "metadata": {},
          "output_type": "display_data"
        },
        {
          "data": {
            "text/html": [
              "Syncing run <strong><a href=\"https://wandb.ai/ytdteam/ytd-cassandra-forecast/runs/czrbnyaj\" target=\"_blank\">devout-sweep-9</a></strong> to <a href=\"https://wandb.ai/ytdteam/ytd-cassandra-forecast\" target=\"_blank\">Weights & Biases</a> (<a href=\"https://wandb.me/run\" target=\"_blank\">docs</a>)<br/>Sweep page:  <a href=\"https://wandb.ai/ytdteam/ytd-cassandra-forecast/sweeps/1ox2invt\" target=\"_blank\">https://wandb.ai/ytdteam/ytd-cassandra-forecast/sweeps/1ox2invt</a>"
            ],
            "text/plain": [
              "<IPython.core.display.HTML object>"
            ]
          },
          "metadata": {},
          "output_type": "display_data"
        },
        {
          "name": "stderr",
          "output_type": "stream",
          "text": [
            "\u001b[34m\u001b[1mwandb\u001b[0m: \u001b[33mWARNING\u001b[0m Ignored wandb.init() arg project when running a sweep.\n",
            "\u001b[34m\u001b[1mwandb\u001b[0m: \u001b[33mWARNING\u001b[0m Ignored wandb.init() arg entity when running a sweep.\n"
          ]
        },
        {
          "data": {
            "text/html": [
              "Finishing last run (ID:czrbnyaj) before initializing another..."
            ],
            "text/plain": [
              "<IPython.core.display.HTML object>"
            ]
          },
          "metadata": {},
          "output_type": "display_data"
        },
        {
          "data": {
            "text/html": [
              "Waiting for W&B process to finish... <strong style=\"color:green\">(success).</strong>"
            ],
            "text/plain": [
              "<IPython.core.display.HTML object>"
            ]
          },
          "metadata": {},
          "output_type": "display_data"
        },
        {
          "data": {
            "text/html": [
              "Synced <strong style=\"color:#cdcd00\">devout-sweep-9</strong>: <a href=\"https://wandb.ai/ytdteam/ytd-cassandra-forecast/runs/czrbnyaj\" target=\"_blank\">https://wandb.ai/ytdteam/ytd-cassandra-forecast/runs/czrbnyaj</a><br/>Synced 6 W&B file(s), 0 media file(s), 0 artifact file(s) and 0 other file(s)"
            ],
            "text/plain": [
              "<IPython.core.display.HTML object>"
            ]
          },
          "metadata": {},
          "output_type": "display_data"
        },
        {
          "data": {
            "text/html": [
              "Find logs at: <code>.\\wandb\\run-20221222_001611-czrbnyaj\\logs</code>"
            ],
            "text/plain": [
              "<IPython.core.display.HTML object>"
            ]
          },
          "metadata": {},
          "output_type": "display_data"
        },
        {
          "data": {
            "text/html": [
              "Successfully finished last run (ID:czrbnyaj). Initializing new run:<br/>"
            ],
            "text/plain": [
              "<IPython.core.display.HTML object>"
            ]
          },
          "metadata": {},
          "output_type": "display_data"
        },
        {
          "data": {
            "application/vnd.jupyter.widget-view+json": {
              "model_id": "1d81512dc24e4385b7a19e67d146a712",
              "version_major": 2,
              "version_minor": 0
            },
            "text/plain": [
              "VBox(children=(Label(value='Waiting for wandb.init()...\\r'), FloatProgress(value=0.016916666666656966, max=1.0…"
            ]
          },
          "metadata": {},
          "output_type": "display_data"
        },
        {
          "data": {
            "text/html": [
              "wandb version 0.13.7 is available!  To upgrade, please run:\n",
              " $ pip install wandb --upgrade"
            ],
            "text/plain": [
              "<IPython.core.display.HTML object>"
            ]
          },
          "metadata": {},
          "output_type": "display_data"
        },
        {
          "data": {
            "text/html": [
              "Tracking run with wandb version 0.13.5"
            ],
            "text/plain": [
              "<IPython.core.display.HTML object>"
            ]
          },
          "metadata": {},
          "output_type": "display_data"
        },
        {
          "data": {
            "text/html": [
              "Run data is saved locally in <code>d:\\git\\cassandra-ai\\notebooks\\wandb\\run-20221222_001618-czrbnyaj</code>"
            ],
            "text/plain": [
              "<IPython.core.display.HTML object>"
            ]
          },
          "metadata": {},
          "output_type": "display_data"
        },
        {
          "data": {
            "text/html": [
              "Syncing run <strong><a href=\"https://wandb.ai/ytdteam/ytd-cassandra-forecast/runs/czrbnyaj\" target=\"_blank\">devout-sweep-9</a></strong> to <a href=\"https://wandb.ai/ytdteam/ytd-cassandra-forecast\" target=\"_blank\">Weights & Biases</a> (<a href=\"https://wandb.me/run\" target=\"_blank\">docs</a>)<br/>Sweep page:  <a href=\"https://wandb.ai/ytdteam/ytd-cassandra-forecast/sweeps/1ox2invt\" target=\"_blank\">https://wandb.ai/ytdteam/ytd-cassandra-forecast/sweeps/1ox2invt</a>"
            ],
            "text/plain": [
              "<IPython.core.display.HTML object>"
            ]
          },
          "metadata": {},
          "output_type": "display_data"
        },
        {
          "name": "stderr",
          "output_type": "stream",
          "text": [
            "\u001b[34m\u001b[1mwandb\u001b[0m: \u001b[33mWARNING\u001b[0m Config item 'look_back' was locked by 'sweep' (ignored update).\n",
            "\u001b[34m\u001b[1mwandb\u001b[0m: \u001b[33mWARNING\u001b[0m Config item 'batch_size' was locked by 'sweep' (ignored update).\n",
            "\u001b[34m\u001b[1mwandb\u001b[0m: \u001b[33mWARNING\u001b[0m Config item 'architecture' was locked by 'sweep' (ignored update).\n",
            "\u001b[34m\u001b[1mwandb\u001b[0m:   1 of 1 files downloaded.  \n"
          ]
        },
        {
          "name": "stdout",
          "output_type": "stream",
          "text": [
            "validation/train ratio 0.20809248554913296\n"
          ]
        },
        {
          "data": {
            "text/html": [
              "\n",
              "<style>\n",
              "    /* Turns off some styling */\n",
              "    progress {\n",
              "        /* gets rid of default border in Firefox and Opera. */\n",
              "        border: none;\n",
              "        /* Needs to be in here for Safari polyfill so background images work as expected. */\n",
              "        background-size: auto;\n",
              "    }\n",
              "    progress:not([value]), progress:not([value])::-webkit-progress-bar {\n",
              "        background: repeating-linear-gradient(45deg, #7e7e7e, #7e7e7e 10px, #5c5c5c 10px, #5c5c5c 20px);\n",
              "    }\n",
              "    .progress-bar-interrupted, .progress-bar-interrupted::-webkit-progress-bar {\n",
              "        background: #F44336;\n",
              "    }\n",
              "</style>\n"
            ],
            "text/plain": [
              "<IPython.core.display.HTML object>"
            ]
          },
          "metadata": {},
          "output_type": "display_data"
        },
        {
          "data": {
            "text/html": [],
            "text/plain": [
              "<IPython.core.display.HTML object>"
            ]
          },
          "metadata": {},
          "output_type": "display_data"
        },
        {
          "name": "stdout",
          "output_type": "stream",
          "text": [
            "WandbCallback was not able to prepare a DataLoader for logging prediction samples -> 'NoneType' object is not iterable\n"
          ]
        },
        {
          "data": {
            "text/html": [
              "\n",
              "<style>\n",
              "    /* Turns off some styling */\n",
              "    progress {\n",
              "        /* gets rid of default border in Firefox and Opera. */\n",
              "        border: none;\n",
              "        /* Needs to be in here for Safari polyfill so background images work as expected. */\n",
              "        background-size: auto;\n",
              "    }\n",
              "    progress:not([value]), progress:not([value])::-webkit-progress-bar {\n",
              "        background: repeating-linear-gradient(45deg, #7e7e7e, #7e7e7e 10px, #5c5c5c 10px, #5c5c5c 20px);\n",
              "    }\n",
              "    .progress-bar-interrupted, .progress-bar-interrupted::-webkit-progress-bar {\n",
              "        background: #F44336;\n",
              "    }\n",
              "</style>\n"
            ],
            "text/plain": [
              "<IPython.core.display.HTML object>"
            ]
          },
          "metadata": {},
          "output_type": "display_data"
        },
        {
          "data": {
            "text/html": [
              "<table border=\"1\" class=\"dataframe\">\n",
              "  <thead>\n",
              "    <tr style=\"text-align: left;\">\n",
              "      <th>epoch</th>\n",
              "      <th>train_loss</th>\n",
              "      <th>train__rmse</th>\n",
              "      <th>train_mape</th>\n",
              "      <th>valid_loss</th>\n",
              "      <th>valid__rmse</th>\n",
              "      <th>valid_mape</th>\n",
              "      <th>time</th>\n",
              "    </tr>\n",
              "  </thead>\n",
              "  <tbody>\n",
              "    <tr>\n",
              "      <td>0</td>\n",
              "      <td>0.551608</td>\n",
              "      <td>0.746515</td>\n",
              "      <td>25792388.000000</td>\n",
              "      <td>4.508208</td>\n",
              "      <td>2.123254</td>\n",
              "      <td>207522560.000000</td>\n",
              "      <td>00:00</td>\n",
              "    </tr>\n",
              "    <tr>\n",
              "      <td>1</td>\n",
              "      <td>0.467195</td>\n",
              "      <td>0.629435</td>\n",
              "      <td>20999104.000000</td>\n",
              "      <td>4.214878</td>\n",
              "      <td>2.053017</td>\n",
              "      <td>200413280.000000</td>\n",
              "      <td>00:00</td>\n",
              "    </tr>\n",
              "    <tr>\n",
              "      <td>2</td>\n",
              "      <td>0.372250</td>\n",
              "      <td>0.479450</td>\n",
              "      <td>15413742.000000</td>\n",
              "      <td>3.497585</td>\n",
              "      <td>1.870183</td>\n",
              "      <td>182065952.000000</td>\n",
              "      <td>00:00</td>\n",
              "    </tr>\n",
              "    <tr>\n",
              "      <td>3</td>\n",
              "      <td>0.295554</td>\n",
              "      <td>0.366975</td>\n",
              "      <td>12684580.000000</td>\n",
              "      <td>1.837097</td>\n",
              "      <td>1.355395</td>\n",
              "      <td>130239160.000000</td>\n",
              "      <td>00:00</td>\n",
              "    </tr>\n",
              "    <tr>\n",
              "      <td>4</td>\n",
              "      <td>0.246024</td>\n",
              "      <td>0.342796</td>\n",
              "      <td>12328474.000000</td>\n",
              "      <td>0.815183</td>\n",
              "      <td>0.902875</td>\n",
              "      <td>84150928.000000</td>\n",
              "      <td>00:00</td>\n",
              "    </tr>\n",
              "    <tr>\n",
              "      <td>5</td>\n",
              "      <td>0.201262</td>\n",
              "      <td>0.260296</td>\n",
              "      <td>9390842.000000</td>\n",
              "      <td>0.563587</td>\n",
              "      <td>0.750725</td>\n",
              "      <td>68843936.000000</td>\n",
              "      <td>00:00</td>\n",
              "    </tr>\n",
              "    <tr>\n",
              "      <td>6</td>\n",
              "      <td>0.166327</td>\n",
              "      <td>0.222828</td>\n",
              "      <td>8007231.000000</td>\n",
              "      <td>0.089986</td>\n",
              "      <td>0.299976</td>\n",
              "      <td>21254288.000000</td>\n",
              "      <td>00:00</td>\n",
              "    </tr>\n",
              "    <tr>\n",
              "      <td>7</td>\n",
              "      <td>0.139514</td>\n",
              "      <td>0.205034</td>\n",
              "      <td>7294890.000000</td>\n",
              "      <td>0.120678</td>\n",
              "      <td>0.347388</td>\n",
              "      <td>24443700.000000</td>\n",
              "      <td>00:00</td>\n",
              "    </tr>\n",
              "    <tr>\n",
              "      <td>8</td>\n",
              "      <td>0.115828</td>\n",
              "      <td>0.157789</td>\n",
              "      <td>5964388.500000</td>\n",
              "      <td>0.075019</td>\n",
              "      <td>0.273896</td>\n",
              "      <td>23487558.000000</td>\n",
              "      <td>00:00</td>\n",
              "    </tr>\n",
              "    <tr>\n",
              "      <td>9</td>\n",
              "      <td>0.097187</td>\n",
              "      <td>0.147688</td>\n",
              "      <td>5610874.000000</td>\n",
              "      <td>0.105127</td>\n",
              "      <td>0.324232</td>\n",
              "      <td>22418458.000000</td>\n",
              "      <td>00:00</td>\n",
              "    </tr>\n",
              "    <tr>\n",
              "      <td>10</td>\n",
              "      <td>0.082820</td>\n",
              "      <td>0.150142</td>\n",
              "      <td>5527063.500000</td>\n",
              "      <td>0.075842</td>\n",
              "      <td>0.275395</td>\n",
              "      <td>21736744.000000</td>\n",
              "      <td>00:00</td>\n",
              "    </tr>\n",
              "    <tr>\n",
              "      <td>11</td>\n",
              "      <td>0.070957</td>\n",
              "      <td>0.139525</td>\n",
              "      <td>6022458.500000</td>\n",
              "      <td>0.084344</td>\n",
              "      <td>0.290420</td>\n",
              "      <td>21901186.000000</td>\n",
              "      <td>00:00</td>\n",
              "    </tr>\n",
              "    <tr>\n",
              "      <td>12</td>\n",
              "      <td>0.061119</td>\n",
              "      <td>0.131225</td>\n",
              "      <td>4751501.500000</td>\n",
              "      <td>0.083021</td>\n",
              "      <td>0.288134</td>\n",
              "      <td>22240518.000000</td>\n",
              "      <td>00:00</td>\n",
              "    </tr>\n",
              "    <tr>\n",
              "      <td>13</td>\n",
              "      <td>0.053925</td>\n",
              "      <td>0.145708</td>\n",
              "      <td>5265718.000000</td>\n",
              "      <td>0.077609</td>\n",
              "      <td>0.278583</td>\n",
              "      <td>22942354.000000</td>\n",
              "      <td>00:00</td>\n",
              "    </tr>\n",
              "  </tbody>\n",
              "</table>"
            ],
            "text/plain": [
              "<IPython.core.display.HTML object>"
            ]
          },
          "metadata": {},
          "output_type": "display_data"
        },
        {
          "name": "stdout",
          "output_type": "stream",
          "text": [
            "Better model found at epoch 0 with valid_loss value: 4.508208274841309.\n",
            "Better model found at epoch 1 with valid_loss value: 4.214877605438232.\n",
            "Better model found at epoch 2 with valid_loss value: 3.497584581375122.\n",
            "Better model found at epoch 3 with valid_loss value: 1.8370965719223022.\n",
            "Better model found at epoch 4 with valid_loss value: 0.8151834607124329.\n",
            "Better model found at epoch 5 with valid_loss value: 0.5635873675346375.\n",
            "Better model found at epoch 6 with valid_loss value: 0.08998582512140274.\n",
            "Better model found at epoch 8 with valid_loss value: 0.07501885294914246.\n",
            "No improvement since epoch 8: early stopping\n",
            "\n",
            "InceptionTimePlus - train set\n",
            "================================================================================\n"
          ]
        },
        {
          "data": {
            "text/html": [
              "\n",
              "<style>\n",
              "    /* Turns off some styling */\n",
              "    progress {\n",
              "        /* gets rid of default border in Firefox and Opera. */\n",
              "        border: none;\n",
              "        /* Needs to be in here for Safari polyfill so background images work as expected. */\n",
              "        background-size: auto;\n",
              "    }\n",
              "    progress:not([value]), progress:not([value])::-webkit-progress-bar {\n",
              "        background: repeating-linear-gradient(45deg, #7e7e7e, #7e7e7e 10px, #5c5c5c 10px, #5c5c5c 20px);\n",
              "    }\n",
              "    .progress-bar-interrupted, .progress-bar-interrupted::-webkit-progress-bar {\n",
              "        background: #F44336;\n",
              "    }\n",
              "</style>\n"
            ],
            "text/plain": [
              "<IPython.core.display.HTML object>"
            ]
          },
          "metadata": {},
          "output_type": "display_data"
        },
        {
          "data": {
            "text/html": [],
            "text/plain": [
              "<IPython.core.display.HTML object>"
            ]
          },
          "metadata": {},
          "output_type": "display_data"
        },
        {
          "name": "stdout",
          "output_type": "stream",
          "text": [
            "MSE: 23.1167\n",
            "R2: 97.42%\n",
            "MAPE: 1.90%\n",
            "================================================================================\n",
            "\n",
            "InceptionTimePlus - validation set\n",
            "================================================================================\n"
          ]
        },
        {
          "data": {
            "text/html": [
              "\n",
              "<style>\n",
              "    /* Turns off some styling */\n",
              "    progress {\n",
              "        /* gets rid of default border in Firefox and Opera. */\n",
              "        border: none;\n",
              "        /* Needs to be in here for Safari polyfill so background images work as expected. */\n",
              "        background-size: auto;\n",
              "    }\n",
              "    progress:not([value]), progress:not([value])::-webkit-progress-bar {\n",
              "        background: repeating-linear-gradient(45deg, #7e7e7e, #7e7e7e 10px, #5c5c5c 10px, #5c5c5c 20px);\n",
              "    }\n",
              "    .progress-bar-interrupted, .progress-bar-interrupted::-webkit-progress-bar {\n",
              "        background: #F44336;\n",
              "    }\n",
              "</style>\n"
            ],
            "text/plain": [
              "<IPython.core.display.HTML object>"
            ]
          },
          "metadata": {},
          "output_type": "display_data"
        },
        {
          "data": {
            "text/html": [],
            "text/plain": [
              "<IPython.core.display.HTML object>"
            ]
          },
          "metadata": {},
          "output_type": "display_data"
        },
        {
          "name": "stdout",
          "output_type": "stream",
          "text": [
            "MSE: 89.3250\n",
            "R2: 64.14%\n",
            "MAPE: 7.42%\n",
            "================================================================================\n"
          ]
        },
        {
          "data": {
            "text/html": [
              "Waiting for W&B process to finish... <strong style=\"color:green\">(success).</strong>"
            ],
            "text/plain": [
              "<IPython.core.display.HTML object>"
            ]
          },
          "metadata": {},
          "output_type": "display_data"
        },
        {
          "data": {
            "text/html": [
              "<style>\n",
              "    table.wandb td:nth-child(1) { padding: 0 10px; text-align: left ; width: auto;} td:nth-child(2) {text-align: left ; width: 100%}\n",
              "    .wandb-row { display: flex; flex-direction: row; flex-wrap: wrap; justify-content: flex-start; width: 100% }\n",
              "    .wandb-col { display: flex; flex-direction: column; flex-basis: 100%; flex: 1; padding: 10px; }\n",
              "    </style>\n",
              "<div class=\"wandb-row\"><div class=\"wandb-col\"><h3>Run history:</h3><br/><table class=\"wandb\"><tr><td>epoch</td><td>▁▁▁▂▂▂▂▂▂▃▃▃▃▃▃▄▄▄▄▄▅▅▅▅▅▅▆▆▆▆▆▇▇▇▇▇▇███</td></tr><tr><td>eps_0</td><td>▁▁▁▁▁▁▁▁▁▁▁▁▁▁▁▁▁▁▁▁▁▁▁▁▁▁▁▁▁▁▁▁▁▁▁▁▁▁▁▁</td></tr><tr><td>eps_1</td><td>▁▁▁▁▁▁▁▁▁▁▁▁▁▁▁▁▁▁▁▁▁▁▁▁▁▁▁▁▁▁▁▁▁▁▁▁▁▁▁▁</td></tr><tr><td>lr_0</td><td>▁▁▁▁▁▁▁▂▂▂▂▃▃▃▃▄▄▄▅▅▅▆▆▆▆▇▇▇▇▇██████████</td></tr><tr><td>lr_1</td><td>▁▁▁▁▁▁▁▂▂▂▂▃▃▃▃▄▄▄▅▅▅▆▆▆▆▇▇▇▇▇██████████</td></tr><tr><td>mom_0</td><td>███████▇▇▇▇▆▆▆▆▅▅▅▄▄▄▃▃▃▃▂▂▂▂▂▁▁▁▁▁▁▁▁▁▁</td></tr><tr><td>mom_1</td><td>███████▇▇▇▇▆▆▆▆▅▅▅▄▄▄▃▃▃▃▂▂▂▂▂▁▁▁▁▁▁▁▁▁▁</td></tr><tr><td>raw_loss</td><td>█▅▆▄▅▃▄▃▂▂▂▂▂▂▂▂▂▁▁▁▁▁▁▁▁▁▁▁▁▁▁▁▁▁▁▁▁▁▁▁</td></tr><tr><td>sqr_mom_0</td><td>▁▁▁▁▁▁▁▁▁▁▁▁▁▁▁▁▁▁▁▁▁▁▁▁▁▁▁▁▁▁▁▁▁▁▁▁▁▁▁▁</td></tr><tr><td>sqr_mom_1</td><td>▁▁▁▁▁▁▁▁▁▁▁▁▁▁▁▁▁▁▁▁▁▁▁▁▁▁▁▁▁▁▁▁▁▁▁▁▁▁▁▁</td></tr><tr><td>train__rmse</td><td>█▇▅▄▃▂▂▂▁▁▁▁▁▁</td></tr><tr><td>train_loss</td><td>█▇▆▅▅▅▅▄▄▄▃▃▃▃▃▃▂▂▂▂▂▂▂▂▂▂▂▁▁▁▁▁▁▁▁▁▁▁▁▁</td></tr><tr><td>train_mape</td><td>█▆▅▄▄▃▂▂▁▁▁▁▁▁</td></tr><tr><td>train_samples_per_sec</td><td>▅▅▇▆▅▇▆▇▇▇▇██▆▇▆▆▇▆▇▆▆▄▄▂▆▄▅▅▅▇▁▅▄▆▃▄▆▅▆</td></tr><tr><td>valid__rmse</td><td>██▇▅▃▃▁▁▁▁▁▁▁▁</td></tr><tr><td>valid_loss</td><td>██▆▄▂▂▁▁▁▁▁▁▁▁</td></tr><tr><td>valid_mape</td><td>██▇▅▃▃▁▁▁▁▁▁▁▁</td></tr><tr><td>wd_0</td><td>▁▁▁▁▁▁▁▁▁▁▁▁▁▁▁▁▁▁▁▁▁▁▁▁▁▁▁▁▁▁▁▁▁▁▁▁▁▁▁▁</td></tr><tr><td>wd_1</td><td>▁▁▁▁▁▁▁▁▁▁▁▁▁▁▁▁▁▁▁▁▁▁▁▁▁▁▁▁▁▁▁▁▁▁▁▁▁▁▁▁</td></tr></table><br/></div><div class=\"wandb-col\"><h3>Run summary:</h3><br/><table class=\"wandb\"><tr><td>epoch</td><td>14</td></tr><tr><td>eps_0</td><td>1e-05</td></tr><tr><td>eps_1</td><td>1e-05</td></tr><tr><td>lr_0</td><td>0.00011</td></tr><tr><td>lr_1</td><td>0.00011</td></tr><tr><td>mom_0</td><td>0.85034</td></tr><tr><td>mom_1</td><td>0.85034</td></tr><tr><td>raw_loss</td><td>0.0237</td></tr><tr><td>sqr_mom_0</td><td>0.99</td></tr><tr><td>sqr_mom_1</td><td>0.99</td></tr><tr><td>train__rmse</td><td>0.14571</td></tr><tr><td>train_loss</td><td>0.05393</td></tr><tr><td>train_mape</td><td>5265718.0</td></tr><tr><td>train_samples_per_sec</td><td>1874.92493</td></tr><tr><td>valid__rmse</td><td>0.27858</td></tr><tr><td>valid_loss</td><td>0.07761</td></tr><tr><td>valid_mape</td><td>22942354.0</td></tr><tr><td>wd_0</td><td>0.01</td></tr><tr><td>wd_1</td><td>0.01</td></tr></table><br/></div></div>"
            ],
            "text/plain": [
              "<IPython.core.display.HTML object>"
            ]
          },
          "metadata": {},
          "output_type": "display_data"
        },
        {
          "data": {
            "text/html": [
              "Synced <strong style=\"color:#cdcd00\">devout-sweep-9</strong>: <a href=\"https://wandb.ai/ytdteam/ytd-cassandra-forecast/runs/czrbnyaj\" target=\"_blank\">https://wandb.ai/ytdteam/ytd-cassandra-forecast/runs/czrbnyaj</a><br/>Synced 6 W&B file(s), 1 media file(s), 2 artifact file(s) and 0 other file(s)"
            ],
            "text/plain": [
              "<IPython.core.display.HTML object>"
            ]
          },
          "metadata": {},
          "output_type": "display_data"
        },
        {
          "data": {
            "text/html": [
              "Find logs at: <code>.\\wandb\\run-20221222_001618-czrbnyaj\\logs</code>"
            ],
            "text/plain": [
              "<IPython.core.display.HTML object>"
            ]
          },
          "metadata": {},
          "output_type": "display_data"
        },
        {
          "name": "stderr",
          "output_type": "stream",
          "text": [
            "\u001b[34m\u001b[1mwandb\u001b[0m: Agent Starting Run: qm21z92v with config:\n",
            "\u001b[34m\u001b[1mwandb\u001b[0m: \tarchitecture: InceptionTimePlus\n",
            "\u001b[34m\u001b[1mwandb\u001b[0m: \tbatch_size: 128\n",
            "\u001b[34m\u001b[1mwandb\u001b[0m: \tlook_back: 32\n",
            "Failed to detect the name of this notebook, you can set it manually with the WANDB_NOTEBOOK_NAME environment variable to enable code saving.\n"
          ]
        },
        {
          "data": {
            "text/html": [
              "wandb version 0.13.7 is available!  To upgrade, please run:\n",
              " $ pip install wandb --upgrade"
            ],
            "text/plain": [
              "<IPython.core.display.HTML object>"
            ]
          },
          "metadata": {},
          "output_type": "display_data"
        },
        {
          "data": {
            "text/html": [
              "Tracking run with wandb version 0.13.5"
            ],
            "text/plain": [
              "<IPython.core.display.HTML object>"
            ]
          },
          "metadata": {},
          "output_type": "display_data"
        },
        {
          "data": {
            "text/html": [
              "Run data is saved locally in <code>d:\\git\\cassandra-ai\\notebooks\\wandb\\run-20221222_001941-qm21z92v</code>"
            ],
            "text/plain": [
              "<IPython.core.display.HTML object>"
            ]
          },
          "metadata": {},
          "output_type": "display_data"
        },
        {
          "data": {
            "text/html": [
              "Syncing run <strong><a href=\"https://wandb.ai/ytdteam/ytd-cassandra-forecast/runs/qm21z92v\" target=\"_blank\">peachy-sweep-10</a></strong> to <a href=\"https://wandb.ai/ytdteam/ytd-cassandra-forecast\" target=\"_blank\">Weights & Biases</a> (<a href=\"https://wandb.me/run\" target=\"_blank\">docs</a>)<br/>Sweep page:  <a href=\"https://wandb.ai/ytdteam/ytd-cassandra-forecast/sweeps/1ox2invt\" target=\"_blank\">https://wandb.ai/ytdteam/ytd-cassandra-forecast/sweeps/1ox2invt</a>"
            ],
            "text/plain": [
              "<IPython.core.display.HTML object>"
            ]
          },
          "metadata": {},
          "output_type": "display_data"
        },
        {
          "name": "stderr",
          "output_type": "stream",
          "text": [
            "\u001b[34m\u001b[1mwandb\u001b[0m: \u001b[33mWARNING\u001b[0m Ignored wandb.init() arg project when running a sweep.\n",
            "\u001b[34m\u001b[1mwandb\u001b[0m: \u001b[33mWARNING\u001b[0m Ignored wandb.init() arg entity when running a sweep.\n"
          ]
        },
        {
          "data": {
            "text/html": [
              "Finishing last run (ID:qm21z92v) before initializing another..."
            ],
            "text/plain": [
              "<IPython.core.display.HTML object>"
            ]
          },
          "metadata": {},
          "output_type": "display_data"
        },
        {
          "data": {
            "text/html": [
              "Waiting for W&B process to finish... <strong style=\"color:green\">(success).</strong>"
            ],
            "text/plain": [
              "<IPython.core.display.HTML object>"
            ]
          },
          "metadata": {},
          "output_type": "display_data"
        },
        {
          "data": {
            "text/html": [
              "Synced <strong style=\"color:#cdcd00\">peachy-sweep-10</strong>: <a href=\"https://wandb.ai/ytdteam/ytd-cassandra-forecast/runs/qm21z92v\" target=\"_blank\">https://wandb.ai/ytdteam/ytd-cassandra-forecast/runs/qm21z92v</a><br/>Synced 6 W&B file(s), 0 media file(s), 0 artifact file(s) and 0 other file(s)"
            ],
            "text/plain": [
              "<IPython.core.display.HTML object>"
            ]
          },
          "metadata": {},
          "output_type": "display_data"
        },
        {
          "data": {
            "text/html": [
              "Find logs at: <code>.\\wandb\\run-20221222_001941-qm21z92v\\logs</code>"
            ],
            "text/plain": [
              "<IPython.core.display.HTML object>"
            ]
          },
          "metadata": {},
          "output_type": "display_data"
        },
        {
          "data": {
            "text/html": [
              "Successfully finished last run (ID:qm21z92v). Initializing new run:<br/>"
            ],
            "text/plain": [
              "<IPython.core.display.HTML object>"
            ]
          },
          "metadata": {},
          "output_type": "display_data"
        },
        {
          "data": {
            "application/vnd.jupyter.widget-view+json": {
              "model_id": "794a263ea7ae4d52a8792e1d90128866",
              "version_major": 2,
              "version_minor": 0
            },
            "text/plain": [
              "VBox(children=(Label(value='Waiting for wandb.init()...\\r'), FloatProgress(value=0.016666666666666666, max=1.0…"
            ]
          },
          "metadata": {},
          "output_type": "display_data"
        },
        {
          "data": {
            "text/html": [
              "wandb version 0.13.7 is available!  To upgrade, please run:\n",
              " $ pip install wandb --upgrade"
            ],
            "text/plain": [
              "<IPython.core.display.HTML object>"
            ]
          },
          "metadata": {},
          "output_type": "display_data"
        },
        {
          "data": {
            "text/html": [
              "Tracking run with wandb version 0.13.5"
            ],
            "text/plain": [
              "<IPython.core.display.HTML object>"
            ]
          },
          "metadata": {},
          "output_type": "display_data"
        },
        {
          "data": {
            "text/html": [
              "Run data is saved locally in <code>d:\\git\\cassandra-ai\\notebooks\\wandb\\run-20221222_001948-qm21z92v</code>"
            ],
            "text/plain": [
              "<IPython.core.display.HTML object>"
            ]
          },
          "metadata": {},
          "output_type": "display_data"
        },
        {
          "data": {
            "text/html": [
              "Syncing run <strong><a href=\"https://wandb.ai/ytdteam/ytd-cassandra-forecast/runs/qm21z92v\" target=\"_blank\">peachy-sweep-10</a></strong> to <a href=\"https://wandb.ai/ytdteam/ytd-cassandra-forecast\" target=\"_blank\">Weights & Biases</a> (<a href=\"https://wandb.me/run\" target=\"_blank\">docs</a>)<br/>Sweep page:  <a href=\"https://wandb.ai/ytdteam/ytd-cassandra-forecast/sweeps/1ox2invt\" target=\"_blank\">https://wandb.ai/ytdteam/ytd-cassandra-forecast/sweeps/1ox2invt</a>"
            ],
            "text/plain": [
              "<IPython.core.display.HTML object>"
            ]
          },
          "metadata": {},
          "output_type": "display_data"
        },
        {
          "name": "stderr",
          "output_type": "stream",
          "text": [
            "\u001b[34m\u001b[1mwandb\u001b[0m: \u001b[33mWARNING\u001b[0m Config item 'look_back' was locked by 'sweep' (ignored update).\n",
            "\u001b[34m\u001b[1mwandb\u001b[0m: \u001b[33mWARNING\u001b[0m Config item 'batch_size' was locked by 'sweep' (ignored update).\n",
            "\u001b[34m\u001b[1mwandb\u001b[0m: \u001b[33mWARNING\u001b[0m Config item 'architecture' was locked by 'sweep' (ignored update).\n",
            "\u001b[34m\u001b[1mwandb\u001b[0m:   1 of 1 files downloaded.  \n"
          ]
        },
        {
          "name": "stdout",
          "output_type": "stream",
          "text": [
            "validation/train ratio 0.20809248554913296\n"
          ]
        },
        {
          "data": {
            "text/html": [
              "\n",
              "<style>\n",
              "    /* Turns off some styling */\n",
              "    progress {\n",
              "        /* gets rid of default border in Firefox and Opera. */\n",
              "        border: none;\n",
              "        /* Needs to be in here for Safari polyfill so background images work as expected. */\n",
              "        background-size: auto;\n",
              "    }\n",
              "    progress:not([value]), progress:not([value])::-webkit-progress-bar {\n",
              "        background: repeating-linear-gradient(45deg, #7e7e7e, #7e7e7e 10px, #5c5c5c 10px, #5c5c5c 20px);\n",
              "    }\n",
              "    .progress-bar-interrupted, .progress-bar-interrupted::-webkit-progress-bar {\n",
              "        background: #F44336;\n",
              "    }\n",
              "</style>\n"
            ],
            "text/plain": [
              "<IPython.core.display.HTML object>"
            ]
          },
          "metadata": {},
          "output_type": "display_data"
        },
        {
          "data": {
            "text/html": [],
            "text/plain": [
              "<IPython.core.display.HTML object>"
            ]
          },
          "metadata": {},
          "output_type": "display_data"
        },
        {
          "name": "stdout",
          "output_type": "stream",
          "text": [
            "WandbCallback was not able to prepare a DataLoader for logging prediction samples -> 'NoneType' object is not iterable\n"
          ]
        },
        {
          "data": {
            "text/html": [
              "\n",
              "<style>\n",
              "    /* Turns off some styling */\n",
              "    progress {\n",
              "        /* gets rid of default border in Firefox and Opera. */\n",
              "        border: none;\n",
              "        /* Needs to be in here for Safari polyfill so background images work as expected. */\n",
              "        background-size: auto;\n",
              "    }\n",
              "    progress:not([value]), progress:not([value])::-webkit-progress-bar {\n",
              "        background: repeating-linear-gradient(45deg, #7e7e7e, #7e7e7e 10px, #5c5c5c 10px, #5c5c5c 20px);\n",
              "    }\n",
              "    .progress-bar-interrupted, .progress-bar-interrupted::-webkit-progress-bar {\n",
              "        background: #F44336;\n",
              "    }\n",
              "</style>\n"
            ],
            "text/plain": [
              "<IPython.core.display.HTML object>"
            ]
          },
          "metadata": {},
          "output_type": "display_data"
        },
        {
          "data": {
            "text/html": [
              "<table border=\"1\" class=\"dataframe\">\n",
              "  <thead>\n",
              "    <tr style=\"text-align: left;\">\n",
              "      <th>epoch</th>\n",
              "      <th>train_loss</th>\n",
              "      <th>train__rmse</th>\n",
              "      <th>train_mape</th>\n",
              "      <th>valid_loss</th>\n",
              "      <th>valid__rmse</th>\n",
              "      <th>valid_mape</th>\n",
              "      <th>time</th>\n",
              "    </tr>\n",
              "  </thead>\n",
              "  <tbody>\n",
              "    <tr>\n",
              "      <td>0</td>\n",
              "      <td>0.386747</td>\n",
              "      <td>0.629761</td>\n",
              "      <td>20869122.000000</td>\n",
              "      <td>4.479872</td>\n",
              "      <td>2.116571</td>\n",
              "      <td>206861488.000000</td>\n",
              "      <td>00:00</td>\n",
              "    </tr>\n",
              "    <tr>\n",
              "      <td>1</td>\n",
              "      <td>0.252140</td>\n",
              "      <td>0.372869</td>\n",
              "      <td>13177236.000000</td>\n",
              "      <td>4.014323</td>\n",
              "      <td>2.003578</td>\n",
              "      <td>195535664.000000</td>\n",
              "      <td>00:00</td>\n",
              "    </tr>\n",
              "    <tr>\n",
              "      <td>2</td>\n",
              "      <td>0.193807</td>\n",
              "      <td>0.324589</td>\n",
              "      <td>12109500.000000</td>\n",
              "      <td>3.385676</td>\n",
              "      <td>1.840021</td>\n",
              "      <td>179393120.000000</td>\n",
              "      <td>00:00</td>\n",
              "    </tr>\n",
              "    <tr>\n",
              "      <td>3</td>\n",
              "      <td>0.152597</td>\n",
              "      <td>0.256808</td>\n",
              "      <td>9271945.000000</td>\n",
              "      <td>1.534599</td>\n",
              "      <td>1.238789</td>\n",
              "      <td>118985472.000000</td>\n",
              "      <td>00:00</td>\n",
              "    </tr>\n",
              "    <tr>\n",
              "      <td>4</td>\n",
              "      <td>0.124976</td>\n",
              "      <td>0.230377</td>\n",
              "      <td>8650631.000000</td>\n",
              "      <td>0.836215</td>\n",
              "      <td>0.914448</td>\n",
              "      <td>85975152.000000</td>\n",
              "      <td>00:00</td>\n",
              "    </tr>\n",
              "    <tr>\n",
              "      <td>5</td>\n",
              "      <td>0.103593</td>\n",
              "      <td>0.199072</td>\n",
              "      <td>7104649.000000</td>\n",
              "      <td>0.065011</td>\n",
              "      <td>0.254972</td>\n",
              "      <td>21774876.000000</td>\n",
              "      <td>00:00</td>\n",
              "    </tr>\n",
              "    <tr>\n",
              "      <td>6</td>\n",
              "      <td>0.088548</td>\n",
              "      <td>0.194618</td>\n",
              "      <td>6376160.000000</td>\n",
              "      <td>0.068346</td>\n",
              "      <td>0.261430</td>\n",
              "      <td>22544542.000000</td>\n",
              "      <td>00:00</td>\n",
              "    </tr>\n",
              "    <tr>\n",
              "      <td>7</td>\n",
              "      <td>0.076622</td>\n",
              "      <td>0.181185</td>\n",
              "      <td>6651758.000000</td>\n",
              "      <td>0.070493</td>\n",
              "      <td>0.265506</td>\n",
              "      <td>22457282.000000</td>\n",
              "      <td>00:00</td>\n",
              "    </tr>\n",
              "    <tr>\n",
              "      <td>8</td>\n",
              "      <td>0.064462</td>\n",
              "      <td>0.133399</td>\n",
              "      <td>4508682.000000</td>\n",
              "      <td>0.063196</td>\n",
              "      <td>0.251388</td>\n",
              "      <td>21787038.000000</td>\n",
              "      <td>00:00</td>\n",
              "    </tr>\n",
              "    <tr>\n",
              "      <td>9</td>\n",
              "      <td>0.054924</td>\n",
              "      <td>0.127774</td>\n",
              "      <td>4524234.000000</td>\n",
              "      <td>0.068660</td>\n",
              "      <td>0.262030</td>\n",
              "      <td>21100594.000000</td>\n",
              "      <td>00:00</td>\n",
              "    </tr>\n",
              "    <tr>\n",
              "      <td>10</td>\n",
              "      <td>0.047820</td>\n",
              "      <td>0.134546</td>\n",
              "      <td>4171961.000000</td>\n",
              "      <td>0.092591</td>\n",
              "      <td>0.304287</td>\n",
              "      <td>21615370.000000</td>\n",
              "      <td>00:00</td>\n",
              "    </tr>\n",
              "    <tr>\n",
              "      <td>11</td>\n",
              "      <td>0.042473</td>\n",
              "      <td>0.138016</td>\n",
              "      <td>5578707.000000</td>\n",
              "      <td>0.080691</td>\n",
              "      <td>0.284062</td>\n",
              "      <td>25554898.000000</td>\n",
              "      <td>00:00</td>\n",
              "    </tr>\n",
              "    <tr>\n",
              "      <td>12</td>\n",
              "      <td>0.037420</td>\n",
              "      <td>0.121527</td>\n",
              "      <td>5096129.000000</td>\n",
              "      <td>0.076503</td>\n",
              "      <td>0.276592</td>\n",
              "      <td>24177714.000000</td>\n",
              "      <td>00:00</td>\n",
              "    </tr>\n",
              "    <tr>\n",
              "      <td>13</td>\n",
              "      <td>0.034292</td>\n",
              "      <td>0.142351</td>\n",
              "      <td>5154401.000000</td>\n",
              "      <td>0.068877</td>\n",
              "      <td>0.262445</td>\n",
              "      <td>22454458.000000</td>\n",
              "      <td>00:00</td>\n",
              "    </tr>\n",
              "  </tbody>\n",
              "</table>"
            ],
            "text/plain": [
              "<IPython.core.display.HTML object>"
            ]
          },
          "metadata": {},
          "output_type": "display_data"
        },
        {
          "name": "stdout",
          "output_type": "stream",
          "text": [
            "Better model found at epoch 0 with valid_loss value: 4.479872226715088.\n",
            "Better model found at epoch 1 with valid_loss value: 4.0143232345581055.\n",
            "Better model found at epoch 2 with valid_loss value: 3.385676145553589.\n",
            "Better model found at epoch 3 with valid_loss value: 1.5345985889434814.\n",
            "Better model found at epoch 4 with valid_loss value: 0.836215078830719.\n",
            "Better model found at epoch 5 with valid_loss value: 0.06501051038503647.\n",
            "Better model found at epoch 8 with valid_loss value: 0.06319592148065567.\n",
            "No improvement since epoch 8: early stopping\n",
            "\n",
            "InceptionTimePlus - train set\n",
            "================================================================================\n"
          ]
        },
        {
          "data": {
            "text/html": [
              "\n",
              "<style>\n",
              "    /* Turns off some styling */\n",
              "    progress {\n",
              "        /* gets rid of default border in Firefox and Opera. */\n",
              "        border: none;\n",
              "        /* Needs to be in here for Safari polyfill so background images work as expected. */\n",
              "        background-size: auto;\n",
              "    }\n",
              "    progress:not([value]), progress:not([value])::-webkit-progress-bar {\n",
              "        background: repeating-linear-gradient(45deg, #7e7e7e, #7e7e7e 10px, #5c5c5c 10px, #5c5c5c 20px);\n",
              "    }\n",
              "    .progress-bar-interrupted, .progress-bar-interrupted::-webkit-progress-bar {\n",
              "        background: #F44336;\n",
              "    }\n",
              "</style>\n"
            ],
            "text/plain": [
              "<IPython.core.display.HTML object>"
            ]
          },
          "metadata": {},
          "output_type": "display_data"
        },
        {
          "data": {
            "text/html": [],
            "text/plain": [
              "<IPython.core.display.HTML object>"
            ]
          },
          "metadata": {},
          "output_type": "display_data"
        },
        {
          "name": "stdout",
          "output_type": "stream",
          "text": [
            "MSE: 10.2250\n",
            "R2: 98.86%\n",
            "MAPE: 1.23%\n",
            "================================================================================\n",
            "\n",
            "InceptionTimePlus - validation set\n",
            "================================================================================\n"
          ]
        },
        {
          "data": {
            "text/html": [
              "\n",
              "<style>\n",
              "    /* Turns off some styling */\n",
              "    progress {\n",
              "        /* gets rid of default border in Firefox and Opera. */\n",
              "        border: none;\n",
              "        /* Needs to be in here for Safari polyfill so background images work as expected. */\n",
              "        background-size: auto;\n",
              "    }\n",
              "    progress:not([value]), progress:not([value])::-webkit-progress-bar {\n",
              "        background: repeating-linear-gradient(45deg, #7e7e7e, #7e7e7e 10px, #5c5c5c 10px, #5c5c5c 20px);\n",
              "    }\n",
              "    .progress-bar-interrupted, .progress-bar-interrupted::-webkit-progress-bar {\n",
              "        background: #F44336;\n",
              "    }\n",
              "</style>\n"
            ],
            "text/plain": [
              "<IPython.core.display.HTML object>"
            ]
          },
          "metadata": {},
          "output_type": "display_data"
        },
        {
          "data": {
            "text/html": [],
            "text/plain": [
              "<IPython.core.display.HTML object>"
            ]
          },
          "metadata": {},
          "output_type": "display_data"
        },
        {
          "name": "stdout",
          "output_type": "stream",
          "text": [
            "MSE: 75.2474\n",
            "R2: 69.80%\n",
            "MAPE: 6.73%\n",
            "================================================================================\n"
          ]
        },
        {
          "data": {
            "text/html": [
              "Waiting for W&B process to finish... <strong style=\"color:green\">(success).</strong>"
            ],
            "text/plain": [
              "<IPython.core.display.HTML object>"
            ]
          },
          "metadata": {},
          "output_type": "display_data"
        },
        {
          "data": {
            "text/html": [
              "<style>\n",
              "    table.wandb td:nth-child(1) { padding: 0 10px; text-align: left ; width: auto;} td:nth-child(2) {text-align: left ; width: 100%}\n",
              "    .wandb-row { display: flex; flex-direction: row; flex-wrap: wrap; justify-content: flex-start; width: 100% }\n",
              "    .wandb-col { display: flex; flex-direction: column; flex-basis: 100%; flex: 1; padding: 10px; }\n",
              "    </style>\n",
              "<div class=\"wandb-row\"><div class=\"wandb-col\"><h3>Run history:</h3><br/><table class=\"wandb\"><tr><td>epoch</td><td>▁▁▁▂▂▂▂▂▂▃▃▃▃▃▃▄▄▄▄▄▅▅▅▅▅▅▆▆▆▆▆▇▇▇▇▇▇███</td></tr><tr><td>eps_0</td><td>▁▁▁▁▁▁▁▁▁▁▁▁▁▁▁▁▁▁▁▁▁▁▁▁▁▁▁▁▁▁▁▁▁▁▁▁▁▁▁▁</td></tr><tr><td>eps_1</td><td>▁▁▁▁▁▁▁▁▁▁▁▁▁▁▁▁▁▁▁▁▁▁▁▁▁▁▁▁▁▁▁▁▁▁▁▁▁▁▁▁</td></tr><tr><td>lr_0</td><td>▁▁▁▁▁▁▁▂▂▂▂▃▃▃▃▄▄▄▅▅▅▆▆▆▆▇▇▇▇▇██████████</td></tr><tr><td>lr_1</td><td>▁▁▁▁▁▁▁▂▂▂▂▃▃▃▃▄▄▄▅▅▅▆▆▆▆▇▇▇▇▇██████████</td></tr><tr><td>mom_0</td><td>███████▇▇▇▇▆▆▆▆▅▅▅▄▄▄▃▃▃▃▂▂▂▂▂▁▁▁▁▁▁▁▁▁▁</td></tr><tr><td>mom_1</td><td>███████▇▇▇▇▆▆▆▆▅▅▅▄▄▄▃▃▃▃▂▂▂▂▂▁▁▁▁▁▁▁▁▁▁</td></tr><tr><td>raw_loss</td><td>█▄▄▂▂▂▂▂▂▂▁▂▂▁▁▁▁▁▁▁▁▁▁▁▁▁▁▁▁▁▁▁▁▁▁▁▁▁▁▁</td></tr><tr><td>sqr_mom_0</td><td>▁▁▁▁▁▁▁▁▁▁▁▁▁▁▁▁▁▁▁▁▁▁▁▁▁▁▁▁▁▁▁▁▁▁▁▁▁▁▁▁</td></tr><tr><td>sqr_mom_1</td><td>▁▁▁▁▁▁▁▁▁▁▁▁▁▁▁▁▁▁▁▁▁▁▁▁▁▁▁▁▁▁▁▁▁▁▁▁▁▁▁▁</td></tr><tr><td>train__rmse</td><td>█▄▄▃▂▂▂▂▁▁▁▁▁▁</td></tr><tr><td>train_loss</td><td>█▆▅▄▃▃▃▃▂▂▂▂▂▂▂▂▂▂▂▁▁▁▁▁▁▁▁▁▁▁▁▁▁▁▁▁▁▁▁▁</td></tr><tr><td>train_mape</td><td>█▅▄▃▃▂▂▂▁▁▁▂▁▁</td></tr><tr><td>train_samples_per_sec</td><td>▄▄▃▄▁▁▃▃▄▄█▃▃▃▄▃▃▃▄▂▂▄▄▃▄▄▄▃▃▃▄▄▄▃▄▄▃▄▄▁</td></tr><tr><td>valid__rmse</td><td>██▇▅▃▁▁▁▁▁▁▁▁▁</td></tr><tr><td>valid_loss</td><td>█▇▆▃▂▁▁▁▁▁▁▁▁▁</td></tr><tr><td>valid_mape</td><td>██▇▅▃▁▁▁▁▁▁▁▁▁</td></tr><tr><td>wd_0</td><td>▁▁▁▁▁▁▁▁▁▁▁▁▁▁▁▁▁▁▁▁▁▁▁▁▁▁▁▁▁▁▁▁▁▁▁▁▁▁▁▁</td></tr><tr><td>wd_1</td><td>▁▁▁▁▁▁▁▁▁▁▁▁▁▁▁▁▁▁▁▁▁▁▁▁▁▁▁▁▁▁▁▁▁▁▁▁▁▁▁▁</td></tr></table><br/></div><div class=\"wandb-col\"><h3>Run summary:</h3><br/><table class=\"wandb\"><tr><td>epoch</td><td>14</td></tr><tr><td>eps_0</td><td>1e-05</td></tr><tr><td>eps_1</td><td>1e-05</td></tr><tr><td>lr_0</td><td>0.00047</td></tr><tr><td>lr_1</td><td>0.00047</td></tr><tr><td>mom_0</td><td>0.85034</td></tr><tr><td>mom_1</td><td>0.85034</td></tr><tr><td>raw_loss</td><td>0.01554</td></tr><tr><td>sqr_mom_0</td><td>0.99</td></tr><tr><td>sqr_mom_1</td><td>0.99</td></tr><tr><td>train__rmse</td><td>0.14235</td></tr><tr><td>train_loss</td><td>0.03429</td></tr><tr><td>train_mape</td><td>5154401.0</td></tr><tr><td>train_samples_per_sec</td><td>1633.09883</td></tr><tr><td>valid__rmse</td><td>0.26245</td></tr><tr><td>valid_loss</td><td>0.06888</td></tr><tr><td>valid_mape</td><td>22454458.0</td></tr><tr><td>wd_0</td><td>0.01</td></tr><tr><td>wd_1</td><td>0.01</td></tr></table><br/></div></div>"
            ],
            "text/plain": [
              "<IPython.core.display.HTML object>"
            ]
          },
          "metadata": {},
          "output_type": "display_data"
        },
        {
          "data": {
            "text/html": [
              "Synced <strong style=\"color:#cdcd00\">peachy-sweep-10</strong>: <a href=\"https://wandb.ai/ytdteam/ytd-cassandra-forecast/runs/qm21z92v\" target=\"_blank\">https://wandb.ai/ytdteam/ytd-cassandra-forecast/runs/qm21z92v</a><br/>Synced 6 W&B file(s), 1 media file(s), 2 artifact file(s) and 0 other file(s)"
            ],
            "text/plain": [
              "<IPython.core.display.HTML object>"
            ]
          },
          "metadata": {},
          "output_type": "display_data"
        },
        {
          "data": {
            "text/html": [
              "Find logs at: <code>.\\wandb\\run-20221222_001948-qm21z92v\\logs</code>"
            ],
            "text/plain": [
              "<IPython.core.display.HTML object>"
            ]
          },
          "metadata": {},
          "output_type": "display_data"
        },
        {
          "name": "stderr",
          "output_type": "stream",
          "text": [
            "\u001b[34m\u001b[1mwandb\u001b[0m: Agent Starting Run: 07wulf08 with config:\n",
            "\u001b[34m\u001b[1mwandb\u001b[0m: \tarchitecture: InceptionTimePlus\n",
            "\u001b[34m\u001b[1mwandb\u001b[0m: \tbatch_size: 128\n",
            "\u001b[34m\u001b[1mwandb\u001b[0m: \tlook_back: 32\n",
            "Failed to detect the name of this notebook, you can set it manually with the WANDB_NOTEBOOK_NAME environment variable to enable code saving.\n"
          ]
        },
        {
          "data": {
            "text/html": [
              "wandb version 0.13.7 is available!  To upgrade, please run:\n",
              " $ pip install wandb --upgrade"
            ],
            "text/plain": [
              "<IPython.core.display.HTML object>"
            ]
          },
          "metadata": {},
          "output_type": "display_data"
        },
        {
          "data": {
            "text/html": [
              "Tracking run with wandb version 0.13.5"
            ],
            "text/plain": [
              "<IPython.core.display.HTML object>"
            ]
          },
          "metadata": {},
          "output_type": "display_data"
        },
        {
          "data": {
            "text/html": [
              "Run data is saved locally in <code>d:\\git\\cassandra-ai\\notebooks\\wandb\\run-20221222_002315-07wulf08</code>"
            ],
            "text/plain": [
              "<IPython.core.display.HTML object>"
            ]
          },
          "metadata": {},
          "output_type": "display_data"
        },
        {
          "data": {
            "text/html": [
              "Syncing run <strong><a href=\"https://wandb.ai/ytdteam/ytd-cassandra-forecast/runs/07wulf08\" target=\"_blank\">volcanic-sweep-11</a></strong> to <a href=\"https://wandb.ai/ytdteam/ytd-cassandra-forecast\" target=\"_blank\">Weights & Biases</a> (<a href=\"https://wandb.me/run\" target=\"_blank\">docs</a>)<br/>Sweep page:  <a href=\"https://wandb.ai/ytdteam/ytd-cassandra-forecast/sweeps/1ox2invt\" target=\"_blank\">https://wandb.ai/ytdteam/ytd-cassandra-forecast/sweeps/1ox2invt</a>"
            ],
            "text/plain": [
              "<IPython.core.display.HTML object>"
            ]
          },
          "metadata": {},
          "output_type": "display_data"
        },
        {
          "name": "stderr",
          "output_type": "stream",
          "text": [
            "\u001b[34m\u001b[1mwandb\u001b[0m: \u001b[33mWARNING\u001b[0m Ignored wandb.init() arg project when running a sweep.\n",
            "\u001b[34m\u001b[1mwandb\u001b[0m: \u001b[33mWARNING\u001b[0m Ignored wandb.init() arg entity when running a sweep.\n"
          ]
        },
        {
          "data": {
            "text/html": [
              "Finishing last run (ID:07wulf08) before initializing another..."
            ],
            "text/plain": [
              "<IPython.core.display.HTML object>"
            ]
          },
          "metadata": {},
          "output_type": "display_data"
        },
        {
          "data": {
            "text/html": [
              "Waiting for W&B process to finish... <strong style=\"color:green\">(success).</strong>"
            ],
            "text/plain": [
              "<IPython.core.display.HTML object>"
            ]
          },
          "metadata": {},
          "output_type": "display_data"
        }
      ],
      "source": [
        "sweep_config = {\n",
        "    \"metric\": {\"name\": \"valid__rmse\", \"goal\": \"minimize\"},\n",
        "    \"method\": \"bayes\",\n",
        "    \"parameters\": {\n",
        "        \"architecture\": {\"values\": [\"LSTMPlus\", \"InceptionTime\", \"InceptionTimePlus\"]},\n",
        "        \"look_back\": {\"values\": [32, 60, 128]},\n",
        "        \"batch_size\": {\"values\": [32, 64, 128]},\n",
        "    },\n",
        "}\n",
        "\n",
        "sweep_id = wandb.sweep(sweep_config, entity='ytdteam', project=base_config['wandb']['wandb_project'])\n",
        "wandb.agent(sweep_id, run_sweep_experiment)"
      ]
    },
    {
      "cell_type": "code",
      "execution_count": null,
      "metadata": {
        "id": "83rcwVS0HwhI"
      },
      "outputs": [],
      "source": []
    }
  ],
  "metadata": {
    "colab": {
      "private_outputs": true,
      "provenance": []
    },
    "kernelspec": {
      "display_name": "Python 3.8.13 ('di502')",
      "language": "python",
      "name": "python3"
    },
    "language_info": {
      "codemirror_mode": {
        "name": "ipython",
        "version": 3
      },
      "file_extension": ".py",
      "mimetype": "text/x-python",
      "name": "python",
      "nbconvert_exporter": "python",
      "pygments_lexer": "ipython3",
      "version": "3.9.12"
    },
    "vscode": {
      "interpreter": {
        "hash": "b416bf3e6dc7ba7af3fa2d0f4c107c077b7d962e9fcb4ede914d0f5c99edb7a5"
      }
    }
  },
  "nbformat": 4,
  "nbformat_minor": 0
}
