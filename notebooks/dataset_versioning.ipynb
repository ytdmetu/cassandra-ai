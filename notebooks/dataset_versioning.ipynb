{
 "cells": [
  {
   "cell_type": "code",
   "execution_count": null,
   "metadata": {},
   "outputs": [],
   "source": [
    "import wandb\n",
    "\n",
    "# TODO: replace this with wandb API key\n",
    "API_KEY = ''\n",
    "wandb.login(key=API_KEY)\n"
   ]
  },
  {
   "cell_type": "code",
   "execution_count": null,
   "metadata": {},
   "outputs": [],
   "source": [
    "SYMBOL = 'aapl'"
   ]
  },
  {
   "cell_type": "code",
   "execution_count": null,
   "metadata": {},
   "outputs": [],
   "source": [
    "wandb_run = wandb.init(\n",
    "    project='ytd-cassandra-forecast', \n",
    "    entity='ytdteam'\n",
    ")"
   ]
  },
  {
   "cell_type": "code",
   "execution_count": null,
   "metadata": {},
   "outputs": [],
   "source": [
    "data_artifact = wandb.Artifact(f\"{SYMBOL}-stock-price\", type=\"raw_data\")\n",
    "data_artifact.add_file(f\"../datasets/{SYMBOL}.us.txt\")\n",
    "wandb_run.log_artifact(data_artifact)"
   ]
  },
  {
   "cell_type": "code",
   "execution_count": null,
   "metadata": {},
   "outputs": [],
   "source": [
    "data_artifact = wandb.Artifact(f\"{SYMBOL}-stock-price-with-datetime-features\", type=\"raw_data\")\n",
    "data_artifact.add_file(f\"../datasets/{SYMBOL}.us-datetime-features.csv\")\n",
    "wandb_run.log_artifact(data_artifact)"
   ]
  },
  {
   "cell_type": "code",
   "execution_count": null,
   "metadata": {},
   "outputs": [],
   "source": [
    "wandb_run.finish()"
   ]
  },
  {
   "cell_type": "code",
   "execution_count": null,
   "metadata": {},
   "outputs": [],
   "source": []
  }
 ],
 "metadata": {
  "kernelspec": {
   "display_name": "Python 3.8.13 ('di502')",
   "language": "python",
   "name": "python3"
  },
  "language_info": {
   "codemirror_mode": {
    "name": "ipython",
    "version": 3
   },
   "file_extension": ".py",
   "mimetype": "text/x-python",
   "name": "python",
   "nbconvert_exporter": "python",
   "pygments_lexer": "ipython3",
   "version": "3.8.13"
  },
  "orig_nbformat": 4,
  "vscode": {
   "interpreter": {
    "hash": "b416bf3e6dc7ba7af3fa2d0f4c107c077b7d962e9fcb4ede914d0f5c99edb7a5"
   }
  }
 },
 "nbformat": 4,
 "nbformat_minor": 2
}
