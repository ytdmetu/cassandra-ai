{
  "cells": [
    {
      "cell_type": "markdown",
      "metadata": {
        "id": "lSrtND4KEwsw"
      },
      "source": [
        "## Setup"
      ]
    },
    {
      "cell_type": "code",
      "execution_count": 1,
      "metadata": {
        "id": "YwPDn9c2oZxV"
      },
      "outputs": [],
      "source": [
        "!pip install -q holidays"
      ]
    },
    {
      "cell_type": "code",
      "execution_count": 1,
      "metadata": {
        "id": "pgNJUDpp9QwU"
      },
      "outputs": [],
      "source": [
        "import pandas as pd\n",
        "import numpy as np"
      ]
    },
    {
      "cell_type": "code",
      "execution_count": 2,
      "metadata": {
        "id": "8fxwuXStJLLg"
      },
      "outputs": [],
      "source": [
        "def load_stock_price_dataset(symbol):\n",
        "    return pd.read_csv(\n",
        "            f\"../datasets/{symbol.lower()}.us.txt\", \n",
        "            index_col='datetime', \n",
        "            parse_dates={'datetime': ['<DATE>', '<TIME>']},\n",
        "            usecols=['<DATE>', '<TIME>', '<CLOSE>'], \n",
        "            na_values=['nan']\n",
        "    ).rename(columns={'<CLOSE>': 'price'})   "
      ]
    },
    {
      "cell_type": "code",
      "execution_count": 3,
      "metadata": {
        "id": "5ePstb-VwIyg"
      },
      "outputs": [],
      "source": [
        "import datetime\n",
        "import holidays\n",
        "\n",
        "def is_us_holiday(dt):\n",
        "    return dt.strftime('%Y-%m-%d') in holidays.UnitedStates()\n",
        "\n",
        "def extract_datetime_features(ds):\n",
        "    df = pd.DataFrame()\n",
        "    df.index = ds\n",
        "    df['year'] = ds.year\n",
        "    df['month'] = ds.month\n",
        "    df['day'] = ds.day\n",
        "    df['hour'] = ds.hour\n",
        "    df['day_of_year'] = ds.day_of_year\n",
        "    df['week_of_year'] = ds.weekofyear\n",
        "    df['month_name'] = ds.month_name()\n",
        "    df['day_name'] = ds.day_name()\n",
        "    df['is_weekend'] = ((ds.day_of_week == 5) | (ds.day_of_week == 6))\n",
        "    df['is_month_start'] = ds.is_month_start\n",
        "    df['is_quarter_start'] = ds.is_quarter_start\n",
        "    df['is_month_end'] = ds.is_month_end\n",
        "    df['is_year_start'] = ds.is_year_start\n",
        "    # US holidays\n",
        "    df['is_holiday'] = pd.Series(ds.values).apply(is_us_holiday).values\n",
        "    df['is_day_before_holiday'] = pd.Series(ds + datetime.timedelta(days=1)).map(is_us_holiday).values\n",
        "    df['is_day_after_holiday'] = pd.Series(ds - datetime.timedelta(days=1)).map(is_us_holiday).values\n",
        "    return df\n",
        "\n",
        "def add_datetime_features(df):\n",
        "    return pd.concat([extract_datetime_features(df.index), df], axis=1)"
      ]
    },
    {
      "cell_type": "code",
      "execution_count": 5,
      "metadata": {
        "id": "03M4gt8o3cOa"
      },
      "outputs": [],
      "source": [
        "from pandas.api.types import CategoricalDtype\n",
        "\n",
        "ORDINALS_INFO = [\n",
        "    # ('day_of_year', list(range(0, 366))),\n",
        "    # ('week_of_year', list(range(0, 52))),\n",
        "]\n",
        "ORDINALS = [feat for feat, _ in ORDINALS_INFO]\n",
        "\n",
        "NOMINALS = [\n",
        "    'hour',\n",
        "    'month_name',\n",
        "    'day_name',\n",
        "    \"is_weekend\",\n",
        "    \"is_month_start\",\n",
        "    \"is_quarter_start\",\n",
        "    \"is_month_end\",\n",
        "    \"is_year_start\",\n",
        "    \"is_holiday\",\n",
        "    \"is_day_before_holiday\",\n",
        "    \"is_day_after_holiday\",\n",
        "]\n",
        "\n",
        "NUMERICALS = [\n",
        "    'day_of_year', \n",
        "    'week_of_year', \n",
        "    'price'\n",
        "]\n",
        "\n",
        "UNUSED = []\n",
        "\n",
        "TARGET_VAR = 'price'\n",
        "\n",
        "def prepare_dataset(dataf):\n",
        "    dataf = (dataf\n",
        "        .drop(columns=UNUSED, errors='ignore')\n",
        "    )\n",
        "\n",
        "    for col in NUMERICALS:\n",
        "        if col not in dataf.columns:\n",
        "            continue\n",
        "        dataf[col] = dataf[col].astype('float')\n",
        "    \n",
        "    for col, categories in ORDINALS_INFO:\n",
        "        if col not in dataf.columns:\n",
        "            continue\n",
        "        dataf[col] = dataf[col].astype(CategoricalDtype(categories=categories, ordered=True))\n",
        "    \n",
        "    for col in NOMINALS:\n",
        "        if col not in dataf.columns:\n",
        "            continue\n",
        "        dataf[col] = dataf[col].astype('category')\n",
        "    \n",
        "    existing_cols = set(dataf.columns)\n",
        "    col_order =  [col for col in NUMERICALS + ORDINALS + NOMINALS\n",
        "                  if col in existing_cols]\n",
        "    return dataf[col_order]"
      ]
    },
    {
      "cell_type": "code",
      "execution_count": 6,
      "metadata": {
        "colab": {
          "base_uri": "https://localhost:8080/"
        },
        "id": "qdMxIUKUJSKT",
        "outputId": "5052639a-8ce6-4881-cad8-7cf6dbc7cebd"
      },
      "outputs": [
        {
          "name": "stderr",
          "output_type": "stream",
          "text": [
            "/var/folders/qq/b07g696s09j3zdy5chp1xfvh0000gn/T/ipykernel_23674/2960027868.py:15: FutureWarning: weekofyear and week have been deprecated, please use DatetimeIndex.isocalendar().week instead, which returns a Series. To exactly reproduce the behavior of week and weekofyear and return an Index, you may call pd.Int64Index(idx.isocalendar().week)\n",
            "  df['week_of_year'] = ds.weekofyear\n"
          ]
        },
        {
          "name": "stdout",
          "output_type": "stream",
          "text": [
            "<class 'pandas.core.frame.DataFrame'>\n",
            "DatetimeIndex: 1463 entries, 2022-01-25 16:00:00 to 2022-11-21 22:00:00\n",
            "Data columns (total 14 columns):\n",
            " #   Column                 Non-Null Count  Dtype   \n",
            "---  ------                 --------------  -----   \n",
            " 0   day_of_year            1463 non-null   float64 \n",
            " 1   week_of_year           1463 non-null   float64 \n",
            " 2   price                  1463 non-null   float64 \n",
            " 3   hour                   1463 non-null   category\n",
            " 4   month_name             1463 non-null   category\n",
            " 5   day_name               1463 non-null   category\n",
            " 6   is_weekend             1463 non-null   category\n",
            " 7   is_month_start         1463 non-null   category\n",
            " 8   is_quarter_start       1463 non-null   category\n",
            " 9   is_month_end           1463 non-null   category\n",
            " 10  is_year_start          1463 non-null   category\n",
            " 11  is_holiday             1463 non-null   category\n",
            " 12  is_day_before_holiday  1463 non-null   category\n",
            " 13  is_day_after_holiday   1463 non-null   category\n",
            "dtypes: category(11), float64(3)\n",
            "memory usage: 63.3 KB\n"
          ]
        }
      ],
      "source": [
        "SYMBOL = 'META'\n",
        "df = (\n",
        "    load_stock_price_dataset(SYMBOL)\n",
        "    .pipe(add_datetime_features)\n",
        "    .pipe(prepare_dataset)\n",
        ")\n",
        "df.info()"
      ]
    },
    {
      "cell_type": "code",
      "execution_count": 7,
      "metadata": {},
      "outputs": [
        {
          "data": {
            "text/html": [
              "<div>\n",
              "<style scoped>\n",
              "    .dataframe tbody tr th:only-of-type {\n",
              "        vertical-align: middle;\n",
              "    }\n",
              "\n",
              "    .dataframe tbody tr th {\n",
              "        vertical-align: top;\n",
              "    }\n",
              "\n",
              "    .dataframe thead th {\n",
              "        text-align: right;\n",
              "    }\n",
              "</style>\n",
              "<table border=\"1\" class=\"dataframe\">\n",
              "  <thead>\n",
              "    <tr style=\"text-align: right;\">\n",
              "      <th></th>\n",
              "      <th>day_of_year</th>\n",
              "      <th>week_of_year</th>\n",
              "      <th>price</th>\n",
              "      <th>hour</th>\n",
              "      <th>month_name</th>\n",
              "      <th>day_name</th>\n",
              "      <th>is_weekend</th>\n",
              "      <th>is_month_start</th>\n",
              "      <th>is_quarter_start</th>\n",
              "      <th>is_month_end</th>\n",
              "      <th>is_year_start</th>\n",
              "      <th>is_holiday</th>\n",
              "      <th>is_day_before_holiday</th>\n",
              "      <th>is_day_after_holiday</th>\n",
              "    </tr>\n",
              "    <tr>\n",
              "      <th>datetime</th>\n",
              "      <th></th>\n",
              "      <th></th>\n",
              "      <th></th>\n",
              "      <th></th>\n",
              "      <th></th>\n",
              "      <th></th>\n",
              "      <th></th>\n",
              "      <th></th>\n",
              "      <th></th>\n",
              "      <th></th>\n",
              "      <th></th>\n",
              "      <th></th>\n",
              "      <th></th>\n",
              "      <th></th>\n",
              "    </tr>\n",
              "  </thead>\n",
              "  <tbody>\n",
              "    <tr>\n",
              "      <th>2022-01-25 16:00:00</th>\n",
              "      <td>25.0</td>\n",
              "      <td>4.0</td>\n",
              "      <td>299.440</td>\n",
              "      <td>16</td>\n",
              "      <td>January</td>\n",
              "      <td>Tuesday</td>\n",
              "      <td>False</td>\n",
              "      <td>False</td>\n",
              "      <td>False</td>\n",
              "      <td>False</td>\n",
              "      <td>False</td>\n",
              "      <td>False</td>\n",
              "      <td>False</td>\n",
              "      <td>False</td>\n",
              "    </tr>\n",
              "    <tr>\n",
              "      <th>2022-01-25 17:00:00</th>\n",
              "      <td>25.0</td>\n",
              "      <td>4.0</td>\n",
              "      <td>301.559</td>\n",
              "      <td>17</td>\n",
              "      <td>January</td>\n",
              "      <td>Tuesday</td>\n",
              "      <td>False</td>\n",
              "      <td>False</td>\n",
              "      <td>False</td>\n",
              "      <td>False</td>\n",
              "      <td>False</td>\n",
              "      <td>False</td>\n",
              "      <td>False</td>\n",
              "      <td>False</td>\n",
              "    </tr>\n",
              "    <tr>\n",
              "      <th>2022-01-25 18:00:00</th>\n",
              "      <td>25.0</td>\n",
              "      <td>4.0</td>\n",
              "      <td>299.120</td>\n",
              "      <td>18</td>\n",
              "      <td>January</td>\n",
              "      <td>Tuesday</td>\n",
              "      <td>False</td>\n",
              "      <td>False</td>\n",
              "      <td>False</td>\n",
              "      <td>False</td>\n",
              "      <td>False</td>\n",
              "      <td>False</td>\n",
              "      <td>False</td>\n",
              "      <td>False</td>\n",
              "    </tr>\n",
              "    <tr>\n",
              "      <th>2022-01-25 19:00:00</th>\n",
              "      <td>25.0</td>\n",
              "      <td>4.0</td>\n",
              "      <td>301.340</td>\n",
              "      <td>19</td>\n",
              "      <td>January</td>\n",
              "      <td>Tuesday</td>\n",
              "      <td>False</td>\n",
              "      <td>False</td>\n",
              "      <td>False</td>\n",
              "      <td>False</td>\n",
              "      <td>False</td>\n",
              "      <td>False</td>\n",
              "      <td>False</td>\n",
              "      <td>False</td>\n",
              "    </tr>\n",
              "    <tr>\n",
              "      <th>2022-01-25 20:00:00</th>\n",
              "      <td>25.0</td>\n",
              "      <td>4.0</td>\n",
              "      <td>304.500</td>\n",
              "      <td>20</td>\n",
              "      <td>January</td>\n",
              "      <td>Tuesday</td>\n",
              "      <td>False</td>\n",
              "      <td>False</td>\n",
              "      <td>False</td>\n",
              "      <td>False</td>\n",
              "      <td>False</td>\n",
              "      <td>False</td>\n",
              "      <td>False</td>\n",
              "      <td>False</td>\n",
              "    </tr>\n",
              "  </tbody>\n",
              "</table>\n",
              "</div>"
            ],
            "text/plain": [
              "                     day_of_year  week_of_year    price hour month_name  \\\n",
              "datetime                                                                  \n",
              "2022-01-25 16:00:00         25.0           4.0  299.440   16    January   \n",
              "2022-01-25 17:00:00         25.0           4.0  301.559   17    January   \n",
              "2022-01-25 18:00:00         25.0           4.0  299.120   18    January   \n",
              "2022-01-25 19:00:00         25.0           4.0  301.340   19    January   \n",
              "2022-01-25 20:00:00         25.0           4.0  304.500   20    January   \n",
              "\n",
              "                    day_name is_weekend is_month_start is_quarter_start  \\\n",
              "datetime                                                                  \n",
              "2022-01-25 16:00:00  Tuesday      False          False            False   \n",
              "2022-01-25 17:00:00  Tuesday      False          False            False   \n",
              "2022-01-25 18:00:00  Tuesday      False          False            False   \n",
              "2022-01-25 19:00:00  Tuesday      False          False            False   \n",
              "2022-01-25 20:00:00  Tuesday      False          False            False   \n",
              "\n",
              "                    is_month_end is_year_start is_holiday  \\\n",
              "datetime                                                    \n",
              "2022-01-25 16:00:00        False         False      False   \n",
              "2022-01-25 17:00:00        False         False      False   \n",
              "2022-01-25 18:00:00        False         False      False   \n",
              "2022-01-25 19:00:00        False         False      False   \n",
              "2022-01-25 20:00:00        False         False      False   \n",
              "\n",
              "                    is_day_before_holiday is_day_after_holiday  \n",
              "datetime                                                        \n",
              "2022-01-25 16:00:00                 False                False  \n",
              "2022-01-25 17:00:00                 False                False  \n",
              "2022-01-25 18:00:00                 False                False  \n",
              "2022-01-25 19:00:00                 False                False  \n",
              "2022-01-25 20:00:00                 False                False  "
            ]
          },
          "execution_count": 7,
          "metadata": {},
          "output_type": "execute_result"
        }
      ],
      "source": [
        "df.head()"
      ]
    },
    {
      "cell_type": "code",
      "execution_count": 11,
      "metadata": {},
      "outputs": [],
      "source": [
        "df.to_csv('../datasets/meta.us-datetime-features.csv')"
      ]
    }
  ],
  "metadata": {
    "colab": {
      "provenance": []
    },
    "kernelspec": {
      "display_name": "Python 3.8.13 ('di502')",
      "language": "python",
      "name": "python3"
    },
    "language_info": {
      "codemirror_mode": {
        "name": "ipython",
        "version": 3
      },
      "file_extension": ".py",
      "mimetype": "text/x-python",
      "name": "python",
      "nbconvert_exporter": "python",
      "pygments_lexer": "ipython3",
      "version": "3.8.13"
    },
    "vscode": {
      "interpreter": {
        "hash": "b416bf3e6dc7ba7af3fa2d0f4c107c077b7d962e9fcb4ede914d0f5c99edb7a5"
      }
    }
  },
  "nbformat": 4,
  "nbformat_minor": 0
}
