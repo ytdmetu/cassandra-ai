{
  "cells": [
    {
      "cell_type": "markdown",
      "metadata": {
        "id": "lSrtND4KEwsw"
      },
      "source": [
        "## Setup"
      ]
    },
    {
      "cell_type": "code",
      "execution_count": 1,
      "metadata": {
        "id": "YwPDn9c2oZxV"
      },
      "outputs": [],
      "source": [
        "!pip install -q holidays"
      ]
    },
    {
      "cell_type": "code",
      "execution_count": 1,
      "metadata": {
        "id": "pgNJUDpp9QwU"
      },
      "outputs": [],
      "source": [
        "import pandas as pd\n",
        "import numpy as np"
      ]
    },
    {
      "cell_type": "code",
      "execution_count": 2,
      "metadata": {
        "id": "8fxwuXStJLLg"
      },
      "outputs": [],
      "source": [
        "def load_stock_price_dataset(symbol):\n",
        "    return pd.read_csv(\n",
        "            f\"../datasets/{symbol.lower()}.us.txt\", \n",
        "            index_col='datetime', \n",
        "            parse_dates={'datetime': ['<DATE>', '<TIME>']},\n",
        "            usecols=['<DATE>', '<TIME>', '<CLOSE>'], \n",
        "            na_values=['nan']\n",
        "    ).rename(columns={'<CLOSE>': 'price'})   "
      ]
    },
    {
      "cell_type": "code",
      "execution_count": 4,
      "metadata": {},
      "outputs": [],
      "source": [
        "import datetime\n",
        "import holidays\n",
        "\n",
        "def is_us_holiday(dt):\n",
        "    return dt.strftime('%Y-%m-%d') in holidays.UnitedStates()\n",
        "\n",
        "def extract_datetime_features(ds):\n",
        "    df = pd.DataFrame()\n",
        "    df.index = ds\n",
        "    df['year'] = ds.year\n",
        "    df['month'] = ds.month\n",
        "    df['day'] = ds.day\n",
        "    df['hour'] = ds.hour\n",
        "    df['day_of_year'] = ds.day_of_year\n",
        "    df['week_of_year'] = ds.weekofyear\n",
        "    df['month_name'] = ds.month_name()\n",
        "    df['day_name'] = ds.day_name()\n",
        "    df['is_weekend'] = ((ds.day_of_week == 5) | (ds.day_of_week == 6))\n",
        "    df['is_month_start'] = ds.is_month_start\n",
        "    df['is_quarter_start'] = ds.is_quarter_start\n",
        "    df['is_month_end'] = ds.is_month_end\n",
        "    df['is_year_start'] = ds.is_year_start\n",
        "    # US holidays\n",
        "    us_holidays = holidays.UnitedStates()\n",
        "    df['is_holiday'] = pd.Series(ds.values).apply(is_us_holiday).values\n",
        "    df['is_day_before_holiday'] = pd.Series(ds + datetime.timedelta(days=1)).map(is_us_holiday).values\n",
        "    df['is_day_after_holiday'] = pd.Series(ds - datetime.timedelta(days=1)).map(is_us_holiday).values\n",
        "    return df\n",
        "\n",
        "def add_datetime_features(df):\n",
        "    return pd.concat([extract_datetime_features(df.index), df], axis=1)"
      ]
    },
    {
      "cell_type": "code",
      "execution_count": 5,
      "metadata": {
        "colab": {
          "base_uri": "https://localhost:8080/"
        },
        "id": "qdMxIUKUJSKT",
        "outputId": "5052639a-8ce6-4881-cad8-7cf6dbc7cebd"
      },
      "outputs": [
        {
          "name": "stderr",
          "output_type": "stream",
          "text": [
            "/var/folders/qq/b07g696s09j3zdy5chp1xfvh0000gn/T/ipykernel_45829/2590271826.py:15: FutureWarning: weekofyear and week have been deprecated, please use DatetimeIndex.isocalendar().week instead, which returns a Series. To exactly reproduce the behavior of week and weekofyear and return an Index, you may call pd.Int64Index(idx.isocalendar().week)\n",
            "  df['week_of_year'] = ds.weekofyear\n"
          ]
        },
        {
          "name": "stdout",
          "output_type": "stream",
          "text": [
            "<class 'pandas.core.frame.DataFrame'>\n",
            "DatetimeIndex: 1454 entries, 2022-02-16 16:00:00 to 2022-12-13 22:00:00\n",
            "Data columns (total 17 columns):\n",
            " #   Column                 Non-Null Count  Dtype  \n",
            "---  ------                 --------------  -----  \n",
            " 0   year                   1454 non-null   int64  \n",
            " 1   month                  1454 non-null   int64  \n",
            " 2   day                    1454 non-null   int64  \n",
            " 3   hour                   1454 non-null   int64  \n",
            " 4   day_of_year            1454 non-null   int64  \n",
            " 5   week_of_year           1454 non-null   int64  \n",
            " 6   month_name             1454 non-null   object \n",
            " 7   day_name               1454 non-null   object \n",
            " 8   is_weekend             1454 non-null   bool   \n",
            " 9   is_month_start         1454 non-null   bool   \n",
            " 10  is_quarter_start       1454 non-null   bool   \n",
            " 11  is_month_end           1454 non-null   bool   \n",
            " 12  is_year_start          1454 non-null   bool   \n",
            " 13  is_holiday             1454 non-null   bool   \n",
            " 14  is_day_before_holiday  1454 non-null   bool   \n",
            " 15  is_day_after_holiday   1454 non-null   bool   \n",
            " 16  price                  1454 non-null   float64\n",
            "dtypes: bool(8), float64(1), int64(6), object(2)\n",
            "memory usage: 125.0+ KB\n"
          ]
        }
      ],
      "source": [
        "SYMBOL = 'META'\n",
        "df = (\n",
        "    load_stock_price_dataset(SYMBOL)\n",
        "    .pipe(add_datetime_features)\n",
        ")\n",
        "df.info()"
      ]
    },
    {
      "cell_type": "code",
      "execution_count": 6,
      "metadata": {},
      "outputs": [
        {
          "data": {
            "text/html": [
              "<div>\n",
              "<style scoped>\n",
              "    .dataframe tbody tr th:only-of-type {\n",
              "        vertical-align: middle;\n",
              "    }\n",
              "\n",
              "    .dataframe tbody tr th {\n",
              "        vertical-align: top;\n",
              "    }\n",
              "\n",
              "    .dataframe thead th {\n",
              "        text-align: right;\n",
              "    }\n",
              "</style>\n",
              "<table border=\"1\" class=\"dataframe\">\n",
              "  <thead>\n",
              "    <tr style=\"text-align: right;\">\n",
              "      <th></th>\n",
              "      <th>year</th>\n",
              "      <th>month</th>\n",
              "      <th>day</th>\n",
              "      <th>hour</th>\n",
              "      <th>day_of_year</th>\n",
              "      <th>week_of_year</th>\n",
              "      <th>month_name</th>\n",
              "      <th>day_name</th>\n",
              "      <th>is_weekend</th>\n",
              "      <th>is_month_start</th>\n",
              "      <th>is_quarter_start</th>\n",
              "      <th>is_month_end</th>\n",
              "      <th>is_year_start</th>\n",
              "      <th>is_holiday</th>\n",
              "      <th>is_day_before_holiday</th>\n",
              "      <th>is_day_after_holiday</th>\n",
              "      <th>price</th>\n",
              "    </tr>\n",
              "    <tr>\n",
              "      <th>datetime</th>\n",
              "      <th></th>\n",
              "      <th></th>\n",
              "      <th></th>\n",
              "      <th></th>\n",
              "      <th></th>\n",
              "      <th></th>\n",
              "      <th></th>\n",
              "      <th></th>\n",
              "      <th></th>\n",
              "      <th></th>\n",
              "      <th></th>\n",
              "      <th></th>\n",
              "      <th></th>\n",
              "      <th></th>\n",
              "      <th></th>\n",
              "      <th></th>\n",
              "      <th></th>\n",
              "    </tr>\n",
              "  </thead>\n",
              "  <tbody>\n",
              "    <tr>\n",
              "      <th>2022-02-16 16:00:00</th>\n",
              "      <td>2022</td>\n",
              "      <td>2</td>\n",
              "      <td>16</td>\n",
              "      <td>16</td>\n",
              "      <td>47</td>\n",
              "      <td>7</td>\n",
              "      <td>February</td>\n",
              "      <td>Wednesday</td>\n",
              "      <td>False</td>\n",
              "      <td>False</td>\n",
              "      <td>False</td>\n",
              "      <td>False</td>\n",
              "      <td>False</td>\n",
              "      <td>False</td>\n",
              "      <td>False</td>\n",
              "      <td>False</td>\n",
              "      <td>215.050</td>\n",
              "    </tr>\n",
              "    <tr>\n",
              "      <th>2022-02-16 17:00:00</th>\n",
              "      <td>2022</td>\n",
              "      <td>2</td>\n",
              "      <td>16</td>\n",
              "      <td>17</td>\n",
              "      <td>47</td>\n",
              "      <td>7</td>\n",
              "      <td>February</td>\n",
              "      <td>Wednesday</td>\n",
              "      <td>False</td>\n",
              "      <td>False</td>\n",
              "      <td>False</td>\n",
              "      <td>False</td>\n",
              "      <td>False</td>\n",
              "      <td>False</td>\n",
              "      <td>False</td>\n",
              "      <td>False</td>\n",
              "      <td>215.848</td>\n",
              "    </tr>\n",
              "    <tr>\n",
              "      <th>2022-02-16 18:00:00</th>\n",
              "      <td>2022</td>\n",
              "      <td>2</td>\n",
              "      <td>16</td>\n",
              "      <td>18</td>\n",
              "      <td>47</td>\n",
              "      <td>7</td>\n",
              "      <td>February</td>\n",
              "      <td>Wednesday</td>\n",
              "      <td>False</td>\n",
              "      <td>False</td>\n",
              "      <td>False</td>\n",
              "      <td>False</td>\n",
              "      <td>False</td>\n",
              "      <td>False</td>\n",
              "      <td>False</td>\n",
              "      <td>False</td>\n",
              "      <td>215.300</td>\n",
              "    </tr>\n",
              "    <tr>\n",
              "      <th>2022-02-16 19:00:00</th>\n",
              "      <td>2022</td>\n",
              "      <td>2</td>\n",
              "      <td>16</td>\n",
              "      <td>19</td>\n",
              "      <td>47</td>\n",
              "      <td>7</td>\n",
              "      <td>February</td>\n",
              "      <td>Wednesday</td>\n",
              "      <td>False</td>\n",
              "      <td>False</td>\n",
              "      <td>False</td>\n",
              "      <td>False</td>\n",
              "      <td>False</td>\n",
              "      <td>False</td>\n",
              "      <td>False</td>\n",
              "      <td>False</td>\n",
              "      <td>214.740</td>\n",
              "    </tr>\n",
              "    <tr>\n",
              "      <th>2022-02-16 20:00:00</th>\n",
              "      <td>2022</td>\n",
              "      <td>2</td>\n",
              "      <td>16</td>\n",
              "      <td>20</td>\n",
              "      <td>47</td>\n",
              "      <td>7</td>\n",
              "      <td>February</td>\n",
              "      <td>Wednesday</td>\n",
              "      <td>False</td>\n",
              "      <td>False</td>\n",
              "      <td>False</td>\n",
              "      <td>False</td>\n",
              "      <td>False</td>\n",
              "      <td>False</td>\n",
              "      <td>False</td>\n",
              "      <td>False</td>\n",
              "      <td>214.000</td>\n",
              "    </tr>\n",
              "  </tbody>\n",
              "</table>\n",
              "</div>"
            ],
            "text/plain": [
              "                     year  month  day  hour  day_of_year  week_of_year  \\\n",
              "datetime                                                                 \n",
              "2022-02-16 16:00:00  2022      2   16    16           47             7   \n",
              "2022-02-16 17:00:00  2022      2   16    17           47             7   \n",
              "2022-02-16 18:00:00  2022      2   16    18           47             7   \n",
              "2022-02-16 19:00:00  2022      2   16    19           47             7   \n",
              "2022-02-16 20:00:00  2022      2   16    20           47             7   \n",
              "\n",
              "                    month_name   day_name  is_weekend  is_month_start  \\\n",
              "datetime                                                                \n",
              "2022-02-16 16:00:00   February  Wednesday       False           False   \n",
              "2022-02-16 17:00:00   February  Wednesday       False           False   \n",
              "2022-02-16 18:00:00   February  Wednesday       False           False   \n",
              "2022-02-16 19:00:00   February  Wednesday       False           False   \n",
              "2022-02-16 20:00:00   February  Wednesday       False           False   \n",
              "\n",
              "                     is_quarter_start  is_month_end  is_year_start  \\\n",
              "datetime                                                             \n",
              "2022-02-16 16:00:00             False         False          False   \n",
              "2022-02-16 17:00:00             False         False          False   \n",
              "2022-02-16 18:00:00             False         False          False   \n",
              "2022-02-16 19:00:00             False         False          False   \n",
              "2022-02-16 20:00:00             False         False          False   \n",
              "\n",
              "                     is_holiday  is_day_before_holiday  is_day_after_holiday  \\\n",
              "datetime                                                                       \n",
              "2022-02-16 16:00:00       False                  False                 False   \n",
              "2022-02-16 17:00:00       False                  False                 False   \n",
              "2022-02-16 18:00:00       False                  False                 False   \n",
              "2022-02-16 19:00:00       False                  False                 False   \n",
              "2022-02-16 20:00:00       False                  False                 False   \n",
              "\n",
              "                       price  \n",
              "datetime                      \n",
              "2022-02-16 16:00:00  215.050  \n",
              "2022-02-16 17:00:00  215.848  \n",
              "2022-02-16 18:00:00  215.300  \n",
              "2022-02-16 19:00:00  214.740  \n",
              "2022-02-16 20:00:00  214.000  "
            ]
          },
          "execution_count": 6,
          "metadata": {},
          "output_type": "execute_result"
        }
      ],
      "source": [
        "df.head()"
      ]
    },
    {
      "cell_type": "code",
      "execution_count": 7,
      "metadata": {},
      "outputs": [],
      "source": [
        "df.to_csv('../datasets/meta.us-datetime-features.csv')"
      ]
    },
    {
      "cell_type": "code",
      "execution_count": null,
      "metadata": {},
      "outputs": [],
      "source": []
    }
  ],
  "metadata": {
    "colab": {
      "provenance": []
    },
    "kernelspec": {
      "display_name": "Python 3.8.13 ('di502')",
      "language": "python",
      "name": "python3"
    },
    "language_info": {
      "codemirror_mode": {
        "name": "ipython",
        "version": 3
      },
      "file_extension": ".py",
      "mimetype": "text/x-python",
      "name": "python",
      "nbconvert_exporter": "python",
      "pygments_lexer": "ipython3",
      "version": "3.8.13"
    },
    "vscode": {
      "interpreter": {
        "hash": "b416bf3e6dc7ba7af3fa2d0f4c107c077b7d962e9fcb4ede914d0f5c99edb7a5"
      }
    }
  },
  "nbformat": 4,
  "nbformat_minor": 0
}
