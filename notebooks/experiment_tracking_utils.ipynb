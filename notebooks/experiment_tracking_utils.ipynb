{
 "cells": [
  {
   "cell_type": "code",
   "execution_count": 1,
   "metadata": {},
   "outputs": [],
   "source": [
    "from pathlib import Path\n",
    "import wandb\n",
    "import pickle\n",
    "import torch\n",
    "\n",
    "def log_file_artifact(wandb_run, path, name, type):\n",
    "    artifact = wandb.Artifact(name, type=type)\n",
    "    artifact.add_file(path)\n",
    "    return wandb_run.log_artifact(artifact)\n",
    "\n",
    "exports_path = Path('./exports')\n",
    "exports_path.mkdir(parents=True, exist_ok=True)\n",
    "\n",
    "def log_model_state(wandb_run, model):\n",
    "    path = exports_path / 'model-state.pt'\n",
    "    torch.save(model.state_dict(), path)\n",
    "    log_file_artifact(wandb_run, path, 'model-state', type='model')\n",
    "    return path\n",
    "\n",
    "def log_learner(wandb_run, learn):\n",
    "    path = exports_path / 'learn.pkl'\n",
    "    learn.export(path)\n",
    "    log_file_artifact(wandb_run, path, 'learn', type='model')\n",
    "    return path\n",
    "\n",
    "def log_preprocessor(wandb_run, pp, name):\n",
    "    path = exports_path / f'{name}.pkl'\n",
    "    with open(path, 'wb') as f:\n",
    "        pickle.dump(pp, f)\n",
    "    log_file_artifact(wandb_run, path, name, type='preprocessor')\n",
    "    return path\n"
   ]
  },
  {
   "cell_type": "code",
   "execution_count": null,
   "metadata": {},
   "outputs": [],
   "source": []
  }
 ],
 "metadata": {
  "kernelspec": {
   "display_name": "Python 3.8.13 ('di502')",
   "language": "python",
   "name": "python3"
  },
  "language_info": {
   "codemirror_mode": {
    "name": "ipython",
    "version": 3
   },
   "file_extension": ".py",
   "mimetype": "text/x-python",
   "name": "python",
   "nbconvert_exporter": "python",
   "pygments_lexer": "ipython3",
   "version": "3.8.13"
  },
  "orig_nbformat": 4,
  "vscode": {
   "interpreter": {
    "hash": "b416bf3e6dc7ba7af3fa2d0f4c107c077b7d962e9fcb4ede914d0f5c99edb7a5"
   }
  }
 },
 "nbformat": 4,
 "nbformat_minor": 2
}
