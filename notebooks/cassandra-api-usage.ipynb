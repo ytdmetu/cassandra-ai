{
 "cells": [
  {
   "cell_type": "code",
   "execution_count": null,
   "metadata": {},
   "outputs": [],
   "source": [
    "from pprint import pprint\n",
    "import requests\n",
    "\n",
    "forecast_endpoint = 'http://127.0.0.1:8000/forecast'\n",
    "payload = {\n",
    "    \"stock\": \"META\",\n",
    "    \"start_date\": \"2022-11-02\",\n",
    "    \"end_date\": \"2022-11-09\",\n",
    "    \"interval\": \"1h\",\n",
    "    \"n_forecast\": 12\n",
    "}\n",
    "res = requests.post(forecast_endpoint, json=payload)\n",
    "print(res.status_code)\n",
    "pprint(res.json())"
   ]
  }
 ],
 "metadata": {
  "kernelspec": {
   "display_name": "Python 3.8.13 ('di502')",
   "language": "python",
   "name": "python3"
  },
  "language_info": {
   "codemirror_mode": {
    "name": "ipython",
    "version": 3
   },
   "file_extension": ".py",
   "mimetype": "text/x-python",
   "name": "python",
   "nbconvert_exporter": "python",
   "pygments_lexer": "ipython3",
   "version": "3.8.13"
  },
  "orig_nbformat": 4,
  "vscode": {
   "interpreter": {
    "hash": "b416bf3e6dc7ba7af3fa2d0f4c107c077b7d962e9fcb4ede914d0f5c99edb7a5"
   }
  }
 },
 "nbformat": 4,
 "nbformat_minor": 2
}
