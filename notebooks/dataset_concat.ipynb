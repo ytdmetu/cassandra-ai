{
 "cells": [
  {
   "attachments": {},
   "cell_type": "markdown",
   "metadata": {},
   "source": [
    "Concatenates two historical stock price datasets according to datetime so that we have a larger dataset from what stooq.com provides."
   ]
  },
  {
   "cell_type": "code",
   "execution_count": 5,
   "metadata": {},
   "outputs": [],
   "source": [
    "import pandas as pd\n",
    "\n",
    "def merge(df1, df2):\n",
    "   idx = df1[(df1['<DATE>'] == df2.iloc[0]['<DATE>']) & (df1['<TIME>'] == df2.iloc[0]['<TIME>'])].index[0]\n",
    "   return pd.concat([df1.iloc[:idx-1], df2], axis=0)"
   ]
  },
  {
   "cell_type": "code",
   "execution_count": 6,
   "metadata": {},
   "outputs": [],
   "source": [
    "def export(df):\n",
    "    start_date = df['<DATE>'].values[0]\n",
    "    end_date = df['<DATE>'].values[-1]\n",
    "    filename = f\"meta-stock-price-hourly-{start_date}-{end_date}.csv\"\n",
    "    filepath = f\"../datasets/{filename}\"\n",
    "    df.to_csv(filepath, index=False)"
   ]
  },
  {
   "cell_type": "code",
   "execution_count": 15,
   "metadata": {},
   "outputs": [],
   "source": [
    "df1 = pd.read_csv('../datasets/stock-price-meta-hourly-20211230-20221026.txt')\n",
    "df2 = pd.read_csv('../datasets/90c7a62d71379c40ddbd619be449c766.txt')\n",
    "df = merge(df1, df2)\n",
    "export(df)"
   ]
  },
  {
   "cell_type": "code",
   "execution_count": 16,
   "metadata": {},
   "outputs": [
    {
     "data": {
      "text/plain": [
       "(1456, 1454, 1684)"
      ]
     },
     "execution_count": 16,
     "metadata": {},
     "output_type": "execute_result"
    }
   ],
   "source": [
    "len(df1), len(df2), len(df)"
   ]
  },
  {
   "cell_type": "code",
   "execution_count": 17,
   "metadata": {},
   "outputs": [
    {
     "data": {
      "text/plain": [
       "<TICKER>      META.US\n",
       "<PER>              60\n",
       "<DATE>       20211230\n",
       "<TIME>         160000\n",
       "<OPEN>          344.0\n",
       "<HIGH>          345.7\n",
       "<LOW>          343.22\n",
       "<CLOSE>       345.275\n",
       "<VOL>         1227974\n",
       "<OPENINT>           0\n",
       "Name: 0, dtype: object"
      ]
     },
     "execution_count": 17,
     "metadata": {},
     "output_type": "execute_result"
    }
   ],
   "source": [
    "df1.iloc[0]"
   ]
  },
  {
   "cell_type": "code",
   "execution_count": 18,
   "metadata": {},
   "outputs": [
    {
     "data": {
      "text/plain": [
       "(<DATE>    20211230\n",
       " <TIME>      160000\n",
       " Name: 0, dtype: object,\n",
       " <DATE>    20221213\n",
       " <TIME>      220000\n",
       " Name: 1453, dtype: object)"
      ]
     },
     "execution_count": 18,
     "metadata": {},
     "output_type": "execute_result"
    }
   ],
   "source": [
    "df.iloc[0][['<DATE>', '<TIME>']], df.iloc[-1][['<DATE>', '<TIME>']]"
   ]
  },
  {
   "cell_type": "code",
   "execution_count": 19,
   "metadata": {},
   "outputs": [],
   "source": [
    "export(df)"
   ]
  },
  {
   "cell_type": "code",
   "execution_count": null,
   "metadata": {},
   "outputs": [],
   "source": []
  }
 ],
 "metadata": {
  "kernelspec": {
   "display_name": "di502",
   "language": "python",
   "name": "python3"
  },
  "language_info": {
   "codemirror_mode": {
    "name": "ipython",
    "version": 3
   },
   "file_extension": ".py",
   "mimetype": "text/x-python",
   "name": "python",
   "nbconvert_exporter": "python",
   "pygments_lexer": "ipython3",
   "version": "3.8.13"
  },
  "orig_nbformat": 4,
  "vscode": {
   "interpreter": {
    "hash": "b416bf3e6dc7ba7af3fa2d0f4c107c077b7d962e9fcb4ede914d0f5c99edb7a5"
   }
  }
 },
 "nbformat": 4,
 "nbformat_minor": 2
}
